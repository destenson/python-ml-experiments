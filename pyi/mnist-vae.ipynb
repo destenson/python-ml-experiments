{
  "nbformat": 4,
  "nbformat_minor": 0,
  "metadata": {
    "colab": {
      "provenance": [],
      "collapsed_sections": [
        "LZO4-id6BJK1",
        "rRL-ctP6BO3W",
        "Z-XX6mZtBSx4"
      ],
      "machine_shape": "hm",
      "gpuType": "L4"
    },
    "kernelspec": {
      "name": "python3",
      "display_name": "Python 3"
    },
    "language_info": {
      "name": "python"
    },
    "accelerator": "GPU",
    "widgets": {
      "application/vnd.jupyter.widget-state+json": {
        "735e3a092f294dffac8dbec476a4ee71": {
          "model_module": "@jupyter-widgets/controls",
          "model_name": "HBoxModel",
          "model_module_version": "1.5.0",
          "state": {
            "_dom_classes": [],
            "_model_module": "@jupyter-widgets/controls",
            "_model_module_version": "1.5.0",
            "_model_name": "HBoxModel",
            "_view_count": null,
            "_view_module": "@jupyter-widgets/controls",
            "_view_module_version": "1.5.0",
            "_view_name": "HBoxView",
            "box_style": "",
            "children": [
              "IPY_MODEL_322ee6ae67484235a0f924ba87716e14",
              "IPY_MODEL_bdbc6c7774404b0a885c781d47b9436a",
              "IPY_MODEL_674877dc66e44b3cb0d293d691f8aa6a"
            ],
            "layout": "IPY_MODEL_935b0f15267d494a91c5b31239091b8f"
          }
        },
        "322ee6ae67484235a0f924ba87716e14": {
          "model_module": "@jupyter-widgets/controls",
          "model_name": "HTMLModel",
          "model_module_version": "1.5.0",
          "state": {
            "_dom_classes": [],
            "_model_module": "@jupyter-widgets/controls",
            "_model_module_version": "1.5.0",
            "_model_name": "HTMLModel",
            "_view_count": null,
            "_view_module": "@jupyter-widgets/controls",
            "_view_module_version": "1.5.0",
            "_view_name": "HTMLView",
            "description": "",
            "description_tooltip": null,
            "layout": "IPY_MODEL_c79989a8126e414a91fe6727ed8a3dd7",
            "placeholder": "​",
            "style": "IPY_MODEL_401ff9d7dedc42158a4456044f499607",
            "value": "Dl Completed...: 100%"
          }
        },
        "bdbc6c7774404b0a885c781d47b9436a": {
          "model_module": "@jupyter-widgets/controls",
          "model_name": "FloatProgressModel",
          "model_module_version": "1.5.0",
          "state": {
            "_dom_classes": [],
            "_model_module": "@jupyter-widgets/controls",
            "_model_module_version": "1.5.0",
            "_model_name": "FloatProgressModel",
            "_view_count": null,
            "_view_module": "@jupyter-widgets/controls",
            "_view_module_version": "1.5.0",
            "_view_name": "ProgressView",
            "bar_style": "success",
            "description": "",
            "description_tooltip": null,
            "layout": "IPY_MODEL_66acca59524c443aa0d6ab3ae32417e1",
            "max": 5,
            "min": 0,
            "orientation": "horizontal",
            "style": "IPY_MODEL_11857a165c1947da8e246655c96250a9",
            "value": 5
          }
        },
        "674877dc66e44b3cb0d293d691f8aa6a": {
          "model_module": "@jupyter-widgets/controls",
          "model_name": "HTMLModel",
          "model_module_version": "1.5.0",
          "state": {
            "_dom_classes": [],
            "_model_module": "@jupyter-widgets/controls",
            "_model_module_version": "1.5.0",
            "_model_name": "HTMLModel",
            "_view_count": null,
            "_view_module": "@jupyter-widgets/controls",
            "_view_module_version": "1.5.0",
            "_view_name": "HTMLView",
            "description": "",
            "description_tooltip": null,
            "layout": "IPY_MODEL_154fd01ef02a4431843dee2069c1b90e",
            "placeholder": "​",
            "style": "IPY_MODEL_02c196c91a4044b9bd862a045d9903a8",
            "value": " 5/5 [00:05&lt;00:00,  1.33s/ file]"
          }
        },
        "935b0f15267d494a91c5b31239091b8f": {
          "model_module": "@jupyter-widgets/base",
          "model_name": "LayoutModel",
          "model_module_version": "1.2.0",
          "state": {
            "_model_module": "@jupyter-widgets/base",
            "_model_module_version": "1.2.0",
            "_model_name": "LayoutModel",
            "_view_count": null,
            "_view_module": "@jupyter-widgets/base",
            "_view_module_version": "1.2.0",
            "_view_name": "LayoutView",
            "align_content": null,
            "align_items": null,
            "align_self": null,
            "border": null,
            "bottom": null,
            "display": null,
            "flex": null,
            "flex_flow": null,
            "grid_area": null,
            "grid_auto_columns": null,
            "grid_auto_flow": null,
            "grid_auto_rows": null,
            "grid_column": null,
            "grid_gap": null,
            "grid_row": null,
            "grid_template_areas": null,
            "grid_template_columns": null,
            "grid_template_rows": null,
            "height": null,
            "justify_content": null,
            "justify_items": null,
            "left": null,
            "margin": null,
            "max_height": null,
            "max_width": null,
            "min_height": null,
            "min_width": null,
            "object_fit": null,
            "object_position": null,
            "order": null,
            "overflow": null,
            "overflow_x": null,
            "overflow_y": null,
            "padding": null,
            "right": null,
            "top": null,
            "visibility": null,
            "width": null
          }
        },
        "c79989a8126e414a91fe6727ed8a3dd7": {
          "model_module": "@jupyter-widgets/base",
          "model_name": "LayoutModel",
          "model_module_version": "1.2.0",
          "state": {
            "_model_module": "@jupyter-widgets/base",
            "_model_module_version": "1.2.0",
            "_model_name": "LayoutModel",
            "_view_count": null,
            "_view_module": "@jupyter-widgets/base",
            "_view_module_version": "1.2.0",
            "_view_name": "LayoutView",
            "align_content": null,
            "align_items": null,
            "align_self": null,
            "border": null,
            "bottom": null,
            "display": null,
            "flex": null,
            "flex_flow": null,
            "grid_area": null,
            "grid_auto_columns": null,
            "grid_auto_flow": null,
            "grid_auto_rows": null,
            "grid_column": null,
            "grid_gap": null,
            "grid_row": null,
            "grid_template_areas": null,
            "grid_template_columns": null,
            "grid_template_rows": null,
            "height": null,
            "justify_content": null,
            "justify_items": null,
            "left": null,
            "margin": null,
            "max_height": null,
            "max_width": null,
            "min_height": null,
            "min_width": null,
            "object_fit": null,
            "object_position": null,
            "order": null,
            "overflow": null,
            "overflow_x": null,
            "overflow_y": null,
            "padding": null,
            "right": null,
            "top": null,
            "visibility": null,
            "width": null
          }
        },
        "401ff9d7dedc42158a4456044f499607": {
          "model_module": "@jupyter-widgets/controls",
          "model_name": "DescriptionStyleModel",
          "model_module_version": "1.5.0",
          "state": {
            "_model_module": "@jupyter-widgets/controls",
            "_model_module_version": "1.5.0",
            "_model_name": "DescriptionStyleModel",
            "_view_count": null,
            "_view_module": "@jupyter-widgets/base",
            "_view_module_version": "1.2.0",
            "_view_name": "StyleView",
            "description_width": ""
          }
        },
        "66acca59524c443aa0d6ab3ae32417e1": {
          "model_module": "@jupyter-widgets/base",
          "model_name": "LayoutModel",
          "model_module_version": "1.2.0",
          "state": {
            "_model_module": "@jupyter-widgets/base",
            "_model_module_version": "1.2.0",
            "_model_name": "LayoutModel",
            "_view_count": null,
            "_view_module": "@jupyter-widgets/base",
            "_view_module_version": "1.2.0",
            "_view_name": "LayoutView",
            "align_content": null,
            "align_items": null,
            "align_self": null,
            "border": null,
            "bottom": null,
            "display": null,
            "flex": null,
            "flex_flow": null,
            "grid_area": null,
            "grid_auto_columns": null,
            "grid_auto_flow": null,
            "grid_auto_rows": null,
            "grid_column": null,
            "grid_gap": null,
            "grid_row": null,
            "grid_template_areas": null,
            "grid_template_columns": null,
            "grid_template_rows": null,
            "height": null,
            "justify_content": null,
            "justify_items": null,
            "left": null,
            "margin": null,
            "max_height": null,
            "max_width": null,
            "min_height": null,
            "min_width": null,
            "object_fit": null,
            "object_position": null,
            "order": null,
            "overflow": null,
            "overflow_x": null,
            "overflow_y": null,
            "padding": null,
            "right": null,
            "top": null,
            "visibility": null,
            "width": null
          }
        },
        "11857a165c1947da8e246655c96250a9": {
          "model_module": "@jupyter-widgets/controls",
          "model_name": "ProgressStyleModel",
          "model_module_version": "1.5.0",
          "state": {
            "_model_module": "@jupyter-widgets/controls",
            "_model_module_version": "1.5.0",
            "_model_name": "ProgressStyleModel",
            "_view_count": null,
            "_view_module": "@jupyter-widgets/base",
            "_view_module_version": "1.2.0",
            "_view_name": "StyleView",
            "bar_color": null,
            "description_width": ""
          }
        },
        "154fd01ef02a4431843dee2069c1b90e": {
          "model_module": "@jupyter-widgets/base",
          "model_name": "LayoutModel",
          "model_module_version": "1.2.0",
          "state": {
            "_model_module": "@jupyter-widgets/base",
            "_model_module_version": "1.2.0",
            "_model_name": "LayoutModel",
            "_view_count": null,
            "_view_module": "@jupyter-widgets/base",
            "_view_module_version": "1.2.0",
            "_view_name": "LayoutView",
            "align_content": null,
            "align_items": null,
            "align_self": null,
            "border": null,
            "bottom": null,
            "display": null,
            "flex": null,
            "flex_flow": null,
            "grid_area": null,
            "grid_auto_columns": null,
            "grid_auto_flow": null,
            "grid_auto_rows": null,
            "grid_column": null,
            "grid_gap": null,
            "grid_row": null,
            "grid_template_areas": null,
            "grid_template_columns": null,
            "grid_template_rows": null,
            "height": null,
            "justify_content": null,
            "justify_items": null,
            "left": null,
            "margin": null,
            "max_height": null,
            "max_width": null,
            "min_height": null,
            "min_width": null,
            "object_fit": null,
            "object_position": null,
            "order": null,
            "overflow": null,
            "overflow_x": null,
            "overflow_y": null,
            "padding": null,
            "right": null,
            "top": null,
            "visibility": null,
            "width": null
          }
        },
        "02c196c91a4044b9bd862a045d9903a8": {
          "model_module": "@jupyter-widgets/controls",
          "model_name": "DescriptionStyleModel",
          "model_module_version": "1.5.0",
          "state": {
            "_model_module": "@jupyter-widgets/controls",
            "_model_module_version": "1.5.0",
            "_model_name": "DescriptionStyleModel",
            "_view_count": null,
            "_view_module": "@jupyter-widgets/base",
            "_view_module_version": "1.2.0",
            "_view_name": "StyleView",
            "description_width": ""
          }
        }
      }
    }
  },
  "cells": [
    {
      "cell_type": "markdown",
      "source": [
        "# Imports"
      ],
      "metadata": {
        "id": "5Ya9YG7snmna"
      }
    },
    {
      "cell_type": "markdown",
      "source": [],
      "metadata": {
        "id": "KBSxgHMdnma5"
      }
    },
    {
      "cell_type": "code",
      "source": [
        "# import yfinance as yf\n",
        "import matplotlib.pyplot as plt\n",
        "from matplotlib.colors import LinearSegmentedColormap\n",
        "import pandas as pd\n",
        "import numpy as np\n",
        "from datetime import date, timedelta, datetime\n",
        "from time import time\n",
        "from scipy.stats import pearsonr\n",
        "from dataclasses import dataclass\n",
        "import seaborn as sns\n",
        "import tensorflow as tf\n",
        "import tensorflow.keras as tfk\n",
        "import tensorflow_datasets as tf_datasets\n",
        "\n",
        "from tensorflow.keras.models import Model\n",
        "from tensorflow.keras.layers import Input, LSTM, Dense, Lambda, Layer\n",
        "from tensorflow.keras import backend as K\n",
        "\n",
        "from tensorflow.keras.utils import timeseries_dataset_from_array\n",
        "\n",
        "import tensorflow_probability as tfp\n",
        "\n",
        "import keras\n",
        "\n",
        "#tf.debugging.disable_traceback_filtering()\n",
        "\n",
        "tfd = tfp.distributions\n"
      ],
      "metadata": {
        "id": "u8anxnAMhSdm"
      },
      "execution_count": 1,
      "outputs": []
    },
    {
      "cell_type": "markdown",
      "source": [
        "# Load datasets"
      ],
      "metadata": {
        "id": "EBhBOYoDnphV"
      }
    },
    {
      "cell_type": "markdown",
      "source": [],
      "metadata": {
        "id": "8-Nb1hJynlXq"
      }
    },
    {
      "cell_type": "code",
      "source": [
        "datasets, datasets_info = tf_datasets.load(name='mnist',\n",
        "                                           with_info=True,\n",
        "                                           as_supervised=False)\n",
        "\n",
        "batch_size = 32*4 #*32\n",
        "\n",
        "def _preprocess(sample):\n",
        "    image = tf.cast(sample['image'], tf.float32) / 255.  # Scale to unit interval.\n",
        "    return image, image > tf.random.uniform(tf.shape(image))\n",
        "\n",
        "train_dataset = (datasets['train']\n",
        "                 .map(_preprocess)\n",
        "                 .batch(batch_size)\n",
        "                 .prefetch(tf.data.AUTOTUNE)\n",
        "                #  .shuffle(int(10e3))          # very slow\n",
        "                 )\n",
        "eval_dataset = (datasets['test']\n",
        "                .map(_preprocess)\n",
        "                .batch(batch_size)\n",
        "                .prefetch(tf.data.AUTOTUNE))\n"
      ],
      "metadata": {
        "colab": {
          "base_uri": "https://localhost:8080/",
          "height": 84,
          "referenced_widgets": [
            "735e3a092f294dffac8dbec476a4ee71",
            "322ee6ae67484235a0f924ba87716e14",
            "bdbc6c7774404b0a885c781d47b9436a",
            "674877dc66e44b3cb0d293d691f8aa6a",
            "935b0f15267d494a91c5b31239091b8f",
            "c79989a8126e414a91fe6727ed8a3dd7",
            "401ff9d7dedc42158a4456044f499607",
            "66acca59524c443aa0d6ab3ae32417e1",
            "11857a165c1947da8e246655c96250a9",
            "154fd01ef02a4431843dee2069c1b90e",
            "02c196c91a4044b9bd862a045d9903a8"
          ]
        },
        "id": "qpiPYFYAnkhl",
        "outputId": "3fa6f02b-6d01-4d85-a434-3121ec55b029"
      },
      "execution_count": 2,
      "outputs": [
        {
          "output_type": "stream",
          "name": "stdout",
          "text": [
            "Downloading and preparing dataset 11.06 MiB (download: 11.06 MiB, generated: 21.00 MiB, total: 32.06 MiB) to /root/tensorflow_datasets/mnist/3.0.1...\n"
          ]
        },
        {
          "output_type": "display_data",
          "data": {
            "text/plain": [
              "Dl Completed...:   0%|          | 0/5 [00:00<?, ? file/s]"
            ],
            "application/vnd.jupyter.widget-view+json": {
              "version_major": 2,
              "version_minor": 0,
              "model_id": "735e3a092f294dffac8dbec476a4ee71"
            }
          },
          "metadata": {}
        },
        {
          "output_type": "stream",
          "name": "stdout",
          "text": [
            "Dataset mnist downloaded and prepared to /root/tensorflow_datasets/mnist/3.0.1. Subsequent calls will reuse this data.\n"
          ]
        }
      ]
    },
    {
      "cell_type": "code",
      "source": [
        "\n",
        "\n",
        "color_schemes = sorted(plt.colormaps())\n",
        "# print(f\"color_schemes: {color_schemes}\")\n",
        "\n",
        "def display_imgs(x, y=None, colorize=False):\n",
        "    '''\n",
        "    Display a batch of images.\n",
        "    '''\n",
        "    if isinstance(x, tf.data.Dataset):\n",
        "        # print(\"x is a Dataset, converting to numpy\")\n",
        "        x = np.array(list(x.as_numpy_iterator()))\n",
        "    # if isinstance(x, _TakeDataset)\n",
        "\n",
        "    if not isinstance(x, (np.ndarray, np.generic)):\n",
        "        if isinstance(x, tf.Tensor):\n",
        "            # print(\"x is a Tensor, converting to numpy\")\n",
        "            x = x.numpy()\n",
        "        else:\n",
        "            if isinstance(x, tf.data.Iterator):\n",
        "                # print(\"x is an iterator, converting to numpy\")\n",
        "                x = np.array(list(x))\n",
        "            else:\n",
        "                print(\"x is not a numpy object:\", type(x))\n",
        "                print(\"x is not a numpy object\")\n",
        "                x = np.array(x)\n",
        "    plt.ioff()  # Turn off interactive mode to avoid blocking.\n",
        "    # print(f\"x.shape: {x.shape}\")\n",
        "    n = x.shape[0]  # Number of images to display.\n",
        "    fig, axs = plt.subplots(1, n, figsize=(n, 1))  # Create a figure and axes.\n",
        "    if isinstance(colorize, bool) and colorize:\n",
        "        # Create a custom red-to-green colormap\n",
        "        cdict = {'red':   [(0.0,  1.0, 1.0),\n",
        "                        (1.0,  0.0, 0.0)],\n",
        "                'green': [(0.0,  0.0, 0.0),\n",
        "                        (1.0,  1.0, 1.0)],\n",
        "                'blue':  [(0.0,  0.0, 0.0),\n",
        "                        (1.0,  0.0, 0.0)]}\n",
        "        cmap = LinearSegmentedColormap('RedGreen', cdict)\n",
        "    elif isinstance(colorize, str):\n",
        "        cmap = plt.get_cmap(colorize)\n",
        "    elif not colorize is None and not isinstance(colorize, bool):\n",
        "        raise ValueError(f\"colorize must be a boolean or a string {type(colorize)}\")\n",
        "    else:\n",
        "        cmap = 'gray'\n",
        "\n",
        "    if y is not None:\n",
        "        fig.suptitle(np.argmax(y, axis=1))  # Set the figure title.\n",
        "    for i in range(n):\n",
        "        axs.flat[i].imshow(x[i].squeeze(), interpolation='none', cmap=cmap)  # Display the image.\n",
        "        axs.flat[i].axis('off')  # Turn off axis labels.\n",
        "    plt.show()   # Show the figure.\n",
        "    plt.close()  # Close the figure to free up memory.\n",
        "    plt.ion()    # Turn interactive mode back on.\n",
        "\n",
        "display_imgs(list(train_dataset.shuffle(100).take(1))[0][0][:10])\n",
        "display_imgs(list(train_dataset.shuffle(100).take(1))[0][1][:10], colorize=\"Accent\")\n",
        "display_imgs(list(eval_dataset.shuffle(100).take(1))[0][0][:10])\n",
        "display_imgs(list(eval_dataset.shuffle(100).take(1))[0][1][:10], colorize=color_schemes[0])\n",
        "\n",
        "\n",
        "for i, color in enumerate(color_schemes):\n",
        "    print(f\"{i:03d}: {color}\")\n",
        "    display_imgs(list(eval_dataset.shuffle(100).take(1))[0][1][:10], colorize=color)\n"
      ],
      "metadata": {
        "colab": {
          "base_uri": "https://localhost:8080/",
          "height": 1000
        },
        "id": "hcs1PevDx9RV",
        "outputId": "c9fa80aa-b4d1-4afa-8d79-50de40485498"
      },
      "execution_count": 3,
      "outputs": [
        {
          "output_type": "display_data",
          "data": {
            "text/plain": [
              "<Figure size 1000x100 with 10 Axes>"
            ],
            "image/png": "[encoded data removed]"
          },
          "metadata": {}
        },
        {
          "output_type": "display_data",
          "data": {
            "text/plain": [
              "<Figure size 1000x100 with 10 Axes>"
            ],
            "image/png": "[encoded data removed]"
          },
          "metadata": {}
        },
        {
          "output_type": "display_data",
          "data": {
            "text/plain": [
              "<Figure size 1000x100 with 10 Axes>"
            ],
            "image/png": "[encoded data removed]"
          },
          "metadata": {}
        },
        {
          "output_type": "display_data",
          "data": {
            "text/plain": [
              "<Figure size 1000x100 with 10 Axes>"
            ],
            "image/png": "[encoded data removed]"
          },
          "metadata": {}
        },
        {
          "output_type": "stream",
          "name": "stdout",
          "text": [
            "000: Accent\n"
          ]
        },
        {
          "output_type": "display_data",
          "data": {
            "text/plain": [
              "<Figure size 1000x100 with 10 Axes>"
            ],
            "image/png": "[encoded data removed]"
          },
          "metadata": {}
        },
        {
          "output_type": "stream",
          "name": "stdout",
          "text": [
            "001: Accent_r\n"
          ]
        },
        {
          "output_type": "display_data",
          "data": {
            "text/plain": [
              "<Figure size 1000x100 with 10 Axes>"
            ],
            "image/png": "[encoded data removed]"
          },
          "metadata": {}
        },
        {
          "output_type": "stream",
          "name": "stdout",
          "text": [
            "002: Blues\n"
          ]
        },
        {
          "output_type": "display_data",
          "data": {
            "text/plain": [
              "<Figure size 1000x100 with 10 Axes>"
            ],
            "image/png": "[encoded data removed]"
          },
          "metadata": {}
        },
        {
          "output_type": "stream",
          "name": "stdout",
          "text": [
            "003: Blues_r\n"
          ]
        },
        {
          "output_type": "display_data",
          "data": {
            "text/plain": [
              "<Figure size 1000x100 with 10 Axes>"
            ],
            "image/png": "[encoded data removed]"
          },
          "metadata": {}
        },
        {
          "output_type": "stream",
          "name": "stdout",
          "text": [
            "004: BrBG\n"
          ]
        },
        {
          "output_type": "display_data",
          "data": {
            "text/plain": [
              "<Figure size 1000x100 with 10 Axes>"
            ],
            "image/png": "[encoded data removed]"
          },
          "metadata": {}
        },
        {
          "output_type": "stream",
          "name": "stdout",
          "text": [
            "005: BrBG_r\n"
          ]
        },
        {
          "output_type": "display_data",
          "data": {
            "text/plain": [
              "<Figure size 1000x100 with 10 Axes>"
            ],
            "image/png": "[encoded data removed]"
          },
          "metadata": {}
        },
        {
          "output_type": "stream",
          "name": "stdout",
          "text": [
            "006: BuGn\n"
          ]
        },
        {
          "output_type": "display_data",
          "data": {
            "text/plain": [
              "<Figure size 1000x100 with 10 Axes>"
            ],
            "image/png": "[encoded data removed]"
          },
          "metadata": {}
        },
        {
          "output_type": "stream",
          "name": "stdout",
          "text": [
            "007: BuGn_r\n"
          ]
        },
        {
          "output_type": "display_data",
          "data": {
            "text/plain": [
              "<Figure size 1000x100 with 10 Axes>"
            ],
            "image/png": "[encoded data removed]"
          },
          "metadata": {}
        },
        {
          "output_type": "stream",
          "name": "stdout",
          "text": [
            "008: BuPu\n"
          ]
        },
        {
          "output_type": "error",
          "ename": "KeyboardInterrupt",
          "evalue": "",
          "traceback": [
            "\u001b[0;31m---------------------------------------------------------------------------\u001b[0m",
            "\u001b[0;31mKeyboardInterrupt\u001b[0m                         Traceback (most recent call last)",
            "\u001b[0;32m<ipython-input-3-90b39b0f8971>\u001b[0m in \u001b[0;36m<cell line: 60>\u001b[0;34m()\u001b[0m\n\u001b[1;32m     60\u001b[0m \u001b[0;32mfor\u001b[0m \u001b[0mi\u001b[0m\u001b[0;34m,\u001b[0m \u001b[0mcolor\u001b[0m \u001b[0;32min\u001b[0m \u001b[0menumerate\u001b[0m\u001b[0;34m(\u001b[0m\u001b[0mcolor_schemes\u001b[0m\u001b[0;34m)\u001b[0m\u001b[0;34m:\u001b[0m\u001b[0;34m\u001b[0m\u001b[0;34m\u001b[0m\u001b[0m\n\u001b[1;32m     61\u001b[0m     \u001b[0mprint\u001b[0m\u001b[0;34m(\u001b[0m\u001b[0;34mf\"{i:03d}: {color}\"\u001b[0m\u001b[0;34m)\u001b[0m\u001b[0;34m\u001b[0m\u001b[0;34m\u001b[0m\u001b[0m\n\u001b[0;32m---> 62\u001b[0;31m     \u001b[0mdisplay_imgs\u001b[0m\u001b[0;34m(\u001b[0m\u001b[0mlist\u001b[0m\u001b[0;34m(\u001b[0m\u001b[0meval_dataset\u001b[0m\u001b[0;34m.\u001b[0m\u001b[0mshuffle\u001b[0m\u001b[0;34m(\u001b[0m\u001b[0;36m100\u001b[0m\u001b[0;34m)\u001b[0m\u001b[0;34m.\u001b[0m\u001b[0mtake\u001b[0m\u001b[0;34m(\u001b[0m\u001b[0;36m1\u001b[0m\u001b[0;34m)\u001b[0m\u001b[0;34m)\u001b[0m\u001b[0;34m[\u001b[0m\u001b[0;36m0\u001b[0m\u001b[0;34m]\u001b[0m\u001b[0;34m[\u001b[0m\u001b[0;36m1\u001b[0m\u001b[0;34m]\u001b[0m\u001b[0;34m[\u001b[0m\u001b[0;34m:\u001b[0m\u001b[0;36m10\u001b[0m\u001b[0;34m]\u001b[0m\u001b[0;34m,\u001b[0m \u001b[0mcolorize\u001b[0m\u001b[0;34m=\u001b[0m\u001b[0mcolor\u001b[0m\u001b[0;34m)\u001b[0m\u001b[0;34m\u001b[0m\u001b[0;34m\u001b[0m\u001b[0m\n\u001b[0m",
            "\u001b[0;32m/usr/local/lib/python3.10/dist-packages/tensorflow/python/data/ops/iterator_ops.py\u001b[0m in \u001b[0;36m__next__\u001b[0;34m(self)\u001b[0m\n\u001b[1;32m    808\u001b[0m   \u001b[0;32mdef\u001b[0m \u001b[0m__next__\u001b[0m\u001b[0;34m(\u001b[0m\u001b[0mself\u001b[0m\u001b[0;34m)\u001b[0m\u001b[0;34m:\u001b[0m\u001b[0;34m\u001b[0m\u001b[0;34m\u001b[0m\u001b[0m\n\u001b[1;32m    809\u001b[0m     \u001b[0;32mtry\u001b[0m\u001b[0;34m:\u001b[0m\u001b[0;34m\u001b[0m\u001b[0;34m\u001b[0m\u001b[0m\n\u001b[0;32m--> 810\u001b[0;31m       \u001b[0;32mreturn\u001b[0m \u001b[0mself\u001b[0m\u001b[0;34m.\u001b[0m\u001b[0m_next_internal\u001b[0m\u001b[0;34m(\u001b[0m\u001b[0;34m)\u001b[0m\u001b[0;34m\u001b[0m\u001b[0;34m\u001b[0m\u001b[0m\n\u001b[0m\u001b[1;32m    811\u001b[0m     \u001b[0;32mexcept\u001b[0m \u001b[0merrors\u001b[0m\u001b[0;34m.\u001b[0m\u001b[0mOutOfRangeError\u001b[0m\u001b[0;34m:\u001b[0m\u001b[0;34m\u001b[0m\u001b[0;34m\u001b[0m\u001b[0m\n\u001b[1;32m    812\u001b[0m       \u001b[0;32mraise\u001b[0m \u001b[0mStopIteration\u001b[0m\u001b[0;34m\u001b[0m\u001b[0;34m\u001b[0m\u001b[0m\n",
            "\u001b[0;32m/usr/local/lib/python3.10/dist-packages/tensorflow/python/data/ops/iterator_ops.py\u001b[0m in \u001b[0;36m_next_internal\u001b[0;34m(self)\u001b[0m\n\u001b[1;32m    771\u001b[0m     \u001b[0;31m# to communicate that there is no more data to iterate over.\u001b[0m\u001b[0;34m\u001b[0m\u001b[0;34m\u001b[0m\u001b[0m\n\u001b[1;32m    772\u001b[0m     \u001b[0;32mwith\u001b[0m \u001b[0mcontext\u001b[0m\u001b[0;34m.\u001b[0m\u001b[0mexecution_mode\u001b[0m\u001b[0;34m(\u001b[0m\u001b[0mcontext\u001b[0m\u001b[0;34m.\u001b[0m\u001b[0mSYNC\u001b[0m\u001b[0;34m)\u001b[0m\u001b[0;34m:\u001b[0m\u001b[0;34m\u001b[0m\u001b[0;34m\u001b[0m\u001b[0m\n\u001b[0;32m--> 773\u001b[0;31m       ret = gen_dataset_ops.iterator_get_next(\n\u001b[0m\u001b[1;32m    774\u001b[0m           \u001b[0mself\u001b[0m\u001b[0;34m.\u001b[0m\u001b[0m_iterator_resource\u001b[0m\u001b[0;34m,\u001b[0m\u001b[0;34m\u001b[0m\u001b[0;34m\u001b[0m\u001b[0m\n\u001b[1;32m    775\u001b[0m           \u001b[0moutput_types\u001b[0m\u001b[0;34m=\u001b[0m\u001b[0mself\u001b[0m\u001b[0;34m.\u001b[0m\u001b[0m_flat_output_types\u001b[0m\u001b[0;34m,\u001b[0m\u001b[0;34m\u001b[0m\u001b[0;34m\u001b[0m\u001b[0m\n",
            "\u001b[0;32m/usr/local/lib/python3.10/dist-packages/tensorflow/python/ops/gen_dataset_ops.py\u001b[0m in \u001b[0;36miterator_get_next\u001b[0;34m(iterator, output_types, output_shapes, name)\u001b[0m\n\u001b[1;32m   3022\u001b[0m   \u001b[0;32mif\u001b[0m \u001b[0mtld\u001b[0m\u001b[0;34m.\u001b[0m\u001b[0mis_eager\u001b[0m\u001b[0;34m:\u001b[0m\u001b[0;34m\u001b[0m\u001b[0;34m\u001b[0m\u001b[0m\n\u001b[1;32m   3023\u001b[0m     \u001b[0;32mtry\u001b[0m\u001b[0;34m:\u001b[0m\u001b[0;34m\u001b[0m\u001b[0;34m\u001b[0m\u001b[0m\n\u001b[0;32m-> 3024\u001b[0;31m       _result = pywrap_tfe.TFE_Py_FastPathExecute(\n\u001b[0m\u001b[1;32m   3025\u001b[0m         \u001b[0m_ctx\u001b[0m\u001b[0;34m,\u001b[0m \u001b[0;34m\"IteratorGetNext\"\u001b[0m\u001b[0;34m,\u001b[0m \u001b[0mname\u001b[0m\u001b[0;34m,\u001b[0m \u001b[0miterator\u001b[0m\u001b[0;34m,\u001b[0m \u001b[0;34m\"output_types\"\u001b[0m\u001b[0;34m,\u001b[0m \u001b[0moutput_types\u001b[0m\u001b[0;34m,\u001b[0m\u001b[0;34m\u001b[0m\u001b[0;34m\u001b[0m\u001b[0m\n\u001b[1;32m   3026\u001b[0m         \"output_shapes\", output_shapes)\n",
            "\u001b[0;31mKeyboardInterrupt\u001b[0m: "
          ]
        }
      ]
    },
    {
      "cell_type": "markdown",
      "source": [
        "# Variational autoencoder"
      ],
      "metadata": {
        "id": "AA-Md9pfwNXT"
      }
    },
    {
      "cell_type": "markdown",
      "source": [],
      "metadata": {
        "id": "kjpaO7puwNN5"
      }
    },
    {
      "cell_type": "code",
      "source": [
        "input_shape = datasets_info.features['image'].shape\n",
        "encoded_size = 16\n",
        "base_depth = 32\n",
        "\n",
        "print(f\"input_shape: {input_shape}\")\n",
        "print(f\"encoded_size: {encoded_size}\")\n",
        "print(f\"base_depth: {base_depth}\")\n",
        "print(f\"batch_size: {batch_size}\")\n"
      ],
      "metadata": {
        "colab": {
          "base_uri": "https://localhost:8080/"
        },
        "id": "CuPhpl4mnkeH",
        "outputId": "8ce5bcce-c8e7-4ad2-8b7a-9442808242aa"
      },
      "execution_count": 4,
      "outputs": [
        {
          "output_type": "stream",
          "name": "stdout",
          "text": [
            "input_shape: (28, 28, 1)\n",
            "encoded_size: 16\n",
            "base_depth: 32\n",
            "batch_size: 128\n"
          ]
        }
      ]
    },
    {
      "cell_type": "code",
      "source": [
        "prior = tfd.Independent(tfd.Normal(loc=tf.zeros(encoded_size), scale=1),\n",
        "                        reinterpreted_batch_ndims=1)\n",
        "\n",
        "print(f\"prior: {prior}\")\n",
        "\n",
        "encoder = tfk.Sequential([\n",
        "    tfk.layers.InputLayer(input_shape=input_shape),\n",
        "    tfk.layers.Lambda(lambda x: tf.cast(x, tf.float32) - 0.5),\n",
        "    tfk.layers.Conv2D(\n",
        "        base_depth, 5, strides=1,\n",
        "        padding='same', activation=tf.nn.leaky_relu),\n",
        "    tfk.layers.Conv2D(\n",
        "        base_depth, 5, strides=2,\n",
        "        padding='same', activation=tf.nn.leaky_relu),\n",
        "    tfk.layers.Conv2D(\n",
        "        2 * base_depth, 5, strides=1,\n",
        "        padding='same', activation=tf.nn.leaky_relu),\n",
        "    tfk.layers.Conv2D(\n",
        "        2 * base_depth, 5, strides=2,\n",
        "        padding='same', activation=tf.nn.leaky_relu),\n",
        "    tfk.layers.Conv2D(\n",
        "        4 * encoded_size, 7, strides=1,\n",
        "        padding='valid', activation=tf.nn.leaky_relu),\n",
        "    tfk.layers.Flatten(),\n",
        "    tfk.layers.Dense(\n",
        "        tfp.layers.MultivariateNormalTriL.params_size(encoded_size),\n",
        "        activation=None),\n",
        "    tfp.layers.MultivariateNormalTriL(\n",
        "        encoded_size,\n",
        "        activity_regularizer=tfp.layers.KLDivergenceRegularizer(prior)),\n",
        "])\n",
        "\n",
        "print(f\"encoder: {encoder}\")\n",
        "# encoder.summary()\n",
        "\n",
        "decoder = tfk.Sequential([\n",
        "    tfk.layers.InputLayer(input_shape=[encoded_size]),\n",
        "    tfk.layers.Reshape([1, 1, encoded_size]),\n",
        "    tfk.layers.Conv2DTranspose(\n",
        "        2 * base_depth, 7, strides=1,\n",
        "        padding='valid', activation=tf.nn.leaky_relu),\n",
        "    tfk.layers.Conv2DTranspose(\n",
        "        2 * base_depth, 5, strides=1,\n",
        "        padding='same', activation=tf.nn.leaky_relu),\n",
        "    tfk.layers.Conv2DTranspose(\n",
        "        2 * base_depth, 5, strides=2,\n",
        "        padding='same', activation=tf.nn.leaky_relu),\n",
        "    tfk.layers.Conv2DTranspose(\n",
        "        base_depth, 5, strides=1,\n",
        "        padding='same', activation=tf.nn.leaky_relu),\n",
        "    tfk.layers.Conv2DTranspose(\n",
        "        base_depth, 5, strides=2,\n",
        "        padding='same', activation=tf.nn.leaky_relu),\n",
        "    tfk.layers.Conv2DTranspose(\n",
        "        base_depth, 5, strides=1,\n",
        "        padding='same', activation=tf.nn.leaky_relu),\n",
        "    tfk.layers.Conv2D(\n",
        "        filters=1, kernel_size=5, strides=1,\n",
        "        padding='same', activation=None),\n",
        "    tfk.layers.Flatten(),\n",
        "    tfp.layers.IndependentBernoulli(input_shape, tfd.Bernoulli.logits),\n",
        "])\n",
        "\n",
        "print(f\"decoder: {decoder}\")\n",
        "decoder.summary()\n"
      ],
      "metadata": {
        "colab": {
          "base_uri": "https://localhost:8080/"
        },
        "id": "gNm-2B-js4iX",
        "outputId": "926106fc-8558-4a39-8f56-70c9f956c771"
      },
      "execution_count": 5,
      "outputs": [
        {
          "output_type": "stream",
          "name": "stdout",
          "text": [
            "prior: tfp.distributions.Independent(\"IndependentNormal\", batch_shape=[], event_shape=[16], dtype=float32)\n",
            "encoder: <keras.src.engine.sequential.Sequential object at 0x78d49076b610>\n",
            "decoder: <keras.src.engine.sequential.Sequential object at 0x78d4b254e350>\n",
            "Model: \"sequential_1\"\n",
            "_________________________________________________________________\n",
            " Layer (type)                Output Shape              Param #   \n",
            "=================================================================\n",
            " reshape (Reshape)           (None, 1, 1, 16)          0         \n",
            "                                                                 \n",
            " conv2d_transpose (Conv2DTr  (None, 7, 7, 64)          50240     \n",
            " anspose)                                                        \n",
            "                                                                 \n",
            " conv2d_transpose_1 (Conv2D  (None, 7, 7, 64)          102464    \n",
            " Transpose)                                                      \n",
            "                                                                 \n",
            " conv2d_transpose_2 (Conv2D  (None, 14, 14, 64)        102464    \n",
            " Transpose)                                                      \n",
            "                                                                 \n",
            " conv2d_transpose_3 (Conv2D  (None, 14, 14, 32)        51232     \n",
            " Transpose)                                                      \n",
            "                                                                 \n",
            " conv2d_transpose_4 (Conv2D  (None, 28, 28, 32)        25632     \n",
            " Transpose)                                                      \n",
            "                                                                 \n",
            " conv2d_transpose_5 (Conv2D  (None, 28, 28, 32)        25632     \n",
            " Transpose)                                                      \n",
            "                                                                 \n",
            " conv2d_5 (Conv2D)           (None, 28, 28, 1)         801       \n",
            "                                                                 \n",
            " flatten_1 (Flatten)         (None, 784)               0         \n",
            "                                                                 \n",
            " independent_bernoulli (Ind  ((None, 28, 28, 1),       0         \n",
            " ependentBernoulli)           (None, 28, 28, 1))                 \n",
            "                                                                 \n",
            "=================================================================\n",
            "Total params: 358465 (1.37 MB)\n",
            "Trainable params: 358465 (1.37 MB)\n",
            "Non-trainable params: 0 (0.00 Byte)\n",
            "_________________________________________________________________\n"
          ]
        }
      ]
    },
    {
      "cell_type": "code",
      "source": [
        "print(f\"prior means: {prior.mean()}\")\n",
        "print(f\"prior variances: {prior.variance()}\")\n",
        "\n",
        "vae = tfk.Model(inputs=encoder.inputs,\n",
        "                outputs=decoder(encoder.outputs[0])) if not 'vae' in locals() else vae\n",
        "\n",
        "print(f\"vae: {vae}\")\n",
        "vae.summary()\n",
        "\n",
        "negloglik = lambda x, rv_x: -rv_x.log_prob(x)\n",
        "learning_rate = tfk.optimizers.schedules.ExponentialDecay(\n",
        "    initial_learning_rate=0.7e-3,\n",
        "    decay_steps=1000,\n",
        "    decay_rate=0.9)\n",
        "\n",
        "vae.compile(optimizer=tfk.optimizers.Adam(learning_rate=learning_rate), loss=negloglik)\n",
        "# vae.compile(optimizer=tfk.optimizers.Adam(learning_rate=2e-3),\n",
        "#             loss=negloglik)\n",
        "\n",
        "class ShowProgressImagesCallback(keras.callbacks.Callback):\n",
        "    def __init__(self, model, validation_data, shuffle=True):\n",
        "        super().__init__()\n",
        "        self.model = model\n",
        "        self.validation_data = validation_data\n",
        "        self.shuffle = shuffle or False\n",
        "\n",
        "    def on_epoch_end(self, epoch, logs=None):\n",
        "\n",
        "        # Extract the encoder and decoder\n",
        "        encoder_ = keras.Sequential(self.model.layers[:-1])\n",
        "        encoder_.compile()\n",
        "        decoder_input = keras.Input(shape=encoder_.output_shape[1:])\n",
        "        decoder_output = self.model.layers[-1](decoder_input)\n",
        "        decoder_ = keras.Model(inputs=decoder_input, outputs=decoder_output)\n",
        "        decoder_.compile()\n",
        "\n",
        "        # We'll just examine the first ten digits.\n",
        "        if self.shuffle:\n",
        "            if isinstance(self.shuffle, bool):\n",
        "                x = next(iter(self.validation_data.shuffle(10000)))[0][:10]\n",
        "            else:\n",
        "                x = next(iter(self.validation_data.shuffle(self.shuffle)))[0][:10]\n",
        "        else:\n",
        "            x = next(iter(self.validation_data))[0][:10]\n",
        "\n",
        "        if epoch % 10 == 0:\n",
        "            print(\"Original:\")\n",
        "            display_imgs(x)\n",
        "\n",
        "            print('Embedding:')\n",
        "            encoder_ = keras.Sequential(self.model.layers[:-1])\n",
        "            encoder_.compile()\n",
        "            display_imgs(tf.reshape(encoder_(x).sample(), [-1, 4, 4, 1]), colorize='GnBu')\n",
        "            print('Embedding means:')\n",
        "            display_imgs(tf.reshape(encoder_(x).mean(), [-1, 4, 4, 1]), colorize='GnBu')\n",
        "\n",
        "            print('Embedding modes:')\n",
        "            display_imgs(tf.reshape(encoder_(x).mode(), [-1, 4, 4, 1]), colorize='GnBu')\n",
        "\n",
        "        print(f'Embedding variances: {encoder_(x).variance().mean()}')\n",
        "        display_imgs(tf.reshape(encoder_(x).variance(), [-1, 4, 4, 1]), colorize='rocket_r')\n",
        "\n",
        "        if epoch % 10 == 0:\n",
        "            xhat = self.model(x)\n",
        "            assert isinstance(xhat, tfd.Distribution)\n",
        "\n",
        "            print('Reconstructions:')\n",
        "            display_imgs(xhat.sample())\n",
        "\n",
        "            print('Decoded modes:')\n",
        "            display_imgs(xhat.mode(), colorize='rocket_r')\n",
        "\n",
        "            print('Decoded means:')\n",
        "            display_imgs(xhat.mean(), colorize='GnBu')\n",
        "\n",
        "            print('Decoded variances:')\n",
        "            display_imgs(xhat.variance(), colorize='rocket_r')\n",
        "\n",
        "            # Test the extracted models\n",
        "            encoded_imgs = encoder_.predict(x, verbose=False)\n",
        "            decoded_imgs = decoder_.predict(encoded_imgs, verbose=False)\n",
        "\n",
        "            print('Confidence map?:')\n",
        "            display_imgs(decoded_imgs, colorize='tab20c_r')\n",
        "\n",
        "checkpoint_filepath = \"models/model.{val_loss:.4}.keras\"\n",
        "checkpoint_callback = tfk.callbacks.ModelCheckpoint(\n",
        "    filepath=checkpoint_filepath,\n",
        "    save_weights_only=False,\n",
        "    monitor='val_loss',\n",
        "    mode='min',\n",
        "    save_best_only=True,\n",
        "    verbose=1\n",
        ")\n",
        "\n",
        "# delete xhat\n",
        "# xhat = vae(next(iter(eval_dataset))[0][:10])\n",
        "# assert isinstance(xhat, tfd.Distribution)\n",
        "print('Originals:')\n",
        "display_imgs(next(iter(eval_dataset))[0][:10])\n",
        "print('Reconstituted:')\n",
        "display_imgs(vae(next(iter(eval_dataset))[0]).mean()[:10])\n",
        "# print('Reconstituted from decoding the encoder:')\n",
        "# display_imgs(decoder(encoder(next(iter(eval_dataset))[0]).mean())[:10], colorize='rocket_r')\n",
        "# # print('Reconstituted from decoding the encoder:')\n",
        "# # display_imgs(decoder(encoder(x).mean()).sample(), colorize='rocket_r')\n",
        "\n",
        "# Extract the encoder and decoder\n",
        "encoder_ = keras.Sequential(vae.layers[:-1])\n",
        "encoder_.compile()\n",
        "# print(f\"encoder_: {encoder_.output_shape}\")\n",
        "decoder_input = keras.Input(shape=encoder_.output_shape[1:])\n",
        "decoder_output = vae.layers[-1](decoder_input)\n",
        "decoder_ = keras.Model(inputs=decoder_input, outputs=decoder_output)\n",
        "decoder_.compile()\n",
        "\n",
        "# Test the extracted models\n",
        "encoded_imgs = encoder_.predict(next(iter(eval_dataset))[0][:10], verbose=False)\n",
        "print(f\"encoded_imgs: {encoded_imgs.shape}\")\n",
        "\n",
        "decoded_imgs = decoder_.predict(encoded_imgs, verbose=False)\n",
        "\n",
        "# # Display results\n",
        "# print('Originals:')\n",
        "# display_imgs(next(iter(eval_dataset))[0][:10])\n",
        "# print('Reconstituted:')\n",
        "# display_imgs(vae.predict(next(iter(eval_dataset))[0]).mean()[:10])\n",
        "print('Reconstituted from decoding the encoder:')\n",
        "display_imgs(decoded_imgs, colorize='tab20c_r')\n",
        "\n",
        "\n",
        "vae.fit(train_dataset,\n",
        "        epochs=30, batch_size=batch_size,\n",
        "        validation_data=eval_dataset,\n",
        "        callbacks=[\n",
        "            ShowProgressImagesCallback(vae, eval_dataset, shuffle=False),\n",
        "            checkpoint_callback\n",
        "        ])\n",
        "\n"
      ],
      "metadata": {
        "colab": {
          "base_uri": "https://localhost:8080/",
          "height": 1000
        },
        "id": "XlA5ImT3tA5k",
        "outputId": "6a0f113f-66b8-4f5e-8d25-b8b5dc10d135"
      },
      "execution_count": 24,
      "outputs": [
        {
          "output_type": "stream",
          "name": "stdout",
          "text": [
            "prior means: [0. 0. 0. 0. 0. 0. 0. 0. 0. 0. 0. 0. 0. 0. 0. 0.]\n",
            "prior variances: [1. 1. 1. 1. 1. 1. 1. 1. 1. 1. 1. 1. 1. 1. 1. 1.]\n",
            "vae: <keras.src.engine.functional.Functional object at 0x78d4d21e9360>\n",
            "Model: \"model\"\n",
            "_________________________________________________________________\n",
            " Layer (type)                Output Shape              Param #   \n",
            "=================================================================\n",
            " input_1 (InputLayer)        [(None, 28, 28, 1)]       0         \n",
            "                                                                 \n",
            " lambda (Lambda)             (None, 28, 28, 1)         0         \n",
            "                                                                 \n",
            " conv2d (Conv2D)             (None, 28, 28, 32)        832       \n",
            "                                                                 \n",
            " conv2d_1 (Conv2D)           (None, 14, 14, 32)        25632     \n",
            "                                                                 \n",
            " conv2d_2 (Conv2D)           (None, 14, 14, 64)        51264     \n",
            "                                                                 \n",
            " conv2d_3 (Conv2D)           (None, 7, 7, 64)          102464    \n",
            "                                                                 \n",
            " conv2d_4 (Conv2D)           (None, 1, 1, 64)          200768    \n",
            "                                                                 \n",
            " flatten (Flatten)           (None, 64)                0         \n",
            "                                                                 \n",
            " dense (Dense)               (None, 152)               9880      \n",
            "                                                                 \n",
            " multivariate_normal_tri_l   ((None, 16),              0         \n",
            " (MultivariateNormalTriL)     (None, 16))                        \n",
            "                                                                 \n",
            " sequential_1 (Sequential)   (None, 28, 28, 1)         358465    \n",
            "                                                                 \n",
            "=================================================================\n",
            "Total params: 749305 (2.86 MB)\n",
            "Trainable params: 749305 (2.86 MB)\n",
            "Non-trainable params: 0 (0.00 Byte)\n",
            "_________________________________________________________________\n",
            "Originals:\n"
          ]
        },
        {
          "output_type": "display_data",
          "data": {
            "text/plain": [
              "<Figure size 1000x100 with 10 Axes>"
            ],
            "image/png": "[encoded data removed]"
          },
          "metadata": {}
        },
        {
          "output_type": "stream",
          "name": "stdout",
          "text": [
            "Reconstituted:\n"
          ]
        },
        {
          "output_type": "display_data",
          "data": {
            "text/plain": [
              "<Figure size 1000x100 with 10 Axes>"
            ],
            "image/png": "[encoded data removed]"
          },
          "metadata": {}
        },
        {
          "output_type": "stream",
          "name": "stdout",
          "text": [
            "encoded_imgs: (10, 16)\n",
            "Reconstituted from decoding the encoder:\n"
          ]
        },
        {
          "output_type": "display_data",
          "data": {
            "text/plain": [
              "<Figure size 1000x100 with 10 Axes>"
            ],
            "image/png": "[encoded data removed]"
          },
          "metadata": {}
        },
        {
          "output_type": "stream",
          "name": "stdout",
          "text": [
            "Epoch 1/30\n",
            "467/469 [============================>.] - ETA: 0s - loss: 108.1634Original:\n"
          ]
        },
        {
          "output_type": "display_data",
          "data": {
            "text/plain": [
              "<Figure size 1000x100 with 10 Axes>"
            ],
            "image/png": "[encoded data removed]"
          },
          "metadata": {}
        },
        {
          "output_type": "stream",
          "name": "stdout",
          "text": [
            "Embedding:\n"
          ]
        },
        {
          "output_type": "display_data",
          "data": {
            "text/plain": [
              "<Figure size 1000x100 with 10 Axes>"
            ],
            "image/png": "[encoded data removed]"
          },
          "metadata": {}
        },
        {
          "output_type": "stream",
          "name": "stdout",
          "text": [
            "Embedding means:\n"
          ]
        },
        {
          "output_type": "display_data",
          "data": {
            "text/plain": [
              "<Figure size 1000x100 with 10 Axes>"
            ],
            "image/png": "[encoded data removed]"
          },
          "metadata": {}
        },
        {
          "output_type": "stream",
          "name": "stdout",
          "text": [
            "Embedding modes:\n"
          ]
        },
        {
          "output_type": "display_data",
          "data": {
            "text/plain": [
              "<Figure size 1000x100 with 10 Axes>"
            ],
            "image/png": "[encoded data removed]"
          },
          "metadata": {}
        },
        {
          "output_type": "stream",
          "name": "stdout",
          "text": [
            "Embedding variances:\n"
          ]
        },
        {
          "output_type": "display_data",
          "data": {
            "text/plain": [
              "<Figure size 1000x100 with 10 Axes>"
            ],
            "image/png": "[encoded data removed]"
          },
          "metadata": {}
        },
        {
          "output_type": "stream",
          "name": "stdout",
          "text": [
            "Reconstructions:\n"
          ]
        },
        {
          "output_type": "display_data",
          "data": {
            "text/plain": [
              "<Figure size 1000x100 with 10 Axes>"
            ],
            "image/png": "[encoded data removed]"
          },
          "metadata": {}
        },
        {
          "output_type": "stream",
          "name": "stdout",
          "text": [
            "Decoded modes:\n"
          ]
        },
        {
          "output_type": "display_data",
          "data": {
            "text/plain": [
              "<Figure size 1000x100 with 10 Axes>"
            ],
            "image/png": "[encoded data removed]"
          },
          "metadata": {}
        },
        {
          "output_type": "stream",
          "name": "stdout",
          "text": [
            "Decoded means:\n"
          ]
        },
        {
          "output_type": "display_data",
          "data": {
            "text/plain": [
              "<Figure size 1000x100 with 10 Axes>"
            ],
            "image/png": "[encoded data removed]"
          },
          "metadata": {}
        },
        {
          "output_type": "stream",
          "name": "stdout",
          "text": [
            "Decoded variances:\n"
          ]
        },
        {
          "output_type": "display_data",
          "data": {
            "text/plain": [
              "<Figure size 1000x100 with 10 Axes>"
            ],
            "image/png": "[encoded data removed]"
          },
          "metadata": {}
        },
        {
          "output_type": "stream",
          "name": "stdout",
          "text": [
            "Confidence map?:\n"
          ]
        },
        {
          "output_type": "display_data",
          "data": {
            "text/plain": [
              "<Figure size 1000x100 with 10 Axes>"
            ],
            "image/png": "[encoded data removed]"
          },
          "metadata": {}
        },
        {
          "output_type": "stream",
          "name": "stdout",
          "text": [
            "\n",
            "Epoch 1: val_loss improved from inf to 113.59248, saving model to models/model.113.6.keras\n",
            "469/469 [==============================] - 16s 23ms/step - loss: 108.1507 - val_loss: 113.5925\n",
            "Epoch 2/30\n",
            "467/469 [============================>.] - ETA: 0s - loss: 108.2144Embedding variances:\n"
          ]
        },
        {
          "output_type": "display_data",
          "data": {
            "text/plain": [
              "<Figure size 1000x100 with 10 Axes>"
            ],
            "image/png": "[encoded data removed]"
          },
          "metadata": {}
        },
        {
          "output_type": "stream",
          "name": "stdout",
          "text": [
            "\n",
            "Epoch 2: val_loss did not improve from 113.59248\n",
            "469/469 [==============================] - 6s 14ms/step - loss: 108.2000 - val_loss: 113.7946\n",
            "Epoch 3/30\n",
            "467/469 [============================>.] - ETA: 0s - loss: 108.0637Embedding variances:\n"
          ]
        },
        {
          "output_type": "display_data",
          "data": {
            "text/plain": [
              "<Figure size 1000x100 with 10 Axes>"
            ],
            "image/png": "[encoded data removed]"
          },
          "metadata": {}
        },
        {
          "output_type": "stream",
          "name": "stdout",
          "text": [
            "\n",
            "Epoch 3: val_loss did not improve from 113.59248\n",
            "469/469 [==============================] - 6s 14ms/step - loss: 108.0539 - val_loss: 113.7928\n",
            "Epoch 4/30\n",
            "467/469 [============================>.] - ETA: 0s - loss: 108.0176Embedding variances:\n"
          ]
        },
        {
          "output_type": "display_data",
          "data": {
            "text/plain": [
              "<Figure size 1000x100 with 10 Axes>"
            ],
            "image/png": "[encoded data removed]"
          },
          "metadata": {}
        },
        {
          "output_type": "stream",
          "name": "stdout",
          "text": [
            "\n",
            "Epoch 4: val_loss did not improve from 113.59248\n",
            "469/469 [==============================] - 6s 14ms/step - loss: 108.0015 - val_loss: 113.6568\n",
            "Epoch 5/30\n",
            "466/469 [============================>.] - ETA: 0s - loss: 107.8777Embedding variances:\n"
          ]
        },
        {
          "output_type": "display_data",
          "data": {
            "text/plain": [
              "<Figure size 1000x100 with 10 Axes>"
            ],
            "image/png": "[encoded data removed]"
          },
          "metadata": {}
        },
        {
          "output_type": "stream",
          "name": "stdout",
          "text": [
            "\n",
            "Epoch 5: val_loss did not improve from 113.59248\n",
            "469/469 [==============================] - 6s 14ms/step - loss: 107.8635 - val_loss: 113.7088\n",
            "Epoch 6/30\n",
            "467/469 [============================>.] - ETA: 0s - loss: 107.7613Embedding variances:\n"
          ]
        },
        {
          "output_type": "display_data",
          "data": {
            "text/plain": [
              "<Figure size 1000x100 with 10 Axes>"
            ],
            "image/png": "[encoded data removed]"
          },
          "metadata": {}
        },
        {
          "output_type": "stream",
          "name": "stdout",
          "text": [
            "\n",
            "Epoch 6: val_loss did not improve from 113.59248\n",
            "469/469 [==============================] - 6s 13ms/step - loss: 107.7483 - val_loss: 113.6292\n",
            "Epoch 7/30\n",
            "466/469 [============================>.] - ETA: 0s - loss: 107.6522Embedding variances:\n"
          ]
        },
        {
          "output_type": "display_data",
          "data": {
            "text/plain": [
              "<Figure size 1000x100 with 10 Axes>"
            ],
            "image/png": "[encoded data removed]"
          },
          "metadata": {}
        },
        {
          "output_type": "stream",
          "name": "stdout",
          "text": [
            "\n",
            "Epoch 7: val_loss improved from 113.59248 to 113.28213, saving model to models/model.113.3.keras\n",
            "469/469 [==============================] - 7s 14ms/step - loss: 107.6355 - val_loss: 113.2821\n",
            "Epoch 8/30\n",
            "465/469 [============================>.] - ETA: 0s - loss: 107.5568Embedding variances:\n"
          ]
        },
        {
          "output_type": "display_data",
          "data": {
            "text/plain": [
              "<Figure size 1000x100 with 10 Axes>"
            ],
            "image/png": "[encoded data removed]"
          },
          "metadata": {}
        },
        {
          "output_type": "stream",
          "name": "stdout",
          "text": [
            "\n",
            "Epoch 8: val_loss did not improve from 113.28213\n",
            "469/469 [==============================] - 6s 13ms/step - loss: 107.5373 - val_loss: 113.3745\n",
            "Epoch 9/30\n",
            "466/469 [============================>.] - ETA: 0s - loss: 107.4441Embedding variances:\n"
          ]
        },
        {
          "output_type": "display_data",
          "data": {
            "text/plain": [
              "<Figure size 1000x100 with 10 Axes>"
            ],
            "image/png": "[encoded data removed]"
          },
          "metadata": {}
        },
        {
          "output_type": "stream",
          "name": "stdout",
          "text": [
            "\n",
            "Epoch 9: val_loss did not improve from 113.28213\n",
            "469/469 [==============================] - 7s 14ms/step - loss: 107.4300 - val_loss: 113.4983\n",
            "Epoch 10/30\n",
            "464/469 [============================>.] - ETA: 0s - loss: 107.2429Embedding variances:\n"
          ]
        },
        {
          "output_type": "display_data",
          "data": {
            "text/plain": [
              "<Figure size 1000x100 with 10 Axes>"
            ],
            "image/png": "[encoded data removed]"
          },
          "metadata": {}
        },
        {
          "output_type": "stream",
          "name": "stdout",
          "text": [
            "\n",
            "Epoch 10: val_loss did not improve from 113.28213\n",
            "469/469 [==============================] - 6s 13ms/step - loss: 107.2331 - val_loss: 113.4260\n",
            "Epoch 11/30\n",
            "465/469 [============================>.] - ETA: 0s - loss: 107.2480Original:\n"
          ]
        },
        {
          "output_type": "display_data",
          "data": {
            "text/plain": [
              "<Figure size 1000x100 with 10 Axes>"
            ],
            "image/png": "[encoded data removed]"
          },
          "metadata": {}
        },
        {
          "output_type": "stream",
          "name": "stdout",
          "text": [
            "Embedding:\n"
          ]
        },
        {
          "output_type": "display_data",
          "data": {
            "text/plain": [
              "<Figure size 1000x100 with 10 Axes>"
            ],
            "image/png": "[encoded data removed]"
          },
          "metadata": {}
        },
        {
          "output_type": "stream",
          "name": "stdout",
          "text": [
            "Embedding means:\n"
          ]
        },
        {
          "output_type": "display_data",
          "data": {
            "text/plain": [
              "<Figure size 1000x100 with 10 Axes>"
            ],
            "image/png": "[encoded data removed]"
          },
          "metadata": {}
        },
        {
          "output_type": "stream",
          "name": "stdout",
          "text": [
            "Embedding modes:\n"
          ]
        },
        {
          "output_type": "display_data",
          "data": {
            "text/plain": [
              "<Figure size 1000x100 with 10 Axes>"
            ],
            "image/png": "[encoded data removed]"
          },
          "metadata": {}
        },
        {
          "output_type": "stream",
          "name": "stdout",
          "text": [
            "Embedding variances:\n"
          ]
        },
        {
          "output_type": "display_data",
          "data": {
            "text/plain": [
              "<Figure size 1000x100 with 10 Axes>"
            ],
            "image/png": "[encoded data removed]"
          },
          "metadata": {}
        },
        {
          "output_type": "stream",
          "name": "stdout",
          "text": [
            "Reconstructions:\n"
          ]
        },
        {
          "output_type": "display_data",
          "data": {
            "text/plain": [
              "<Figure size 1000x100 with 10 Axes>"
            ],
            "image/png": "[encoded data removed]"
          },
          "metadata": {}
        },
        {
          "output_type": "stream",
          "name": "stdout",
          "text": [
            "Decoded modes:\n"
          ]
        },
        {
          "output_type": "display_data",
          "data": {
            "text/plain": [
              "<Figure size 1000x100 with 10 Axes>"
            ],
            "image/png": "[encoded data removed]"
          },
          "metadata": {}
        },
        {
          "output_type": "stream",
          "name": "stdout",
          "text": [
            "Decoded means:\n"
          ]
        },
        {
          "output_type": "display_data",
          "data": {
            "text/plain": [
              "<Figure size 1000x100 with 10 Axes>"
            ],
            "image/png": "[encoded data removed]"
          },
          "metadata": {}
        },
        {
          "output_type": "stream",
          "name": "stdout",
          "text": [
            "Decoded variances:\n"
          ]
        },
        {
          "output_type": "display_data",
          "data": {
            "text/plain": [
              "<Figure size 1000x100 with 10 Axes>"
            ],
            "image/png": "[encoded data removed]"
          },
          "metadata": {}
        },
        {
          "output_type": "stream",
          "name": "stdout",
          "text": [
            "Confidence map?:\n"
          ]
        },
        {
          "output_type": "display_data",
          "data": {
            "text/plain": [
              "<Figure size 1000x100 with 10 Axes>"
            ],
            "image/png": "[encoded data removed]"
          },
          "metadata": {}
        },
        {
          "output_type": "stream",
          "name": "stdout",
          "text": [
            "\n",
            "Epoch 11: val_loss improved from 113.28213 to 113.20036, saving model to models/model.113.2.keras\n",
            "469/469 [==============================] - 12s 25ms/step - loss: 107.2309 - val_loss: 113.2004\n",
            "Epoch 12/30\n",
            "467/469 [============================>.] - ETA: 0s - loss: 107.1107Embedding variances:\n"
          ]
        },
        {
          "output_type": "display_data",
          "data": {
            "text/plain": [
              "<Figure size 1000x100 with 10 Axes>"
            ],
            "image/png": "[encoded data removed]"
          },
          "metadata": {}
        },
        {
          "output_type": "stream",
          "name": "stdout",
          "text": [
            "\n",
            "Epoch 12: val_loss did not improve from 113.20036\n",
            "469/469 [==============================] - 6s 13ms/step - loss: 107.1009 - val_loss: 113.2822\n",
            "Epoch 13/30\n",
            "467/469 [============================>.] - ETA: 0s - loss: 106.9993Embedding variances:\n"
          ]
        },
        {
          "output_type": "display_data",
          "data": {
            "text/plain": [
              "<Figure size 1000x100 with 10 Axes>"
            ],
            "image/png": "[encoded data removed]"
          },
          "metadata": {}
        },
        {
          "output_type": "stream",
          "name": "stdout",
          "text": [
            "\n",
            "Epoch 13: val_loss did not improve from 113.20036\n",
            "469/469 [==============================] - 6s 13ms/step - loss: 106.9884 - val_loss: 113.3597\n",
            "Epoch 14/30\n",
            "468/469 [============================>.] - ETA: 0s - loss: 106.8884Embedding variances:\n"
          ]
        },
        {
          "output_type": "display_data",
          "data": {
            "text/plain": [
              "<Figure size 1000x100 with 10 Axes>"
            ],
            "image/png": "[encoded data removed]"
          },
          "metadata": {}
        },
        {
          "output_type": "stream",
          "name": "stdout",
          "text": [
            "\n",
            "Epoch 14: val_loss improved from 113.20036 to 113.08276, saving model to models/model.113.1.keras\n",
            "469/469 [==============================] - 6s 14ms/step - loss: 106.8761 - val_loss: 113.0828\n",
            "Epoch 15/30\n",
            "468/469 [============================>.] - ETA: 0s - loss: 106.8247Embedding variances:\n"
          ]
        },
        {
          "output_type": "display_data",
          "data": {
            "text/plain": [
              "<Figure size 1000x100 with 10 Axes>"
            ],
            "image/png": "[encoded data removed]"
          },
          "metadata": {}
        },
        {
          "output_type": "stream",
          "name": "stdout",
          "text": [
            "\n",
            "Epoch 15: val_loss did not improve from 113.08276\n",
            "469/469 [==============================] - 6s 14ms/step - loss: 106.8128 - val_loss: 113.1882\n",
            "Epoch 16/30\n",
            "467/469 [============================>.] - ETA: 0s - loss: 106.6287Embedding variances:\n"
          ]
        },
        {
          "output_type": "display_data",
          "data": {
            "text/plain": [
              "<Figure size 1000x100 with 10 Axes>"
            ],
            "image/png": "[encoded data removed]"
          },
          "metadata": {}
        },
        {
          "output_type": "stream",
          "name": "stdout",
          "text": [
            "\n",
            "Epoch 16: val_loss improved from 113.08276 to 112.97886, saving model to models/model.113.0.keras\n",
            "469/469 [==============================] - 7s 14ms/step - loss: 106.6172 - val_loss: 112.9789\n",
            "Epoch 17/30\n",
            "466/469 [============================>.] - ETA: 0s - loss: 106.6408Embedding variances:\n"
          ]
        },
        {
          "output_type": "display_data",
          "data": {
            "text/plain": [
              "<Figure size 1000x100 with 10 Axes>"
            ],
            "image/png": "[encoded data removed]"
          },
          "metadata": {}
        },
        {
          "output_type": "stream",
          "name": "stdout",
          "text": [
            "\n",
            "Epoch 17: val_loss did not improve from 112.97886\n",
            "469/469 [==============================] - 6s 13ms/step - loss: 106.6318 - val_loss: 113.3091\n",
            "Epoch 18/30\n",
            "466/469 [============================>.] - ETA: 0s - loss: 106.5328Embedding variances:\n"
          ]
        },
        {
          "output_type": "display_data",
          "data": {
            "text/plain": [
              "<Figure size 1000x100 with 10 Axes>"
            ],
            "image/png": "[encoded data removed]"
          },
          "metadata": {}
        },
        {
          "output_type": "stream",
          "name": "stdout",
          "text": [
            "\n",
            "Epoch 18: val_loss did not improve from 112.97886\n",
            "469/469 [==============================] - 6s 14ms/step - loss: 106.5237 - val_loss: 113.0309\n",
            "Epoch 19/30\n",
            "465/469 [============================>.] - ETA: 0s - loss: 106.4136Embedding variances:\n"
          ]
        },
        {
          "output_type": "display_data",
          "data": {
            "text/plain": [
              "<Figure size 1000x100 with 10 Axes>"
            ],
            "image/png": "[encoded data removed]"
          },
          "metadata": {}
        },
        {
          "output_type": "stream",
          "name": "stdout",
          "text": [
            "\n",
            "Epoch 19: val_loss did not improve from 112.97886\n",
            "469/469 [==============================] - 6s 13ms/step - loss: 106.3927 - val_loss: 113.3626\n",
            "Epoch 20/30\n",
            "469/469 [==============================] - ETA: 0s - loss: 106.3389Embedding variances:\n"
          ]
        },
        {
          "output_type": "display_data",
          "data": {
            "text/plain": [
              "<Figure size 1000x100 with 10 Axes>"
            ],
            "image/png": "[encoded data removed]"
          },
          "metadata": {}
        },
        {
          "output_type": "stream",
          "name": "stdout",
          "text": [
            "\n",
            "Epoch 20: val_loss did not improve from 112.97886\n",
            "469/469 [==============================] - 6s 13ms/step - loss: 106.3389 - val_loss: 113.2192\n",
            "Epoch 21/30\n",
            "465/469 [============================>.] - ETA: 0s - loss: 106.3075Original:\n"
          ]
        },
        {
          "output_type": "display_data",
          "data": {
            "text/plain": [
              "<Figure size 1000x100 with 10 Axes>"
            ],
            "image/png": "[encoded data removed]"
          },
          "metadata": {}
        },
        {
          "output_type": "stream",
          "name": "stdout",
          "text": [
            "Embedding:\n"
          ]
        },
        {
          "output_type": "display_data",
          "data": {
            "text/plain": [
              "<Figure size 1000x100 with 10 Axes>"
            ],
            "image/png": "[encoded data removed]"
          },
          "metadata": {}
        },
        {
          "output_type": "stream",
          "name": "stdout",
          "text": [
            "Embedding means:\n"
          ]
        },
        {
          "output_type": "display_data",
          "data": {
            "text/plain": [
              "<Figure size 1000x100 with 10 Axes>"
            ],
            "image/png": "[encoded data removed]"
          },
          "metadata": {}
        },
        {
          "output_type": "stream",
          "name": "stdout",
          "text": [
            "Embedding modes:\n"
          ]
        },
        {
          "output_type": "display_data",
          "data": {
            "text/plain": [
              "<Figure size 1000x100 with 10 Axes>"
            ],
            "image/png": "[encoded data removed]"
          },
          "metadata": {}
        },
        {
          "output_type": "stream",
          "name": "stdout",
          "text": [
            "Embedding variances:\n"
          ]
        },
        {
          "output_type": "display_data",
          "data": {
            "text/plain": [
              "<Figure size 1000x100 with 10 Axes>"
            ],
            "image/png": "[encoded data removed]"
          },
          "metadata": {}
        },
        {
          "output_type": "stream",
          "name": "stdout",
          "text": [
            "Reconstructions:\n"
          ]
        },
        {
          "output_type": "display_data",
          "data": {
            "text/plain": [
              "<Figure size 1000x100 with 10 Axes>"
            ],
            "image/png": "[encoded data removed]"
          },
          "metadata": {}
        },
        {
          "output_type": "stream",
          "name": "stdout",
          "text": [
            "Decoded modes:\n"
          ]
        },
        {
          "output_type": "display_data",
          "data": {
            "text/plain": [
              "<Figure size 1000x100 with 10 Axes>"
            ],
            "image/png": "[encoded data removed]"
          },
          "metadata": {}
        },
        {
          "output_type": "stream",
          "name": "stdout",
          "text": [
            "Decoded means:\n"
          ]
        },
        {
          "output_type": "display_data",
          "data": {
            "text/plain": [
              "<Figure size 1000x100 with 10 Axes>"
            ],
            "image/png": "[encoded data removed]"
          },
          "metadata": {}
        },
        {
          "output_type": "stream",
          "name": "stdout",
          "text": [
            "Decoded variances:\n"
          ]
        },
        {
          "output_type": "display_data",
          "data": {
            "text/plain": [
              "<Figure size 1000x100 with 10 Axes>"
            ],
            "image/png": "[encoded data removed]"
          },
          "metadata": {}
        },
        {
          "output_type": "stream",
          "name": "stdout",
          "text": [
            "Confidence map?:\n"
          ]
        },
        {
          "output_type": "display_data",
          "data": {
            "text/plain": [
              "<Figure size 1000x100 with 10 Axes>"
            ],
            "image/png": "[encoded data removed]"
          },
          "metadata": {}
        },
        {
          "output_type": "stream",
          "name": "stdout",
          "text": [
            "\n",
            "Epoch 21: val_loss improved from 112.97886 to 112.91110, saving model to models/model.112.9.keras\n",
            "469/469 [==============================] - 10s 21ms/step - loss: 106.2933 - val_loss: 112.9111\n",
            "Epoch 22/30\n",
            "467/469 [============================>.] - ETA: 0s - loss: 106.2044Embedding variances:\n"
          ]
        },
        {
          "output_type": "display_data",
          "data": {
            "text/plain": [
              "<Figure size 1000x100 with 10 Axes>"
            ],
            "image/png": "[encoded data removed]"
          },
          "metadata": {}
        },
        {
          "output_type": "stream",
          "name": "stdout",
          "text": [
            "\n",
            "Epoch 22: val_loss did not improve from 112.91110\n",
            "469/469 [==============================] - 6s 14ms/step - loss: 106.1910 - val_loss: 113.2396\n",
            "Epoch 23/30\n",
            "468/469 [============================>.] - ETA: 0s - loss: 106.1431Embedding variances:\n"
          ]
        },
        {
          "output_type": "display_data",
          "data": {
            "text/plain": [
              "<Figure size 1000x100 with 10 Axes>"
            ],
            "image/png": "[encoded data removed]"
          },
          "metadata": {}
        },
        {
          "output_type": "stream",
          "name": "stdout",
          "text": [
            "\n",
            "Epoch 23: val_loss improved from 112.91110 to 112.90224, saving model to models/model.112.9.keras\n",
            "469/469 [==============================] - 7s 14ms/step - loss: 106.1297 - val_loss: 112.9022\n",
            "Epoch 24/30\n",
            "468/469 [============================>.] - ETA: 0s - loss: 106.0765Embedding variances:\n"
          ]
        },
        {
          "output_type": "display_data",
          "data": {
            "text/plain": [
              "<Figure size 1000x100 with 10 Axes>"
            ],
            "image/png": "[encoded data removed]"
          },
          "metadata": {}
        },
        {
          "output_type": "stream",
          "name": "stdout",
          "text": [
            "\n",
            "Epoch 24: val_loss did not improve from 112.90224\n",
            "469/469 [==============================] - 9s 19ms/step - loss: 106.0615 - val_loss: 113.0525\n",
            "Epoch 25/30\n",
            "466/469 [============================>.] - ETA: 0s - loss: 106.0167Embedding variances:\n"
          ]
        },
        {
          "output_type": "display_data",
          "data": {
            "text/plain": [
              "<Figure size 1000x100 with 10 Axes>"
            ],
            "image/png": "[encoded data removed]"
          },
          "metadata": {}
        },
        {
          "output_type": "stream",
          "name": "stdout",
          "text": [
            "\n",
            "Epoch 25: val_loss did not improve from 112.90224\n",
            "469/469 [==============================] - 6s 14ms/step - loss: 106.0054 - val_loss: 113.2427\n",
            "Epoch 26/30\n",
            "469/469 [==============================] - ETA: 0s - loss: 105.9277Embedding variances:\n"
          ]
        },
        {
          "output_type": "display_data",
          "data": {
            "text/plain": [
              "<Figure size 1000x100 with 10 Axes>"
            ],
            "image/png": "[encoded data removed]"
          },
          "metadata": {}
        },
        {
          "output_type": "stream",
          "name": "stdout",
          "text": [
            "\n",
            "Epoch 26: val_loss improved from 112.90224 to 112.89292, saving model to models/model.112.9.keras\n",
            "469/469 [==============================] - 7s 14ms/step - loss: 105.9277 - val_loss: 112.8929\n",
            "Epoch 27/30\n",
            "469/469 [==============================] - ETA: 0s - loss: 105.8870Embedding variances:\n"
          ]
        },
        {
          "output_type": "display_data",
          "data": {
            "text/plain": [
              "<Figure size 1000x100 with 10 Axes>"
            ],
            "image/png": "[encoded data removed]"
          },
          "metadata": {}
        },
        {
          "output_type": "stream",
          "name": "stdout",
          "text": [
            "\n",
            "Epoch 27: val_loss did not improve from 112.89292\n",
            "469/469 [==============================] - 7s 15ms/step - loss: 105.8870 - val_loss: 113.1376\n",
            "Epoch 28/30\n",
            "464/469 [============================>.] - ETA: 0s - loss: 105.8326Embedding variances:\n"
          ]
        },
        {
          "output_type": "display_data",
          "data": {
            "text/plain": [
              "<Figure size 1000x100 with 10 Axes>"
            ],
            "image/png": "[encoded data removed]"
          },
          "metadata": {}
        },
        {
          "output_type": "stream",
          "name": "stdout",
          "text": [
            "\n",
            "Epoch 28: val_loss did not improve from 112.89292\n",
            "469/469 [==============================] - 6s 13ms/step - loss: 105.8223 - val_loss: 112.9896\n",
            "Epoch 29/30\n",
            "466/469 [============================>.] - ETA: 0s - loss: 105.7813Embedding variances:\n"
          ]
        },
        {
          "output_type": "display_data",
          "data": {
            "text/plain": [
              "<Figure size 1000x100 with 10 Axes>"
            ],
            "image/png": "[encoded data removed]"
          },
          "metadata": {}
        },
        {
          "output_type": "stream",
          "name": "stdout",
          "text": [
            "\n",
            "Epoch 29: val_loss improved from 112.89292 to 112.87609, saving model to models/model.112.9.keras\n",
            "469/469 [==============================] - 6s 14ms/step - loss: 105.7704 - val_loss: 112.8761\n",
            "Epoch 30/30\n",
            "468/469 [============================>.] - ETA: 0s - loss: 105.7522Embedding variances:\n"
          ]
        },
        {
          "output_type": "display_data",
          "data": {
            "text/plain": [
              "<Figure size 1000x100 with 10 Axes>"
            ],
            "image/png": "[encoded data removed]"
          },
          "metadata": {}
        },
        {
          "output_type": "stream",
          "name": "stdout",
          "text": [
            "\n",
            "Epoch 30: val_loss improved from 112.87609 to 112.81172, saving model to models/model.112.8.keras\n",
            "469/469 [==============================] - 6s 14ms/step - loss: 105.7405 - val_loss: 112.8117\n"
          ]
        },
        {
          "output_type": "execute_result",
          "data": {
            "text/plain": [
              "<keras.src.callbacks.History at 0x78d407226e60>"
            ]
          },
          "metadata": {},
          "execution_count": 24
        }
      ]
    },
    {
      "cell_type": "code",
      "source": [
        "# We'll just examine ten random digits.\n",
        "# xhat = vae(next(iter(eval_dataset))[0][:10])\n",
        "# assert isinstance(xhat, tfd.Distribution)\n",
        "# print('Originals:')\n",
        "# display_imgs(next(iter(eval_dataset))[0][:10])\n",
        "# print('Reconstructions:')\n",
        "# display_imgs(xhat.sample())\n",
        "\n",
        "# print('Decoded modes:')\n",
        "# display_imgs(xhat.mode())\n",
        "\n",
        "# print('Decoded means:')\n",
        "# display_imgs(xhat.mean())\n",
        "\n",
        "print('Embedding:')\n",
        "encoded= encoder(next(iter(eval_dataset))[0][:10]).sample()\n",
        "# reshape the last dimension from (16,) to (4,4)\n",
        "encoded = tf.reshape(encoded, [-1, 4, 4, 1])\n",
        "display_imgs(encoded)\n"
      ],
      "metadata": {
        "id": "ltZhItKdnkbZ"
      },
      "execution_count": null,
      "outputs": []
    },
    {
      "cell_type": "code",
      "source": [
        "vae.compile(optimizer=tfk.optimizers.Adam(learning_rate=2e-3),\n",
        "            loss=negloglik)\n",
        "\n",
        "vae.fit(train_dataset,\n",
        "            epochs=15, batch_size=batch_size,\n",
        "            validation_data=eval_dataset)\n"
      ],
      "metadata": {
        "colab": {
          "base_uri": "https://localhost:8080/"
        },
        "id": "y923bt8mAj5R",
        "outputId": "f558a56c-e6ca-4dd4-b9ed-f75c489e5f38"
      },
      "execution_count": 8,
      "outputs": [
        {
          "output_type": "stream",
          "name": "stdout",
          "text": [
            "Epoch 1/15\n",
            "469/469 [==============================] - 12s 14ms/step - loss: 122.6911 - val_loss: 121.2680\n",
            "Epoch 2/15\n",
            "469/469 [==============================] - 6s 12ms/step - loss: 121.1165 - val_loss: 120.8817\n",
            "Epoch 3/15\n",
            "469/469 [==============================] - 6s 12ms/step - loss: 120.9630 - val_loss: 121.5750\n",
            "Epoch 4/15\n",
            "469/469 [==============================] - 6s 12ms/step - loss: 120.7787 - val_loss: 121.4463\n",
            "Epoch 5/15\n",
            "469/469 [==============================] - 6s 12ms/step - loss: 120.5148 - val_loss: 121.1965\n",
            "Epoch 6/15\n",
            "469/469 [==============================] - 6s 12ms/step - loss: 120.2527 - val_loss: 120.3328\n",
            "Epoch 7/15\n",
            "469/469 [==============================] - 6s 12ms/step - loss: 120.1741 - val_loss: 120.6111\n",
            "Epoch 8/15\n",
            "469/469 [==============================] - 6s 12ms/step - loss: 119.9274 - val_loss: 120.2241\n",
            "Epoch 9/15\n",
            "469/469 [==============================] - 6s 12ms/step - loss: 119.7546 - val_loss: 120.5511\n",
            "Epoch 10/15\n",
            "469/469 [==============================] - 6s 12ms/step - loss: 119.5565 - val_loss: 120.3295\n",
            "Epoch 11/15\n",
            "469/469 [==============================] - 6s 12ms/step - loss: 119.1972 - val_loss: 119.4757\n",
            "Epoch 12/15\n",
            "469/469 [==============================] - 5s 12ms/step - loss: 118.9835 - val_loss: 119.2158\n",
            "Epoch 13/15\n",
            "469/469 [==============================] - 6s 12ms/step - loss: 118.6678 - val_loss: 119.1081\n",
            "Epoch 14/15\n",
            "469/469 [==============================] - 6s 12ms/step - loss: 118.2569 - val_loss: 118.8382\n",
            "Epoch 15/15\n",
            "469/469 [==============================] - 6s 12ms/step - loss: 118.2330 - val_loss: 118.5660\n"
          ]
        },
        {
          "output_type": "execute_result",
          "data": {
            "text/plain": [
              "<keras.src.callbacks.History at 0x78d468371810>"
            ]
          },
          "metadata": {},
          "execution_count": 8
        }
      ]
    },
    {
      "cell_type": "code",
      "source": [
        "# Now, let's generate ten never-before-seen digits.\n",
        "z = prior.sample(10)\n",
        "xtilde = decoder(z)\n",
        "assert isinstance(xtilde, tfd.Distribution)\n",
        "\n",
        "print('Randomly Generated Samples:')\n",
        "display_imgs(xtilde.sample())\n",
        "\n",
        "print('Randomly Generated Modes:')\n",
        "display_imgs(xtilde.mode())\n",
        "\n",
        "print('Randomly Generated Means:')\n",
        "display_imgs(xtilde.mean())\n"
      ],
      "metadata": {
        "colab": {
          "base_uri": "https://localhost:8080/",
          "height": 324
        },
        "id": "sL9znkgqAj06",
        "outputId": "10ae6a8e-28cf-411c-bc17-1a0b973ce194"
      },
      "execution_count": 9,
      "outputs": [
        {
          "output_type": "stream",
          "name": "stdout",
          "text": [
            "Randomly Generated Samples:\n"
          ]
        },
        {
          "output_type": "display_data",
          "data": {
            "text/plain": [
              "<Figure size 1000x100 with 10 Axes>"
            ],
            "image/png": "[encoded data removed]"
          },
          "metadata": {}
        },
        {
          "output_type": "stream",
          "name": "stdout",
          "text": [
            "Randomly Generated Modes:\n"
          ]
        },
        {
          "output_type": "display_data",
          "data": {
            "text/plain": [
              "<Figure size 1000x100 with 10 Axes>"
            ],
            "image/png": "[encoded data removed]"
          },
          "metadata": {}
        },
        {
          "output_type": "stream",
          "name": "stdout",
          "text": [
            "Randomly Generated Means:\n"
          ]
        },
        {
          "output_type": "display_data",
          "data": {
            "text/plain": [
              "<Figure size 1000x100 with 10 Axes>"
            ],
            "image/png": "[encoded data removed]"
          },
          "metadata": {}
        }
      ]
    },
    {
      "cell_type": "code",
      "source": [],
      "metadata": {
        "id": "JlVq4VMOAjxg"
      },
      "execution_count": 9,
      "outputs": []
    },
    {
      "cell_type": "code",
      "source": [
        "\n",
        "def pmf(k, lamb):\n",
        "    return tf.exp(-lamb) * lamb**k / tf.math.factorial(k)\n"
      ],
      "metadata": {
        "id": "jSBhacJk64ZT"
      },
      "execution_count": 10,
      "outputs": []
    },
    {
      "cell_type": "markdown",
      "source": [
        "# Fusion of nonlinear state-space models and dynamic factor models\n"
      ],
      "metadata": {
        "id": "eDNGwEYw68JA"
      }
    },
    {
      "cell_type": "markdown",
      "source": [
        "## _Nonlinear State-Space Models_\n",
        "\n",
        "Nonlinear state-space models are used to describe systems where the relationship between the state variables and the observations is nonlinear. These models are represented by the following equations:\n",
        "\n",
        "### State transition equation\n",
        "$$\n",
        "x_{t+1} = f(x_t, u_t) + w_t\n",
        "$$\n",
        "\n",
        "where:\n",
        "- $x_{t}$ is the state vector at time $t$\n",
        "- $u_{t}$ is the input vector at time $t$\n",
        "- $f$ is a nonlinear function\n",
        "- $w_{t}$ is process noise at time $t$\n",
        "\n",
        "\n",
        "### Observation equation\n",
        "$$\n",
        "y_t = h(x_t) + v_t\n",
        "$$\n",
        "\n",
        "where:\n",
        "- $y_{t}$ is the observation vector at time $t$\n",
        "- $h$ is a nonlinear function\n",
        "- $v_{t}$ is observation noise at time $t$\n",
        "\n",
        "\n",
        "## _Dynamic Factor Models_\n",
        "\n",
        "Dynamic factor models decompose the observed variables into a small number of latent factors that capture the common dynamics among the variables. The basic form of a DFM is:\n",
        "\n",
        "### State transition equation\n",
        "$$\n",
        "y_t = \\Lambda f_t + \\epsilon_t\n",
        "$$\n",
        "\n",
        "where:\n",
        "- $y_{t}$ is the observation vector at time $t$\n",
        "- $\\Lambda$ is the loading matrix\n",
        "- $f_t$ is the vector of latent factors\n",
        "- $\\epsilon_t$ is the idiosyncratic error\n",
        "\n",
        "### State transition equation for factors\n",
        "$$\n",
        "f_t = \\Phi f_{t-1} + \\eta_t\n",
        "$$\n",
        "\n",
        "where:\n",
        "- $f_t$ is the vector of latent factors\n",
        "- $\\Phi$ is the transition matrix for the factors\n",
        "- $\\eta_t$ is the factor innovation\n",
        "\n",
        "## _Nonlinear State-Space + Dynamic Factor Models_\n",
        "\n",
        "To fuse these two approaches, we can represent the latent factors of the DFM within a nonlinear state-space framework. This involves defining the latent factors as the state variables in the state-space model:\n",
        "\n",
        "### State transition equation\n",
        "$$\n",
        "f_{t+1} = \\Phi f_t + g(f_t, u_t) + \\eta_t\n",
        "$$\n",
        "\n",
        "Here, $g(f_t, u_t)$ is a nonlinear function capturing the dynamics influenced by the inputs $u_t$.\n",
        "\n",
        "### Observation equation\n",
        "$$\n",
        "y_t = \\Lambda f_t + h(f_t) + \\epsilon_t\n",
        "$$\n",
        "\n",
        "The function $h(f_t)$ captures the nonlinear relationship between the factors and the observed variables.\n",
        "\n",
        "## Estimation techniques\n",
        "\n",
        "The Unscented Kalman Filter provides an accurate approximation for nonlinear transformations by using a deterministic sampling approach.\n"
      ],
      "metadata": {
        "id": "vZFdwQlTBgJo"
      }
    },
    {
      "cell_type": "code",
      "source": [
        "# we'll need to learn:\n",
        "# $\\Phi$, the transition matrix for the factors\n",
        "# $f_{t}$, the vector of latent factors\n",
        "# $\\eta_t$, factor innovation\n",
        "# $\\Lambda$, the loading matrix\n",
        "# $g(f_t, u_t)$, the nonlinear function capturing the dynamics influenced by the inputs\n",
        "# $h(f_t)$, the nonlinear relationship between the factors and the observed variables\n",
        "\n",
        "# yikes\n",
        "\n",
        "n_features = 2 # Number of observed features\n",
        "# n_factors = 5   # Number of latent factors\n",
        "timesteps = 24  # Number of timesteps in the time series window\n"
      ],
      "metadata": {
        "id": "iWcr-1RW64V6"
      },
      "execution_count": 11,
      "outputs": []
    },
    {
      "cell_type": "code",
      "source": [
        "\n",
        "\n",
        "# Define the transition and observation functions\n",
        "def transition_fn(x):\n",
        "    # Nonlinear state-space model\n",
        "    print(f\"x: {x}\")\n",
        "    if all([z==0. for z in x]):\n",
        "        return x\n",
        "    # raise NotImplementedError\n",
        "    return tfd.MultivariateNormalDiag(\n",
        "        tf.stack([x[..., 0] - 0.1 * x[..., 1]**3, x[..., 1]], axis=-1),\n",
        "        scale_diag=[0.7, 0.2]\n",
        "    )\n",
        "\n",
        "#\n",
        "def transition_jacobian_fn(x):\n",
        "    return tf.reshape(\n",
        "        tf.stack([\n",
        "            1. - 0.1 * x[..., 1]**3, -0.3 * x[..., 1]**2,\n",
        "            tf.zeros(x.shape[:-1]), tf.ones(x.shape[:-1])\n",
        "        ], axis=-1),\n",
        "        [2, 2]\n",
        "    )\n",
        "\n",
        "def observation_fn(x):\n",
        "    return tfd.MultivariateNormalDiag(\n",
        "        x[..., :(n_features-1)],\n",
        "        scale_diag=[1. for _ in range(n_features-1)])\n",
        "\n",
        "def observation_jacobian_fn(x):\n",
        "    return [[1. if j == 0 else 0. for j in range(n_features)]]\n",
        "\n",
        "# Initial state prior\n",
        "initial_state_prior = tfd.MultivariateNormalDiag(\n",
        "    loc=[0. for _ in range(n_features)],\n",
        "    scale_diag=[tf.exp(0.-0.5*x) for x in range(n_features)])\n",
        "\n",
        "print(f\"initial_state_prior: {initial_state_prior.sample()}\")\n",
        "\n",
        "# Observations (synthetic data for demonstration)\n",
        "observations = observation_fn(tf.stack([initial_state_prior.sample() for _ in range(timesteps*2)])).sample()\n",
        "print(f\"observations: {observations.shape}\")\n",
        "\n",
        "# Apply the Extended Kalman Filter\n",
        "results = tfp.experimental.sequential.extended_kalman_filter(\n",
        "    observations=observations,\n",
        "    initial_state_prior=initial_state_prior,\n",
        "    transition_fn=transition_fn,\n",
        "    observation_fn=observation_fn,\n",
        "    transition_jacobian_fn=transition_jacobian_fn,\n",
        "    observation_jacobian_fn=observation_jacobian_fn\n",
        ")\n",
        "\n",
        "# print(f\"{[result for result in results]}\")\n",
        "# raise ValueError(\"Not implemented\")\n",
        "# print(\"Filtered state means:\", results)\n",
        "\n",
        "@keras.utils.register_keras_serializable()\n",
        "class EKFLayer(Layer):\n",
        "    def __init__(self, transition_fn, observation_fn, transition_jacobian_fn, observation_jacobian_fn, state_prior=None, **kwargs):\n",
        "        super(EKFLayer, self).__init__(**kwargs)\n",
        "        self.transition_fn = transition_fn\n",
        "        self.observation_fn = observation_fn\n",
        "        self.transition_jacobian_fn = transition_jacobian_fn\n",
        "        self.observation_jacobian_fn = observation_jacobian_fn\n",
        "        self.state_prior = state_prior\n",
        "\n",
        "    def build(self, input_shape):\n",
        "        print(f\"input_shape: {input_shape}\")\n",
        "        if input_shape[0] is not None:\n",
        "            raise ValueError(\"Expected to be built with input_shape=(None, ...)\")\n",
        "        self.state_prior = self.add_weight(\n",
        "            name=\"state_prior\",\n",
        "            shape=(input_shape[-2], input_shape[-1]),\n",
        "            trainable=True,\n",
        "            dtype=self.dtype)\n",
        "        self.transition_matrix = self.add_weight(\n",
        "            name=\"transition_matrix\",\n",
        "            shape=(input_shape[-1], input_shape[-1]),\n",
        "            trainable=True,\n",
        "            dtype=self.dtype)\n",
        "        self.latent_factors = self.add_weight(\n",
        "            name=\"latent_factors\",\n",
        "            shape=(input_shape[-1],),\n",
        "            trainable=True,\n",
        "            dtype=self.dtype)\n",
        "        # if input_shape[0] is None:\n",
        "        #     raise ValueError(\"inputs must be a tuple of (observations, initial_state)\")\n",
        "        # self.observation_matrix =\n",
        "        # self.initial_state_prior =\n",
        "        # self.transition_jacobian =\n",
        "        # self.observation_jacobian =\n",
        "        # self.factor_innovation =\n",
        "        # self.loading_matrix =\n",
        "        # self.nonlinear_function =\n",
        "        # self.nonlinear_relationship =\n",
        "        # self.latent_factors =\n",
        "        # self.factor_innovation = self.add_weight(\n",
        "        #     name=\"factor_innovation\",\n",
        "        #     shape=(input_shape[0],),\n",
        "        #     dtype=self.dtype)\n",
        "        super(EKFLayer, self).build(input_shape)\n",
        "\n",
        "    def call(self, inputs):\n",
        "        if inputs.shape[0] is None:\n",
        "            print(\"Warning, inputs.shape[0] is None\")\n",
        "            # raise ValueError(\"inputs must be a tuple of (observations, initial_state)\")\n",
        "            return inputs\n",
        "        print(f\"inputs: {inputs}\")\n",
        "        observations = inputs\n",
        "        results = tfp.experimental.sequential.extended_kalman_filter(\n",
        "            observations=observations,\n",
        "            initial_state_prior=self.state_prior,\n",
        "            transition_fn=self.transition_fn,\n",
        "            observation_fn=self.observation_fn,\n",
        "            transition_jacobian_fn=self.transition_jacobian_fn,\n",
        "            observation_jacobian_fn=self.observation_jacobian_fn\n",
        "        )\n",
        "        return results[0]\n",
        "\n",
        "# Create the custom EKF layer\n",
        "ekf_layer = EKFLayer(transition_fn, observation_fn,\n",
        "                     transition_jacobian_fn, observation_jacobian_fn,\n",
        "                     state_prior=initial_state_prior)\n",
        "\n",
        "# Example usage in a Keras model\n",
        "inputs = tf.keras.Input(shape=(timesteps, n_features))\n",
        "ekf = ekf_layer(inputs)\n",
        "model = tf.keras.Model(inputs=inputs, outputs=ekf)\n",
        "model.summary()\n",
        "\n",
        "@keras.utils.register_keras_serializable()\n",
        "def custom_loss(y_true, y_pred):\n",
        "    # Example: Mean Squared Logarithmic Error to handle skewness\n",
        "    return K.mean(K.square(K.log(1 + y_true) - K.log(1 + y_pred)), axis=-1)\n",
        "\n",
        "# Compile the model with the custom loss function\n",
        "model.compile(optimizer='adam', loss=custom_loss)\n",
        "\n",
        "# summary\n",
        "model.summary()\n",
        "\n",
        "# Generate some example data\n",
        "X_train = np.random.rand(100000, timesteps, n_features)\n",
        "y_train = np.random.rand(100000, timesteps, n_features)\n",
        "\n",
        "# Train the model\n",
        "history = model.fit(X_train, y_train, epochs=5, batch_size=128, validation_split=0.2)\n",
        "print(f'Training loss: {history.history[\"loss\"][-1]}')\n",
        "print(f'Validation loss: {history.history[\"val_loss\"][-1]}')\n",
        "\n",
        "# Generate some example test data\n",
        "X_test = np.random.rand(200, timesteps, n_features)\n",
        "y_test = np.random.rand(200, timesteps, n_features)\n",
        "\n",
        "# Evaluate the model\n",
        "loss = model.evaluate(X_test, y_test)\n",
        "print(f'Test Loss: {loss}')\n",
        "\n",
        "# Make predictions\n",
        "predictions = model.predict(X_test)\n",
        "print(f'Predictions: {predictions}')\n",
        "\n",
        "model.save(\"model.keras\")\n",
        "\n",
        "del model\n",
        "model = tf.keras.models.load_model(\"model.keras\")\n",
        "model.summary()\n",
        "\n",
        "\n"
      ],
      "metadata": {
        "colab": {
          "base_uri": "https://localhost:8080/",
          "height": 408
        },
        "id": "qD-UWF1ZPAZO",
        "outputId": "c6565bb3-4786-405a-cb77-a3efad2ad4a3"
      },
      "execution_count": 12,
      "outputs": [
        {
          "output_type": "stream",
          "name": "stdout",
          "text": [
            "initial_state_prior: [-2.1426442 -0.529029 ]\n",
            "observations: (48, 1)\n",
            "x: [0. 0.]\n"
          ]
        },
        {
          "output_type": "error",
          "ename": "AttributeError",
          "evalue": "'tensorflow.python.framework.ops.EagerTensor' object has no attribute 'covariance'",
          "traceback": [
            "\u001b[0;31m---------------------------------------------------------------------------\u001b[0m",
            "\u001b[0;31mAttributeError\u001b[0m                            Traceback (most recent call last)",
            "\u001b[0;32m<ipython-input-12-41d64c919241>\u001b[0m in \u001b[0;36m<cell line: 43>\u001b[0;34m()\u001b[0m\n\u001b[1;32m     41\u001b[0m \u001b[0;34m\u001b[0m\u001b[0m\n\u001b[1;32m     42\u001b[0m \u001b[0;31m# Apply the Extended Kalman Filter\u001b[0m\u001b[0;34m\u001b[0m\u001b[0;34m\u001b[0m\u001b[0m\n\u001b[0;32m---> 43\u001b[0;31m results = tfp.experimental.sequential.extended_kalman_filter(\n\u001b[0m\u001b[1;32m     44\u001b[0m     \u001b[0mobservations\u001b[0m\u001b[0;34m=\u001b[0m\u001b[0mobservations\u001b[0m\u001b[0;34m,\u001b[0m\u001b[0;34m\u001b[0m\u001b[0;34m\u001b[0m\u001b[0m\n\u001b[1;32m     45\u001b[0m     \u001b[0minitial_state_prior\u001b[0m\u001b[0;34m=\u001b[0m\u001b[0minitial_state_prior\u001b[0m\u001b[0;34m,\u001b[0m\u001b[0;34m\u001b[0m\u001b[0;34m\u001b[0m\u001b[0m\n",
            "\u001b[0;32m/usr/local/lib/python3.10/dist-packages/tensorflow_probability/python/experimental/sequential/extended_kalman_filter.py\u001b[0m in \u001b[0;36mextended_kalman_filter\u001b[0;34m(observations, initial_state_prior, transition_fn, observation_fn, transition_jacobian_fn, observation_jacobian_fn, name)\u001b[0m\n\u001b[1;32m    237\u001b[0m       \u001b[0;32mreturn\u001b[0m \u001b[0mstep\u001b[0m \u001b[0;34m+\u001b[0m \u001b[0;36m1\u001b[0m\u001b[0;34m,\u001b[0m \u001b[0mupdated_estimate\u001b[0m\u001b[0;34m,\u001b[0m \u001b[0mnew_accumulated_quantities\u001b[0m\u001b[0;34m\u001b[0m\u001b[0;34m\u001b[0m\u001b[0m\n\u001b[1;32m    238\u001b[0m \u001b[0;34m\u001b[0m\u001b[0m\n\u001b[0;32m--> 239\u001b[0;31m     _, _, loop_results = tf.while_loop(\n\u001b[0m\u001b[1;32m    240\u001b[0m         \u001b[0mcond\u001b[0m\u001b[0;34m=\u001b[0m\u001b[0;32mlambda\u001b[0m \u001b[0mstep\u001b[0m\u001b[0;34m,\u001b[0m \u001b[0;34m*\u001b[0m\u001b[0m_\u001b[0m\u001b[0;34m:\u001b[0m \u001b[0mstep\u001b[0m \u001b[0;34m<\u001b[0m \u001b[0mnum_timesteps\u001b[0m\u001b[0;34m,\u001b[0m\u001b[0;34m\u001b[0m\u001b[0;34m\u001b[0m\u001b[0m\n\u001b[1;32m    241\u001b[0m         \u001b[0mbody\u001b[0m\u001b[0;34m=\u001b[0m\u001b[0m_loop_body\u001b[0m\u001b[0;34m,\u001b[0m\u001b[0;34m\u001b[0m\u001b[0;34m\u001b[0m\u001b[0m\n",
            "\u001b[0;32m/usr/local/lib/python3.10/dist-packages/tensorflow/python/util/deprecation.py\u001b[0m in \u001b[0;36mnew_func\u001b[0;34m(*args, **kwargs)\u001b[0m\n\u001b[1;32m    658\u001b[0m                   \u001b[0;34m'in a future version'\u001b[0m \u001b[0;32mif\u001b[0m \u001b[0mdate\u001b[0m \u001b[0;32mis\u001b[0m \u001b[0;32mNone\u001b[0m \u001b[0;32melse\u001b[0m\u001b[0;34m\u001b[0m\u001b[0;34m\u001b[0m\u001b[0m\n\u001b[1;32m    659\u001b[0m                   ('after %s' % date), instructions)\n\u001b[0;32m--> 660\u001b[0;31m       \u001b[0;32mreturn\u001b[0m \u001b[0mfunc\u001b[0m\u001b[0;34m(\u001b[0m\u001b[0;34m*\u001b[0m\u001b[0margs\u001b[0m\u001b[0;34m,\u001b[0m \u001b[0;34m**\u001b[0m\u001b[0mkwargs\u001b[0m\u001b[0;34m)\u001b[0m\u001b[0;34m\u001b[0m\u001b[0;34m\u001b[0m\u001b[0m\n\u001b[0m\u001b[1;32m    661\u001b[0m \u001b[0;34m\u001b[0m\u001b[0m\n\u001b[1;32m    662\u001b[0m     doc = _add_deprecated_arg_value_notice_to_docstring(func.__doc__, date,\n",
            "\u001b[0;32m/usr/local/lib/python3.10/dist-packages/tensorflow/python/ops/while_loop.py\u001b[0m in \u001b[0;36mwhile_loop_v2\u001b[0;34m(cond, body, loop_vars, shape_invariants, parallel_iterations, back_prop, swap_memory, maximum_iterations, name)\u001b[0m\n\u001b[1;32m    239\u001b[0m \u001b[0;34m\u001b[0m\u001b[0m\n\u001b[1;32m    240\u001b[0m   \"\"\"\n\u001b[0;32m--> 241\u001b[0;31m   return while_loop(\n\u001b[0m\u001b[1;32m    242\u001b[0m       \u001b[0mcond\u001b[0m\u001b[0;34m=\u001b[0m\u001b[0mcond\u001b[0m\u001b[0;34m,\u001b[0m\u001b[0;34m\u001b[0m\u001b[0;34m\u001b[0m\u001b[0m\n\u001b[1;32m    243\u001b[0m       \u001b[0mbody\u001b[0m\u001b[0;34m=\u001b[0m\u001b[0mbody\u001b[0m\u001b[0;34m,\u001b[0m\u001b[0;34m\u001b[0m\u001b[0;34m\u001b[0m\u001b[0m\n",
            "\u001b[0;32m/usr/local/lib/python3.10/dist-packages/tensorflow/python/ops/while_loop.py\u001b[0m in \u001b[0;36mwhile_loop\u001b[0;34m(cond, body, loop_vars, shape_invariants, parallel_iterations, back_prop, swap_memory, name, maximum_iterations, return_same_structure)\u001b[0m\n\u001b[1;32m    486\u001b[0m                                               list(loop_vars))\n\u001b[1;32m    487\u001b[0m       \u001b[0;32mwhile\u001b[0m \u001b[0mcond\u001b[0m\u001b[0;34m(\u001b[0m\u001b[0;34m*\u001b[0m\u001b[0mloop_vars\u001b[0m\u001b[0;34m)\u001b[0m\u001b[0;34m:\u001b[0m\u001b[0;34m\u001b[0m\u001b[0;34m\u001b[0m\u001b[0m\n\u001b[0;32m--> 488\u001b[0;31m         \u001b[0mloop_vars\u001b[0m \u001b[0;34m=\u001b[0m \u001b[0mbody\u001b[0m\u001b[0;34m(\u001b[0m\u001b[0;34m*\u001b[0m\u001b[0mloop_vars\u001b[0m\u001b[0;34m)\u001b[0m\u001b[0;34m\u001b[0m\u001b[0;34m\u001b[0m\u001b[0m\n\u001b[0m\u001b[1;32m    489\u001b[0m         \u001b[0;32mif\u001b[0m \u001b[0mtry_to_pack\u001b[0m \u001b[0;32mand\u001b[0m \u001b[0;32mnot\u001b[0m \u001b[0misinstance\u001b[0m\u001b[0;34m(\u001b[0m\u001b[0mloop_vars\u001b[0m\u001b[0;34m,\u001b[0m \u001b[0;34m(\u001b[0m\u001b[0mlist\u001b[0m\u001b[0;34m,\u001b[0m \u001b[0mtuple\u001b[0m\u001b[0;34m)\u001b[0m\u001b[0;34m)\u001b[0m\u001b[0;34m:\u001b[0m\u001b[0;34m\u001b[0m\u001b[0;34m\u001b[0m\u001b[0m\n\u001b[1;32m    490\u001b[0m           \u001b[0mpacked\u001b[0m \u001b[0;34m=\u001b[0m \u001b[0;32mTrue\u001b[0m\u001b[0;34m\u001b[0m\u001b[0;34m\u001b[0m\u001b[0m\n",
            "\u001b[0;32m/usr/local/lib/python3.10/dist-packages/tensorflow_probability/python/experimental/sequential/extended_kalman_filter.py\u001b[0m in \u001b[0;36m_loop_body\u001b[0;34m(step, current_estimate, accumulated_quantities)\u001b[0m\n\u001b[1;32m    229\u001b[0m       current_observations = tf.nest.map_structure(\n\u001b[1;32m    230\u001b[0m           lambda x, step=step: tf.gather(x, step), observations)\n\u001b[0;32m--> 231\u001b[0;31m       updated_estimate = nest.map_structure_up_to(\n\u001b[0m\u001b[1;32m    232\u001b[0m           \u001b[0mcurrent_observations\u001b[0m\u001b[0;34m,\u001b[0m\u001b[0;34m\u001b[0m\u001b[0;34m\u001b[0m\u001b[0m\n\u001b[1;32m    233\u001b[0m           \u001b[0mrun_ekf_step\u001b[0m\u001b[0;34m,\u001b[0m\u001b[0;34m\u001b[0m\u001b[0;34m\u001b[0m\u001b[0m\n",
            "\u001b[0;32m/usr/local/lib/python3.10/dist-packages/tensorflow/python/util/nest.py\u001b[0m in \u001b[0;36mmap_structure_up_to\u001b[0;34m(shallow_tree, func, *inputs, **kwargs)\u001b[0m\n\u001b[1;32m   1035\u001b[0m     \u001b[0;31m`\u001b[0m\u001b[0mshallow_tree\u001b[0m\u001b[0;31m`\u001b[0m\u001b[0;34m.\u001b[0m\u001b[0;34m\u001b[0m\u001b[0;34m\u001b[0m\u001b[0m\n\u001b[1;32m   1036\u001b[0m   \"\"\"\n\u001b[0;32m-> 1037\u001b[0;31m   return nest_util.map_structure_up_to(\n\u001b[0m\u001b[1;32m   1038\u001b[0m       \u001b[0mnest_util\u001b[0m\u001b[0;34m.\u001b[0m\u001b[0mModality\u001b[0m\u001b[0;34m.\u001b[0m\u001b[0mCORE\u001b[0m\u001b[0;34m,\u001b[0m\u001b[0;34m\u001b[0m\u001b[0;34m\u001b[0m\u001b[0m\n\u001b[1;32m   1039\u001b[0m       \u001b[0mshallow_tree\u001b[0m\u001b[0;34m,\u001b[0m\u001b[0;34m\u001b[0m\u001b[0;34m\u001b[0m\u001b[0m\n",
            "\u001b[0;32m/usr/local/lib/python3.10/dist-packages/tensorflow/python/util/nest_util.py\u001b[0m in \u001b[0;36mmap_structure_up_to\u001b[0;34m(modality, shallow_tree, func, *inputs, **kwargs)\u001b[0m\n\u001b[1;32m   1648\u001b[0m   \"\"\"\n\u001b[1;32m   1649\u001b[0m   \u001b[0;32mif\u001b[0m \u001b[0mmodality\u001b[0m \u001b[0;34m==\u001b[0m \u001b[0mModality\u001b[0m\u001b[0;34m.\u001b[0m\u001b[0mCORE\u001b[0m\u001b[0;34m:\u001b[0m\u001b[0;34m\u001b[0m\u001b[0;34m\u001b[0m\u001b[0m\n\u001b[0;32m-> 1650\u001b[0;31m     return _tf_core_map_structure_with_tuple_paths_up_to(\n\u001b[0m\u001b[1;32m   1651\u001b[0m         \u001b[0mshallow_tree\u001b[0m\u001b[0;34m,\u001b[0m \u001b[0mfunc\u001b[0m\u001b[0;34m,\u001b[0m \u001b[0;34m*\u001b[0m\u001b[0minputs\u001b[0m\u001b[0;34m,\u001b[0m \u001b[0;34m**\u001b[0m\u001b[0mkwargs\u001b[0m\u001b[0;34m\u001b[0m\u001b[0;34m\u001b[0m\u001b[0m\n\u001b[1;32m   1652\u001b[0m     )\n",
            "\u001b[0;32m/usr/local/lib/python3.10/dist-packages/tensorflow/python/util/nest_util.py\u001b[0m in \u001b[0;36m_tf_core_map_structure_with_tuple_paths_up_to\u001b[0;34m(shallow_tree, func, *inputs, **kwargs)\u001b[0m\n\u001b[1;32m   1697\u001b[0m       )\n\u001b[1;32m   1698\u001b[0m   )\n\u001b[0;32m-> 1699\u001b[0;31m   results = [\n\u001b[0m\u001b[1;32m   1700\u001b[0m       \u001b[0mfunc\u001b[0m\u001b[0;34m(\u001b[0m\u001b[0;34m*\u001b[0m\u001b[0margs\u001b[0m\u001b[0;34m,\u001b[0m \u001b[0;34m**\u001b[0m\u001b[0mkwargs\u001b[0m\u001b[0;34m)\u001b[0m \u001b[0;32mfor\u001b[0m \u001b[0margs\u001b[0m \u001b[0;32min\u001b[0m \u001b[0mzip\u001b[0m\u001b[0;34m(\u001b[0m\u001b[0mflat_path_gen\u001b[0m\u001b[0;34m,\u001b[0m \u001b[0;34m*\u001b[0m\u001b[0mflat_value_gen\u001b[0m\u001b[0;34m)\u001b[0m\u001b[0;34m\u001b[0m\u001b[0;34m\u001b[0m\u001b[0m\n\u001b[1;32m   1701\u001b[0m   ]\n",
            "\u001b[0;32m/usr/local/lib/python3.10/dist-packages/tensorflow/python/util/nest_util.py\u001b[0m in \u001b[0;36m<listcomp>\u001b[0;34m(.0)\u001b[0m\n\u001b[1;32m   1698\u001b[0m   )\n\u001b[1;32m   1699\u001b[0m   results = [\n\u001b[0;32m-> 1700\u001b[0;31m       \u001b[0mfunc\u001b[0m\u001b[0;34m(\u001b[0m\u001b[0;34m*\u001b[0m\u001b[0margs\u001b[0m\u001b[0;34m,\u001b[0m \u001b[0;34m**\u001b[0m\u001b[0mkwargs\u001b[0m\u001b[0;34m)\u001b[0m \u001b[0;32mfor\u001b[0m \u001b[0margs\u001b[0m \u001b[0;32min\u001b[0m \u001b[0mzip\u001b[0m\u001b[0;34m(\u001b[0m\u001b[0mflat_path_gen\u001b[0m\u001b[0;34m,\u001b[0m \u001b[0;34m*\u001b[0m\u001b[0mflat_value_gen\u001b[0m\u001b[0;34m)\u001b[0m\u001b[0;34m\u001b[0m\u001b[0;34m\u001b[0m\u001b[0m\n\u001b[0m\u001b[1;32m   1701\u001b[0m   ]\n\u001b[1;32m   1702\u001b[0m   return _tf_core_pack_sequence_as(\n",
            "\u001b[0;32m/usr/local/lib/python3.10/dist-packages/tensorflow/python/util/nest.py\u001b[0m in \u001b[0;36m<lambda>\u001b[0;34m(_, *values)\u001b[0m\n\u001b[1;32m   1038\u001b[0m       \u001b[0mnest_util\u001b[0m\u001b[0;34m.\u001b[0m\u001b[0mModality\u001b[0m\u001b[0;34m.\u001b[0m\u001b[0mCORE\u001b[0m\u001b[0;34m,\u001b[0m\u001b[0;34m\u001b[0m\u001b[0;34m\u001b[0m\u001b[0m\n\u001b[1;32m   1039\u001b[0m       \u001b[0mshallow_tree\u001b[0m\u001b[0;34m,\u001b[0m\u001b[0;34m\u001b[0m\u001b[0;34m\u001b[0m\u001b[0m\n\u001b[0;32m-> 1040\u001b[0;31m       \u001b[0;32mlambda\u001b[0m \u001b[0m_\u001b[0m\u001b[0;34m,\u001b[0m \u001b[0;34m*\u001b[0m\u001b[0mvalues\u001b[0m\u001b[0;34m:\u001b[0m \u001b[0mfunc\u001b[0m\u001b[0;34m(\u001b[0m\u001b[0;34m*\u001b[0m\u001b[0mvalues\u001b[0m\u001b[0;34m)\u001b[0m\u001b[0;34m,\u001b[0m  \u001b[0;31m# Discards the path arg.\u001b[0m\u001b[0;34m\u001b[0m\u001b[0;34m\u001b[0m\u001b[0m\n\u001b[0m\u001b[1;32m   1041\u001b[0m       \u001b[0;34m*\u001b[0m\u001b[0minputs\u001b[0m\u001b[0;34m,\u001b[0m\u001b[0;34m\u001b[0m\u001b[0;34m\u001b[0m\u001b[0m\n\u001b[1;32m   1042\u001b[0m       \u001b[0;34m**\u001b[0m\u001b[0mkwargs\u001b[0m\u001b[0;34m,\u001b[0m\u001b[0;34m\u001b[0m\u001b[0;34m\u001b[0m\u001b[0m\n",
            "\u001b[0;32m/usr/local/lib/python3.10/dist-packages/tensorflow_probability/python/experimental/sequential/extended_kalman_filter.py\u001b[0m in \u001b[0;36mextended_kalman_filter_one_step\u001b[0;34m(state, observation, transition_fn, observation_fn, transition_jacobian_fn, observation_jacobian_fn, name)\u001b[0m\n\u001b[1;32m    291\u001b[0m         \u001b[0mcurrent_jacobian\u001b[0m\u001b[0;34m,\u001b[0m\u001b[0;34m\u001b[0m\u001b[0;34m\u001b[0m\u001b[0m\n\u001b[1;32m    292\u001b[0m         tf.matmul(current_covariance, current_jacobian, transpose_b=True)) +\n\u001b[0;32m--> 293\u001b[0;31m                      state_prior.covariance())\n\u001b[0m\u001b[1;32m    294\u001b[0m     \u001b[0mpredicted_mean\u001b[0m \u001b[0;34m=\u001b[0m \u001b[0mstate_prior\u001b[0m\u001b[0;34m.\u001b[0m\u001b[0mmean\u001b[0m\u001b[0;34m(\u001b[0m\u001b[0;34m)\u001b[0m\u001b[0;34m\u001b[0m\u001b[0;34m\u001b[0m\u001b[0m\n\u001b[1;32m    295\u001b[0m \u001b[0;34m\u001b[0m\u001b[0m\n",
            "\u001b[0;32m/usr/local/lib/python3.10/dist-packages/tensorflow/python/framework/tensor.py\u001b[0m in \u001b[0;36m__getattr__\u001b[0;34m(self, name)\u001b[0m\n\u001b[1;32m    259\u001b[0m         \u001b[0mtf\u001b[0m\u001b[0;34m.\u001b[0m\u001b[0mexperimental\u001b[0m\u001b[0;34m.\u001b[0m\u001b[0mnumpy\u001b[0m\u001b[0;34m.\u001b[0m\u001b[0mexperimental_enable_numpy_behavior\u001b[0m\u001b[0;34m(\u001b[0m\u001b[0;34m)\u001b[0m\u001b[0;34m\u001b[0m\u001b[0;34m\u001b[0m\u001b[0m\n\u001b[1;32m    260\u001b[0m       \"\"\")\n\u001b[0;32m--> 261\u001b[0;31m     \u001b[0mself\u001b[0m\u001b[0;34m.\u001b[0m\u001b[0m__getattribute__\u001b[0m\u001b[0;34m(\u001b[0m\u001b[0mname\u001b[0m\u001b[0;34m)\u001b[0m\u001b[0;34m\u001b[0m\u001b[0;34m\u001b[0m\u001b[0m\n\u001b[0m\u001b[1;32m    262\u001b[0m \u001b[0;34m\u001b[0m\u001b[0m\n\u001b[1;32m    263\u001b[0m   \u001b[0;34m@\u001b[0m\u001b[0mproperty\u001b[0m\u001b[0;34m\u001b[0m\u001b[0;34m\u001b[0m\u001b[0m\n",
            "\u001b[0;31mAttributeError\u001b[0m: 'tensorflow.python.framework.ops.EagerTensor' object has no attribute 'covariance'"
          ]
        }
      ]
    },
    {
      "cell_type": "code",
      "source": [],
      "metadata": {
        "id": "HEXn2mv0PAQ_"
      },
      "execution_count": null,
      "outputs": []
    },
    {
      "cell_type": "code",
      "source": [],
      "metadata": {
        "id": "-Q0bFoJ3Z4DV"
      },
      "execution_count": null,
      "outputs": []
    },
    {
      "cell_type": "code",
      "source": [
        "\n",
        "\n",
        "@keras.utils.register_keras_serializable()\n",
        "class NonlinearStateSpaceDynamicFactorModel(tf.keras.models.Model):\n",
        "    def __init__(factors=None, **kwargs):\n",
        "        super().__init__(**kwargs)\n",
        "        self.factors = factors\n",
        "        self.phi = None # transition matrix for factors\n",
        "        self.latent_factors = None # vector of latent factors\n",
        "        self.factor_innovation = None\n",
        "        self.loading_matrix = None\n",
        "        self.nonlinear_function = None\n",
        "        self.nonlinear_relationship = None\n",
        "\n",
        "    def build(self, input_shape):\n",
        "        # self.factors =\n",
        "        # if self.factors is None:\n",
        "        #     # TODO: support learning the number of factors\n",
        "        #     raise ValueError(\"factors must be specified\")\n",
        "\n",
        "        self.factor_innovation = self.add_weight(\n",
        "            name=\"factor_innovation\",\n",
        "            shape=(input_shape[-1],),\n",
        "            dtype=self.dtype)\n",
        "\n",
        "        super().build(input_shape)\n",
        "\n",
        "    def call(self, inputs):\n",
        "        raise NotImplementedError\n",
        "\n",
        "    def get_config(self):\n",
        "        config = super().get_config()\n",
        "        config.update({\n",
        "            \"factors\": self.factors\n",
        "        })\n",
        "        return config\n",
        "\n",
        "    def get_weights(self):\n",
        "        raise NotImplementedError\n",
        "\n",
        "    def set_weights(self, weights):\n",
        "        raise NotImplementedError\n",
        "\n",
        "    @classmethod\n",
        "    def from_config(cls, config):\n",
        "        if \"factors\" in config:\n",
        "            factors = config.pop(\"factors\")\n",
        "        else:\n",
        "            factors = None\n",
        "        return cls(factors, **config)\n",
        "\n",
        "    def from_json(cls, json_config):\n",
        "        config = json.loads(json_config)\n",
        "        return cls(**config)\n",
        "\n",
        "\n",
        "@keras.utils.register_keras_serializable()\n",
        "class SVDLayer(keras.layers.Layer):\n",
        "    \"\"\"\n",
        "    A layer that keeps its weights Singular Value Decomposed.\n",
        "\n",
        "    Attributes:\n",
        "      output_dim: dimensions of the output space\n",
        "      rank: rank of the SVD decomposition\n",
        "      activation: activation function to apply to the output\n",
        "      seed: seed for any random features\n",
        "      U: rotation weights matrix\n",
        "      S: singular values matrix\n",
        "      V: rotation weights matrix\n",
        "    \"\"\"\n",
        "    def __init__(self, output_dim,\n",
        "                 rank=None, low_rank=None, activation='relu',\n",
        "                 s_regularizer=None, s_initializer=None,\n",
        "                 u_regularizer=None, u_initializer=None,\n",
        "                 v_regularizer=None, v_initializer=None,\n",
        "                 b_regularizer=None, b_initializer=None,\n",
        "                 seed=None,\n",
        "                 **kwargs):\n",
        "        super(SVDLayer, self).__init__(**kwargs)\n",
        "        # if output_dim is None:\n",
        "        #     # TODO: allow automatically configuring the output dimension\n",
        "        #     raise ValueError(\"output_dim must be specified\")\n",
        "        # self.output_dim = output_dim\n",
        "        # self.rank = rank if rank is not None else output_dim\n",
        "        # self.low_rank = low_rank if low_rank is not None else self.rank\n",
        "        # self.seed = seed\n",
        "\n",
        "        # self.activation = keras.activations.get(activation) or keras.activations.linear\n",
        "\n",
        "        # self.s_initializer = keras.initializers.get(s_initializer) or keras.initializers.Ones()\n",
        "        # self.u_initializer = keras.initializers.get(u_initializer) or keras.initializers.Orthogonal()\n",
        "        # self.v_initializer = keras.initializers.get(v_initializer) or keras.initializers.Orthogonal()\n",
        "        # self.b_initializer = keras.initializers.get(b_initializer) or keras.initializers.Zeros()\n",
        "\n",
        "        # self.s_regularizer = keras.regularizers.get(s_regularizer)\n",
        "        # self.u_regularizer = keras.regularizers.get(u_regularizer) or keras.regularizers.orthogonal_regularizer(0.1, mode='columns')\n",
        "        # self.v_regularizer = keras.regularizers.get(v_regularizer) or keras.regularizers.orthogonal_regularizer(0.1, mode='rows')\n",
        "        # self.b_regularizer = keras.regularizers.get(b_regularizer)\n",
        "        raise NotImplementedError\n",
        "\n",
        "    def compute_output_shape(self, input_shape):\n",
        "        # # TODO: verify this is correct\n",
        "        # return (input_shape[0], self.output_dim)\n",
        "        raise NotImplementedError\n",
        "\n",
        "    @tf.function(input_signature=[tf.TensorSpec(shape=None, dtype=tf.float32)])\n",
        "    def call_and_return_dict(self, inputs):\n",
        "        # return {\"output\": self.call(inputs)}\n",
        "        raise NotImplementedError\n",
        "\n",
        "    def get_config(self):\n",
        "        config = super().get_config()\n",
        "        # config.update({\n",
        "        #     \"output_dim\": self.output_dim,\n",
        "        #     \"rank\": self.rank,\n",
        "        #     \"low_rank\": self.low_rank,\n",
        "        #     \"seed\": self.seed,\n",
        "        #     \"activation\": keras.activations.serialize(self.activation),\n",
        "        #     \"s_regularizer\": keras.regularizers.serialize(self.s_regularizer),\n",
        "        #     \"s_initializer\": keras.initializers.serialize(self.s_initializer),\n",
        "        #     \"u_regularizer\": keras.regularizers.serialize(self.u_regularizer),\n",
        "        #     \"u_initializer\": keras.initializers.serialize(self.u_initializer),\n",
        "        #     \"v_regularizer\": keras.regularizers.serialize(self.v_regularizer),\n",
        "        #     \"v_initializer\": keras.initializers.serialize(self.v_initializer),\n",
        "        #     \"b_regularizer\": keras.regularizers.serialize(self.b_regularizer),\n",
        "        #     \"b_initializer\": keras.initializers.serialize(self.b_initializer),\n",
        "        # })\n",
        "        return config\n",
        "\n",
        "    def get_weights(self):\n",
        "        # return [self.U.numpy(), self.S.numpy(), self.V.numpy(), self.b.numpy()]\n",
        "        raise NotImplementedError\n",
        "\n",
        "    def set_weights(self, weights):\n",
        "        # self.U.assign(weights[0])\n",
        "        # self.S.assign(weights[1])\n",
        "        # self.V.assign(weights[2])\n",
        "        # self.b.assign(weights[3])\n",
        "        raise NotImplementedError\n",
        "\n",
        "    def build(self, input_shape):\n",
        "        # # print(f\"SVDLayer.build(): input_shape={input_shape}\")\n",
        "        # # TODO: add support for other, such as, complex types\n",
        "\n",
        "        # if self.rank is None:\n",
        "        #     self.rank = math.min(input_shape[-1], self.output_dim)\n",
        "        #     print(f\"SVDLayer        : rank={self.rank}\")\n",
        "\n",
        "        # if self.low_rank is None or self.low_rank > self.rank:\n",
        "        #     self.low_rank = self.rank\n",
        "        #     print(f\"SVDLayer        : low_rank={self.low_rank}\")\n",
        "\n",
        "        # # Initialize U, Σ, and V\n",
        "        # self.U = self.add_weight(name=\"U\", #dtype=dtype,\n",
        "        #                          shape=(input_shape[-1], self.rank),\n",
        "        #                          initializer=self.u_initializer,\n",
        "        #                          regularizer=self.u_regularizer,\n",
        "        #                          constraint=keras.constraints.UnitNorm(axis=0),\n",
        "        #                          trainable=True)\n",
        "\n",
        "        # self.S = self.add_weight(name=\"S\", #dtype=dtype,\n",
        "        #                          shape=(self.rank,),\n",
        "        #                          initializer=self.s_initializer,\n",
        "        #                          regularizer=self.s_regularizer,\n",
        "        #                          constraint=UniqueNonZero(),\n",
        "        #                          trainable=True)\n",
        "\n",
        "        # self.V = self.add_weight(name=\"V\", #dtype=dtype,\n",
        "        #                          shape=(self.rank, self.output_dim),\n",
        "        #                          initializer=self.v_initializer,\n",
        "        #                          regularizer=self.v_regularizer,\n",
        "        #                          constraint=keras.constraints.UnitNorm(axis=1),\n",
        "        #                          trainable=True)\n",
        "\n",
        "        # self.b = self.add_weight(name=\"bias\", #dtype=dtype,\n",
        "        #                          shape=(self.output_dim,),\n",
        "        #                          initializer=self.b_initializer,\n",
        "        #                          regularizer=self.b_regularizer,\n",
        "        #                          trainable=True)\n",
        "        raise NotImplementedError\n",
        "\n",
        "    def call(self, inputs):\n",
        "        # # # Flatten input if it's not 2D\n",
        "        # # original_shape = tf.shape(inputs)\n",
        "        # # if len(inputs.shape) > 2:\n",
        "        # #     inputs = tf.reshape(inputs, (-1, inputs.shape[-1]))\n",
        "\n",
        "        # # Reconstruct the weight matrix (or a low-rank approximation)\n",
        "        # U = self.U[:, :self.low_rank]\n",
        "        # S = self.S[:self.low_rank]\n",
        "        # V = self.V[:self.low_rank, :]\n",
        "\n",
        "        # w = keras.ops.matmul(keras.ops.multiply(U, S), V)\n",
        "\n",
        "        # result = keras.ops.add(keras.ops.matmul(inputs, w), self.b)\n",
        "\n",
        "        # # # Reshape result if input was not 2D\n",
        "        # # if len(original_shape) > 2:\n",
        "        # #     new_shape = tf.concat([original_shape[:-1], [self.output_dim]], axis=0)\n",
        "        # #     result = tf.reshape(result, new_shape)\n",
        "\n",
        "        # return self.activation(result)\n",
        "        raise NotImplementedError\n",
        "\n",
        "\n"
      ],
      "metadata": {
        "id": "x2P5YEoxBtaw"
      },
      "execution_count": null,
      "outputs": []
    },
    {
      "cell_type": "code",
      "source": [],
      "metadata": {
        "id": "I82Es-vQBtXW"
      },
      "execution_count": null,
      "outputs": []
    },
    {
      "cell_type": "code",
      "source": [
        "n_features = 10 # Number of observed features\n",
        "n_factors = 5   # Number of latent factors\n",
        "timesteps = 24  # Number of timesteps in the time series window\n",
        "\n",
        "# define the inputs\n",
        "input_layer = Input(shape=(timesteps, n_features))\n",
        "\n",
        "# LSTM layer to capture the temporal dynamics of the latent factors\n",
        "lstm_layer = LSTM(n_factors, return_sequences=True)(input_layer)\n",
        "\n",
        "# layer for nonlinear relations between factors and observed variables\n",
        "dense_layer = Dense(n_features)(lstm_layer)\n",
        "\n",
        "# define the model\n",
        "model = Model(input_layer, dense_layer)\n",
        "\n",
        "@keras.utils.register_keras_serializable()\n",
        "def custom_loss(y_true, y_pred):\n",
        "    # Example: Mean Squared Logarithmic Error to handle skewness\n",
        "    return K.mean(K.square(K.log(1 + y_true) - K.log(1 + y_pred)), axis=-1)\n",
        "\n",
        "# Compile the model with the custom loss function\n",
        "model.compile(optimizer='adam', loss=custom_loss)\n",
        "\n",
        "# summary\n",
        "model.summary()\n",
        "\n",
        "# Generate some example data\n",
        "X_train = np.random.rand(10000, timesteps, n_features)\n",
        "y_train = np.random.rand(10000, timesteps, n_features)\n",
        "\n",
        "# Train the model\n",
        "history = model.fit(X_train, y_train, epochs=5, batch_size=128, validation_split=0.2)\n",
        "print(f'Training loss: {history.history[\"loss\"][-1]}')\n",
        "print(f'Validation loss: {history.history[\"val_loss\"][-1]}')\n",
        "\n",
        "# Generate some example test data\n",
        "X_test = np.random.rand(200, timesteps, n_features)\n",
        "y_test = np.random.rand(200, timesteps, n_features)\n",
        "\n",
        "# Evaluate the model\n",
        "loss = model.evaluate(X_test, y_test)\n",
        "print(f'Test Loss: {loss}')\n",
        "\n",
        "# Make predictions\n",
        "predictions = model.predict(X_test)\n",
        "print(f'Predictions: {predictions}')\n",
        "\n",
        "model.save(\"model.keras\")\n",
        "\n",
        "del model\n",
        "model = tf.keras.models.load_model(\"model.keras\")\n",
        "model.summary()\n",
        "\n"
      ],
      "metadata": {
        "id": "7oicsp7cEHW2"
      },
      "execution_count": null,
      "outputs": []
    },
    {
      "cell_type": "code",
      "source": [],
      "metadata": {
        "id": "jO43U8_PEHRA"
      },
      "execution_count": null,
      "outputs": []
    },
    {
      "cell_type": "code",
      "source": [
        "from IPython.display import display\n",
        "with pd.option_context('display.max_columns', 240):\n",
        "    display(model.weights)"
      ],
      "metadata": {
        "id": "LJBQgLorBtUp"
      },
      "execution_count": null,
      "outputs": []
    },
    {
      "cell_type": "code",
      "source": [],
      "metadata": {
        "id": "TlYIJhO6MX_l"
      },
      "execution_count": null,
      "outputs": []
    },
    {
      "cell_type": "code",
      "source": [
        "import numpy as np\n",
        "import tensorflow as tf\n",
        "\n",
        "def sliding_window_generator(data, targets, window_size, stride, batch_size):\n",
        "    num_samples = (len(data) - window_size) // stride + 1\n",
        "    while True:\n",
        "        for start in range(0, num_samples, batch_size):\n",
        "            end = min(start + batch_size, num_samples)\n",
        "            batch_data = []\n",
        "            batch_targets = []\n",
        "            for i in range(start, end):\n",
        "                window_start = i * stride\n",
        "                window_end = window_start + window_size\n",
        "                batch_data.append(data[window_start:window_end])\n",
        "                batch_targets.append(targets[window_end-1])\n",
        "            yield np.array(batch_data), np.array(batch_targets)\n",
        "\n",
        "# Example data\n",
        "data = np.arange(100)\n",
        "targets = data * 2  # Dummy target values\n",
        "\n",
        "# Parameters\n",
        "window_size = 10\n",
        "stride = 1\n",
        "batch_size = 32\n",
        "\n",
        "# Create the generator\n",
        "generator = sliding_window_generator(data, targets, window_size, stride, batch_size)\n",
        "\n",
        "# Create a Keras model for demonstration\n",
        "model = tf.keras.Sequential([\n",
        "    tf.keras.layers.InputLayer(input_shape=(window_size,)),\n",
        "    tf.keras.layers.Dense(10, activation='relu'),\n",
        "    tf.keras.layers.Dense(1)\n",
        "])\n",
        "\n",
        "model.compile(optimizer='adam', loss=custom_loss)\n",
        "\n",
        "# Train the model using the generator\n",
        "model.fit(generator, steps_per_epoch=(len(data) - window_size) // stride // batch_size, epochs=10)"
      ],
      "metadata": {
        "id": "DXEhnIziMX5k"
      },
      "execution_count": null,
      "outputs": []
    },
    {
      "cell_type": "code",
      "source": [],
      "metadata": {
        "id": "raeNlSAoMX1F"
      },
      "execution_count": null,
      "outputs": []
    },
    {
      "cell_type": "code",
      "source": [],
      "metadata": {
        "id": "U7uopci2MXxo"
      },
      "execution_count": null,
      "outputs": []
    },
    {
      "cell_type": "code",
      "source": [],
      "metadata": {
        "id": "KqIP6WYlhSaM"
      },
      "execution_count": null,
      "outputs": []
    },
    {
      "cell_type": "markdown",
      "source": [
        "# Moving Average Layer"
      ],
      "metadata": {
        "id": "LZO4-id6BJK1"
      }
    },
    {
      "cell_type": "code",
      "source": [],
      "metadata": {
        "id": "kI38lLPwhSX9"
      },
      "execution_count": null,
      "outputs": []
    },
    {
      "cell_type": "code",
      "source": [
        "\n",
        "# with input shape (None, input_size, 1)\n",
        "# output shape is (None, input_size, 1*len(periods))\n",
        "\n",
        "\n",
        "# The MovingAverageLayer calculates the moving average of each input &\n",
        "# outputs a new feature for each input and period\n",
        "@keras.utils.register_keras_serializable()\n",
        "class MovingAverageLayer(tf.keras.layers.Layer):\n",
        "    def __init__(self, periods=range(2,5), **kwargs):\n",
        "        super().__init__(**kwargs)\n",
        "        if not isinstance(periods, list):\n",
        "            if isinstance(periods, int):\n",
        "                self.periods = [periods]\n",
        "            elif isinstance(periods, range):\n",
        "                self.periods = list(periods)\n",
        "            else:\n",
        "                raise ValueError(\"periods must be an int or list of ints\")\n",
        "        else:\n",
        "            if not all(isinstance(period, int) for period in periods):\n",
        "                raise ValueError(f\"periods must be a list of all ints ({[p for p in periods]})\")\n",
        "            self.periods = periods\n",
        "        self.output_shape = None\n",
        "        self.avg_layers = [tf.keras.layers.AveragePooling1D(period) for period in self.periods]\n",
        "        print(f\"periods: {[p for p in self.periods]}\")\n",
        "\n",
        "    def build(self, input_shape):\n",
        "        self.output_shape = input_shape + (len(self.periods),)\n",
        "        print(f\"input_shape: {input_shape}\")\n",
        "        print(f\"output_shape: {self.output_shape}\")\n",
        "        super().build(input_shape)\n",
        "\n",
        "    def output_shape(self):\n",
        "        return self.output_shape\n",
        "\n",
        "    def call(self, inputs):\n",
        "        # inputs shape: (batch_size, input_size, 1)\n",
        "        # output shape: (batch_size, input_size, 1*len(periods))\n",
        "        outputs = tf.expand_dims(inputs, axis=-1)\n",
        "\n",
        "        # for each input, calculate the moving average and append it to the output\n",
        "        output = []\n",
        "        for input in inputs:\n",
        "            for avg_layer in self.avg_layers:\n",
        "                output.append(avg_layer(tf.expand_dims(input, axis=0)))\n",
        "\n",
        "        # output shape: (batch_size, input_size, 1*len(periods))\n",
        "        output = tf.stack(output, axis=-1)\n",
        "        return output\n",
        "\n",
        "    def get_config(self):\n",
        "        config = super().get_config()\n",
        "        config.update({\n",
        "            \"periods\": self.periods\n",
        "        })\n",
        "        return config\n",
        "\n",
        "tf.keras.models.Sequential([\n",
        "    tf.keras.layers.InputLayer(input_shape=(72,7)),\n",
        "    MovingAverageLayer([2]),\n",
        "    tf.keras.layers.Dense(1)\n",
        "]).plot_model(MovingAverageLayer([5,10]), show_shapes=True)\n"
      ],
      "metadata": {
        "id": "YcFKzp9ElakV"
      },
      "execution_count": null,
      "outputs": []
    },
    {
      "cell_type": "code",
      "source": [
        "tf.expand_dims([[1,2,3],[2,4,5]], axis=-1).shape\n"
      ],
      "metadata": {
        "id": "eA_06n6qlag-"
      },
      "execution_count": null,
      "outputs": []
    },
    {
      "cell_type": "code",
      "source": [],
      "metadata": {
        "id": "lfIl7R7rhSVg"
      },
      "execution_count": null,
      "outputs": []
    },
    {
      "cell_type": "code",
      "source": [],
      "metadata": {
        "id": "h34_C5IOhSSI"
      },
      "execution_count": null,
      "outputs": []
    },
    {
      "cell_type": "code",
      "source": [],
      "metadata": {
        "id": "Ih024WUIhSPc"
      },
      "execution_count": null,
      "outputs": []
    },
    {
      "cell_type": "code",
      "source": [],
      "metadata": {
        "id": "FAhgy35ohSG9"
      },
      "execution_count": null,
      "outputs": []
    },
    {
      "cell_type": "markdown",
      "source": [
        "# Get ticker data"
      ],
      "metadata": {
        "id": "rRL-ctP6BO3W"
      }
    },
    {
      "cell_type": "code",
      "source": [
        "\n",
        "def date_to_str(date):\n",
        "    return date.strftime(\"%Y-%m-%d\")\n"
      ],
      "metadata": {
        "id": "vijxKpT62Hku"
      },
      "execution_count": null,
      "outputs": []
    },
    {
      "cell_type": "code",
      "source": [
        "\n",
        "def get_ticker_data(symbol, start=\"2000-01-01\", end=date.today()):\n",
        "    try:\n",
        "        # data = yf.Ticker(symbol)\n",
        "        data = yf.download(symbol, start=start, end=end)\n",
        "        print(f\"Downloaded data for {symbol}\")\n",
        "        print(f\"data.shape: {data.shape}\")\n",
        "        print(f\"data.T: {data.T}\")\n",
        "        print(f\"data.describe: {data.describe()}\")\n",
        "        print(f\"data.head(): {data.head()}\")\n",
        "        data = (\n",
        "            data[:]\n",
        "            .rename(columns={\"Open\": \"open\", \"High\": \"high\", \"Low\": \"low\", \"Close\": \"close\"})\n",
        "        )\n",
        "        # hist = data.history(start=start, end=end, interval=\"1d\")\n",
        "        # data = data[:,~data.isna()]\n",
        "        diff = data.diff()\n",
        "        print(f\"diffs: {diff.head()}\")\n",
        "        data = data.reset_index()\n",
        "        print(f\"data: {diff.head()}\")\n",
        "        # add returns column to data\n",
        "        data['returns_1d'] = diff['Adj Close']\n",
        "        # data['returns_1d'] = diff.values\n",
        "        print(f\"data with returns: {diff.head()}\")\n",
        "        data.Date = data.Date.apply(lambda d: d.date())\n",
        "        print(f\"returning data: {diff.head()}\")\n",
        "        return data.dropna()\n",
        "    except Exception as e:\n",
        "        print(f\"caught exception: {e}\")\n",
        "        return None\n",
        "\n",
        "def test_get_ticker_data():\n",
        "    print(\"Getting ticker\")\n",
        "    hist = get_ticker_data(\"AAPL\")\n",
        "    print(f\"Got history: {hist}\")\n",
        "    print(hist.head())\n",
        "    assert hist is not None\n",
        "    assert len(hist.values) > 0\n",
        "    print(hist.columns)\n",
        "    assert hist.columns.tolist() == ['Date', 'Open', 'High', 'Low', 'Close', 'Volume', 'Price change']\n",
        "    assert hist.Date.dtype == np.datetime64\n",
        "    assert hist.Open.dtype == np.float64\n",
        "    assert hist.High.dtype == np.float64\n",
        "    assert hist.Low.dtype == np.float64\n",
        "    assert hist.Close.dtype == np.float64\n",
        "    assert hist.Volume.dtype == np.float64\n",
        "    assert hist['price change'].dtype == np.float64\n",
        "    assert hist.shape[0] > 0\n",
        "    assert hist.shape[1] == 7\n",
        "\n",
        "test_get_ticker_data()\n",
        "\n",
        "\n"
      ],
      "metadata": {
        "id": "32MndnYX2HhR"
      },
      "execution_count": null,
      "outputs": []
    },
    {
      "cell_type": "markdown",
      "source": [
        "# Simple trading strategy class"
      ],
      "metadata": {
        "id": "Z-XX6mZtBSx4"
      }
    },
    {
      "cell_type": "code",
      "source": [
        "from typing import Callable, Tuple\n",
        "\n",
        "class Strategy:\n",
        "    def __init__(self, buy_cond: Tuple|Callable, sell_cond: Tuple|Callable):\n",
        "        if type(buy_cond) == tuple and len(buy_cond) == 2:\n",
        "            buy_cond = lambda: buy_cond\n",
        "        elif isinstance(buy_cond, Callable):\n",
        "            # self.buy_cond = buy_cond\n",
        "            pass\n",
        "        else:\n",
        "            raise ValueError(\"buy_cond must be a tuple or function\")\n",
        "\n",
        "        if type(sell_cond) == tuple and len(sell_cond) == 2:\n",
        "            sell_cond = lambda: sell_cond\n",
        "        elif isinstance(sell_cond, Callable):\n",
        "            # self.sell_cond = sell_cond\n",
        "            pass\n",
        "        else:\n",
        "            raise ValueError(\"sell_cond must be a tuple or function\")\n",
        "\n",
        "        buy_dir, buy_periods = buy_cond()\n",
        "        sell_dir, sell_periods = sell_cond()\n",
        "\n",
        "        if buy_dir not in ['increase', 'decrease']\n",
        "            raise ValueError(\"buy_cond must have a buy direction\")\n",
        "        if sell_dir not in ['increase', 'decrease']\n",
        "            raise ValueError(\"buy_cond must have a buy direction\")\n",
        "        if not isinstance(buy_periods, int) or buy_periods <= 0:\n",
        "            raise ValueError(\"buy_periods must have a positive number of periods\")\n",
        "        if not isinstance(sell_periods, int) or sell_periods <= 0:\n",
        "            raise ValueError(\"sell_periods must have a positive number of periods\")\n",
        "\n",
        "        self.buy_dir = buy_dir\n",
        "        self.buy_periods = buy_periods\n",
        "        self.sell_dir = sell_dir\n",
        "        self.sell_periods = sell_periods\n",
        "\n",
        "\n"
      ],
      "metadata": {
        "id": "KEHjY9tB2HfC"
      },
      "execution_count": null,
      "outputs": []
    },
    {
      "cell_type": "code",
      "source": [
        "\n",
        "def execute_strategy(history, strategy, verbose=1):\n",
        "    initial_value = 100\n",
        "    current_value = initial_value\n",
        "    positions = []\n",
        "\n",
        "    holding = False\n",
        "\n",
        "    # number of bars since price has increased or decreased\n",
        "    n_bars_dec = 0\n",
        "    n_bars_inc = 0\n",
        "\n",
        "    # backtest the strategy day-by-day\n",
        "    for i, row in history.iterrows():\n",
        "\n",
        "        if row.returns_1d < 0:\n",
        "            n_bars_dec += 1\n",
        "            n_bars_inc = 0\n",
        "        else:\n",
        "            n_bars_inc += 1\n",
        "            n_bars_dec = 0\n",
        "\n",
        "    if not holding:\n",
        "        if (strategy.buy_dir == 'decrease' and n_bars_dec == strategy.buy_periods) or (strategy.buy_dir == 'increase' and n_bars_inc == strategy.buy_periods):\n",
        "\n",
        "\n"
      ],
      "metadata": {
        "id": "g6LnrZJS-buR"
      },
      "execution_count": null,
      "outputs": []
    },
    {
      "cell_type": "code",
      "source": [],
      "metadata": {
        "id": "JB-JlUyr-bma"
      },
      "execution_count": null,
      "outputs": []
    },
    {
      "cell_type": "code",
      "source": [],
      "metadata": {
        "id": "ycaTkucS2HcG"
      },
      "execution_count": null,
      "outputs": []
    },
    {
      "cell_type": "code",
      "source": [],
      "metadata": {
        "id": "cxwxKIxd2HZ3"
      },
      "execution_count": null,
      "outputs": []
    }
  ]
}