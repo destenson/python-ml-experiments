{
  "nbformat": 4,
  "nbformat_minor": 0,
  "metadata": {
    "colab": {
      "provenance": [],
      "collapsed_sections": [
        "LZO4-id6BJK1",
        "rRL-ctP6BO3W",
        "Z-XX6mZtBSx4"
      ],
      "machine_shape": "hm",
      "gpuType": "V28"
    },
    "kernelspec": {
      "name": "python3",
      "display_name": "Python 3"
    },
    "language_info": {
      "name": "python"
    },
    "accelerator": "TPU",
    "widgets": {
      "application/vnd.jupyter.widget-state+json": {
        "29b5866e708e457f90a8beab8bfbe180": {
          "model_module": "@jupyter-widgets/controls",
          "model_name": "HBoxModel",
          "model_module_version": "1.5.0",
          "state": {
            "_dom_classes": [],
            "_model_module": "@jupyter-widgets/controls",
            "_model_module_version": "1.5.0",
            "_model_name": "HBoxModel",
            "_view_count": null,
            "_view_module": "@jupyter-widgets/controls",
            "_view_module_version": "1.5.0",
            "_view_name": "HBoxView",
            "box_style": "",
            "children": [
              "IPY_MODEL_5bc4433b1d9c45ecb414c30f7c6290d2",
              "IPY_MODEL_58e538d121854d5e9c8ea2da57898c4c",
              "IPY_MODEL_ca407200c5d044de9fb8ff4e9b0e84e0"
            ],
            "layout": "IPY_MODEL_86637cc8f94b4201aa7cb21675349424"
          }
        },
        "5bc4433b1d9c45ecb414c30f7c6290d2": {
          "model_module": "@jupyter-widgets/controls",
          "model_name": "HTMLModel",
          "model_module_version": "1.5.0",
          "state": {
            "_dom_classes": [],
            "_model_module": "@jupyter-widgets/controls",
            "_model_module_version": "1.5.0",
            "_model_name": "HTMLModel",
            "_view_count": null,
            "_view_module": "@jupyter-widgets/controls",
            "_view_module_version": "1.5.0",
            "_view_name": "HTMLView",
            "description": "",
            "description_tooltip": null,
            "layout": "IPY_MODEL_24be41222c244556aa80ce3284438f37",
            "placeholder": "​",
            "style": "IPY_MODEL_258c5177096d406fa7f10a8a1844ed97",
            "value": "Dl Completed...: 100%"
          }
        },
        "58e538d121854d5e9c8ea2da57898c4c": {
          "model_module": "@jupyter-widgets/controls",
          "model_name": "FloatProgressModel",
          "model_module_version": "1.5.0",
          "state": {
            "_dom_classes": [],
            "_model_module": "@jupyter-widgets/controls",
            "_model_module_version": "1.5.0",
            "_model_name": "FloatProgressModel",
            "_view_count": null,
            "_view_module": "@jupyter-widgets/controls",
            "_view_module_version": "1.5.0",
            "_view_name": "ProgressView",
            "bar_style": "success",
            "description": "",
            "description_tooltip": null,
            "layout": "IPY_MODEL_099f958d6182406c83c62d30bca15137",
            "max": 5,
            "min": 0,
            "orientation": "horizontal",
            "style": "IPY_MODEL_87bfd2f59fe24ea39be8a8a7f1b55a3c",
            "value": 5
          }
        },
        "ca407200c5d044de9fb8ff4e9b0e84e0": {
          "model_module": "@jupyter-widgets/controls",
          "model_name": "HTMLModel",
          "model_module_version": "1.5.0",
          "state": {
            "_dom_classes": [],
            "_model_module": "@jupyter-widgets/controls",
            "_model_module_version": "1.5.0",
            "_model_name": "HTMLModel",
            "_view_count": null,
            "_view_module": "@jupyter-widgets/controls",
            "_view_module_version": "1.5.0",
            "_view_name": "HTMLView",
            "description": "",
            "description_tooltip": null,
            "layout": "IPY_MODEL_1a6502c3a1474c4cb0dbe98b625a5756",
            "placeholder": "​",
            "style": "IPY_MODEL_e23c4da1ed4c42af919a9a018db0ce8f",
            "value": " 5/5 [00:00&lt;00:00, 15.60 file/s]"
          }
        },
        "86637cc8f94b4201aa7cb21675349424": {
          "model_module": "@jupyter-widgets/base",
          "model_name": "LayoutModel",
          "model_module_version": "1.2.0",
          "state": {
            "_model_module": "@jupyter-widgets/base",
            "_model_module_version": "1.2.0",
            "_model_name": "LayoutModel",
            "_view_count": null,
            "_view_module": "@jupyter-widgets/base",
            "_view_module_version": "1.2.0",
            "_view_name": "LayoutView",
            "align_content": null,
            "align_items": null,
            "align_self": null,
            "border": null,
            "bottom": null,
            "display": null,
            "flex": null,
            "flex_flow": null,
            "grid_area": null,
            "grid_auto_columns": null,
            "grid_auto_flow": null,
            "grid_auto_rows": null,
            "grid_column": null,
            "grid_gap": null,
            "grid_row": null,
            "grid_template_areas": null,
            "grid_template_columns": null,
            "grid_template_rows": null,
            "height": null,
            "justify_content": null,
            "justify_items": null,
            "left": null,
            "margin": null,
            "max_height": null,
            "max_width": null,
            "min_height": null,
            "min_width": null,
            "object_fit": null,
            "object_position": null,
            "order": null,
            "overflow": null,
            "overflow_x": null,
            "overflow_y": null,
            "padding": null,
            "right": null,
            "top": null,
            "visibility": null,
            "width": null
          }
        },
        "24be41222c244556aa80ce3284438f37": {
          "model_module": "@jupyter-widgets/base",
          "model_name": "LayoutModel",
          "model_module_version": "1.2.0",
          "state": {
            "_model_module": "@jupyter-widgets/base",
            "_model_module_version": "1.2.0",
            "_model_name": "LayoutModel",
            "_view_count": null,
            "_view_module": "@jupyter-widgets/base",
            "_view_module_version": "1.2.0",
            "_view_name": "LayoutView",
            "align_content": null,
            "align_items": null,
            "align_self": null,
            "border": null,
            "bottom": null,
            "display": null,
            "flex": null,
            "flex_flow": null,
            "grid_area": null,
            "grid_auto_columns": null,
            "grid_auto_flow": null,
            "grid_auto_rows": null,
            "grid_column": null,
            "grid_gap": null,
            "grid_row": null,
            "grid_template_areas": null,
            "grid_template_columns": null,
            "grid_template_rows": null,
            "height": null,
            "justify_content": null,
            "justify_items": null,
            "left": null,
            "margin": null,
            "max_height": null,
            "max_width": null,
            "min_height": null,
            "min_width": null,
            "object_fit": null,
            "object_position": null,
            "order": null,
            "overflow": null,
            "overflow_x": null,
            "overflow_y": null,
            "padding": null,
            "right": null,
            "top": null,
            "visibility": null,
            "width": null
          }
        },
        "258c5177096d406fa7f10a8a1844ed97": {
          "model_module": "@jupyter-widgets/controls",
          "model_name": "DescriptionStyleModel",
          "model_module_version": "1.5.0",
          "state": {
            "_model_module": "@jupyter-widgets/controls",
            "_model_module_version": "1.5.0",
            "_model_name": "DescriptionStyleModel",
            "_view_count": null,
            "_view_module": "@jupyter-widgets/base",
            "_view_module_version": "1.2.0",
            "_view_name": "StyleView",
            "description_width": ""
          }
        },
        "099f958d6182406c83c62d30bca15137": {
          "model_module": "@jupyter-widgets/base",
          "model_name": "LayoutModel",
          "model_module_version": "1.2.0",
          "state": {
            "_model_module": "@jupyter-widgets/base",
            "_model_module_version": "1.2.0",
            "_model_name": "LayoutModel",
            "_view_count": null,
            "_view_module": "@jupyter-widgets/base",
            "_view_module_version": "1.2.0",
            "_view_name": "LayoutView",
            "align_content": null,
            "align_items": null,
            "align_self": null,
            "border": null,
            "bottom": null,
            "display": null,
            "flex": null,
            "flex_flow": null,
            "grid_area": null,
            "grid_auto_columns": null,
            "grid_auto_flow": null,
            "grid_auto_rows": null,
            "grid_column": null,
            "grid_gap": null,
            "grid_row": null,
            "grid_template_areas": null,
            "grid_template_columns": null,
            "grid_template_rows": null,
            "height": null,
            "justify_content": null,
            "justify_items": null,
            "left": null,
            "margin": null,
            "max_height": null,
            "max_width": null,
            "min_height": null,
            "min_width": null,
            "object_fit": null,
            "object_position": null,
            "order": null,
            "overflow": null,
            "overflow_x": null,
            "overflow_y": null,
            "padding": null,
            "right": null,
            "top": null,
            "visibility": null,
            "width": null
          }
        },
        "87bfd2f59fe24ea39be8a8a7f1b55a3c": {
          "model_module": "@jupyter-widgets/controls",
          "model_name": "ProgressStyleModel",
          "model_module_version": "1.5.0",
          "state": {
            "_model_module": "@jupyter-widgets/controls",
            "_model_module_version": "1.5.0",
            "_model_name": "ProgressStyleModel",
            "_view_count": null,
            "_view_module": "@jupyter-widgets/base",
            "_view_module_version": "1.2.0",
            "_view_name": "StyleView",
            "bar_color": null,
            "description_width": ""
          }
        },
        "1a6502c3a1474c4cb0dbe98b625a5756": {
          "model_module": "@jupyter-widgets/base",
          "model_name": "LayoutModel",
          "model_module_version": "1.2.0",
          "state": {
            "_model_module": "@jupyter-widgets/base",
            "_model_module_version": "1.2.0",
            "_model_name": "LayoutModel",
            "_view_count": null,
            "_view_module": "@jupyter-widgets/base",
            "_view_module_version": "1.2.0",
            "_view_name": "LayoutView",
            "align_content": null,
            "align_items": null,
            "align_self": null,
            "border": null,
            "bottom": null,
            "display": null,
            "flex": null,
            "flex_flow": null,
            "grid_area": null,
            "grid_auto_columns": null,
            "grid_auto_flow": null,
            "grid_auto_rows": null,
            "grid_column": null,
            "grid_gap": null,
            "grid_row": null,
            "grid_template_areas": null,
            "grid_template_columns": null,
            "grid_template_rows": null,
            "height": null,
            "justify_content": null,
            "justify_items": null,
            "left": null,
            "margin": null,
            "max_height": null,
            "max_width": null,
            "min_height": null,
            "min_width": null,
            "object_fit": null,
            "object_position": null,
            "order": null,
            "overflow": null,
            "overflow_x": null,
            "overflow_y": null,
            "padding": null,
            "right": null,
            "top": null,
            "visibility": null,
            "width": null
          }
        },
        "e23c4da1ed4c42af919a9a018db0ce8f": {
          "model_module": "@jupyter-widgets/controls",
          "model_name": "DescriptionStyleModel",
          "model_module_version": "1.5.0",
          "state": {
            "_model_module": "@jupyter-widgets/controls",
            "_model_module_version": "1.5.0",
            "_model_name": "DescriptionStyleModel",
            "_view_count": null,
            "_view_module": "@jupyter-widgets/base",
            "_view_module_version": "1.2.0",
            "_view_name": "StyleView",
            "description_width": ""
          }
        }
      }
    }
  },
  "cells": [
    {
      "cell_type": "markdown",
      "source": [
        "# Imports"
      ],
      "metadata": {
        "id": "5Ya9YG7snmna"
      }
    },
    {
      "cell_type": "markdown",
      "source": [],
      "metadata": {
        "id": "KBSxgHMdnma5"
      }
    },
    {
      "cell_type": "code",
      "source": [
        "# import yfinance as yf\n",
        "import matplotlib.pyplot as plt\n",
        "import pandas as pd\n",
        "import numpy as np\n",
        "from datetime import date, timedelta, datetime\n",
        "from time import time\n",
        "from scipy.stats import pearsonr\n",
        "from dataclasses import dataclass\n",
        "import seaborn as sns\n",
        "import tensorflow as tf\n",
        "import tensorflow.keras as tfk\n",
        "import tensorflow_datasets as tf_datasets\n",
        "\n",
        "from tensorflow.keras.models import Model\n",
        "from tensorflow.keras.layers import Input, LSTM, Dense, Lambda, Layer\n",
        "from tensorflow.keras import backend as K\n",
        "\n",
        "from tensorflow.keras.utils import timeseries_dataset_from_array\n",
        "\n",
        "import tensorflow_probability as tfp\n",
        "\n",
        "import keras\n",
        "\n",
        "#tf.debugging.disable_traceback_filtering()\n",
        "\n",
        "tfd = tfp.distributions\n"
      ],
      "metadata": {
        "id": "u8anxnAMhSdm"
      },
      "execution_count": 1,
      "outputs": []
    },
    {
      "cell_type": "markdown",
      "source": [
        "# Load datasets"
      ],
      "metadata": {
        "id": "EBhBOYoDnphV"
      }
    },
    {
      "cell_type": "markdown",
      "source": [],
      "metadata": {
        "id": "8-Nb1hJynlXq"
      }
    },
    {
      "cell_type": "code",
      "source": [
        "datasets, datasets_info = tf_datasets.load(name='mnist',\n",
        "                                           with_info=True,\n",
        "                                           as_supervised=False)\n",
        "\n",
        "batch_size = 32*4 #*32\n",
        "\n",
        "def _preprocess(sample):\n",
        "    image = tf.cast(sample['image'], tf.float32) / 255.  # Scale to unit interval.\n",
        "    return image, image > tf.random.uniform(tf.shape(image))\n",
        "\n",
        "train_dataset = (datasets['train']\n",
        "                 .map(_preprocess)\n",
        "                 .batch(batch_size)\n",
        "                 .prefetch(tf.data.AUTOTUNE)\n",
        "                #  .shuffle(int(10e3))          # very slow\n",
        "                 )\n",
        "eval_dataset = (datasets['test']\n",
        "                .map(_preprocess)\n",
        "                .batch(batch_size)\n",
        "                .prefetch(tf.data.AUTOTUNE))\n"
      ],
      "metadata": {
        "colab": {
          "base_uri": "https://localhost:8080/",
          "height": 104,
          "referenced_widgets": [
            "29b5866e708e457f90a8beab8bfbe180",
            "5bc4433b1d9c45ecb414c30f7c6290d2",
            "58e538d121854d5e9c8ea2da57898c4c",
            "ca407200c5d044de9fb8ff4e9b0e84e0",
            "86637cc8f94b4201aa7cb21675349424",
            "24be41222c244556aa80ce3284438f37",
            "258c5177096d406fa7f10a8a1844ed97",
            "099f958d6182406c83c62d30bca15137",
            "87bfd2f59fe24ea39be8a8a7f1b55a3c",
            "1a6502c3a1474c4cb0dbe98b625a5756",
            "e23c4da1ed4c42af919a9a018db0ce8f"
          ]
        },
        "id": "qpiPYFYAnkhl",
        "outputId": "49dffca0-9b9a-40d3-f312-bc3645ac3a28"
      },
      "execution_count": 2,
      "outputs": [
        {
          "output_type": "stream",
          "name": "stdout",
          "text": [
            "Downloading and preparing dataset 11.06 MiB (download: 11.06 MiB, generated: 21.00 MiB, total: 32.06 MiB) to /root/tensorflow_datasets/mnist/3.0.1...\n"
          ]
        },
        {
          "output_type": "display_data",
          "data": {
            "text/plain": [
              "Dl Completed...:   0%|          | 0/5 [00:00<?, ? file/s]"
            ],
            "application/vnd.jupyter.widget-view+json": {
              "version_major": 2,
              "version_minor": 0,
              "model_id": "29b5866e708e457f90a8beab8bfbe180"
            }
          },
          "metadata": {}
        },
        {
          "output_type": "stream",
          "name": "stdout",
          "text": [
            "Dataset mnist downloaded and prepared to /root/tensorflow_datasets/mnist/3.0.1. Subsequent calls will reuse this data.\n"
          ]
        }
      ]
    },
    {
      "cell_type": "code",
      "source": [
        "\n",
        "def display_imgs(x, y=None):\n",
        "    '''\n",
        "    Display a batch of images.\n",
        "    '''\n",
        "    if isinstance(x, tf.data.Dataset):\n",
        "        # print(\"x is a Dataset, converting to numpy\")\n",
        "        x = np.array(list(x.as_numpy_iterator()))\n",
        "    # if isinstance(x, _TakeDataset)\n",
        "\n",
        "    if not isinstance(x, (np.ndarray, np.generic)):\n",
        "        if isinstance(x, tf.Tensor):\n",
        "            # print(\"x is a Tensor, converting to numpy\")\n",
        "            x = x.numpy()\n",
        "        else:\n",
        "            if isinstance(x, tf.data.Iterator):\n",
        "                # print(\"x is an iterator, converting to numpy\")\n",
        "                x = np.array(list(x))\n",
        "            else:\n",
        "                print(\"x is not a numpy object:\", type(x))\n",
        "                print(\"x is not a numpy object\")\n",
        "                x = np.array(x)\n",
        "    plt.ioff()  # Turn off interactive mode to avoid blocking.\n",
        "    # print(f\"x.shape: {x.shape}\")\n",
        "    n = x.shape[0]  # Number of images to display.\n",
        "    fig, axs = plt.subplots(1, n, figsize=(n, 1))  # Create a figure and axes.\n",
        "    if y is not None:\n",
        "        fig.suptitle(np.argmax(y, axis=1))  # Set the figure title.\n",
        "    for i in range(n):\n",
        "        axs.flat[i].imshow(x[i].squeeze(), interpolation='none', cmap='gray')  # Display the image.\n",
        "        axs.flat[i].axis('off')  # Turn off axis labels.\n",
        "    plt.show()   # Show the figure.\n",
        "    plt.close()  # Close the figure to free up memory.\n",
        "    plt.ion()    # Turn interactive mode back on.\n",
        "\n",
        "display_imgs(list(train_dataset.take(1))[0][0][:10])\n",
        "display_imgs(list(train_dataset.take(1))[0][1][:10])\n",
        "display_imgs(list(eval_dataset.take(1))[0][0][:10])\n",
        "display_imgs(list(eval_dataset.take(1))[0][1][:10])\n",
        "\n"
      ],
      "metadata": {
        "colab": {
          "base_uri": "https://localhost:8080/",
          "height": 318
        },
        "id": "hcs1PevDx9RV",
        "outputId": "0ed2855c-c35a-4c43-968b-960febc32bbd"
      },
      "execution_count": 3,
      "outputs": [
        {
          "output_type": "display_data",
          "data": {
            "text/plain": [
              "<Figure size 1000x100 with 10 Axes>"
            ],
            "image/png": "[encoded data removed]"
          },
          "metadata": {}
        },
        {
          "output_type": "display_data",
          "data": {
            "text/plain": [
              "<Figure size 1000x100 with 10 Axes>"
            ],
            "image/png": "[encoded data removed]"
          },
          "metadata": {}
        },
        {
          "output_type": "display_data",
          "data": {
            "text/plain": [
              "<Figure size 1000x100 with 10 Axes>"
            ],
            "image/png": "[encoded data removed]"
          },
          "metadata": {}
        },
        {
          "output_type": "display_data",
          "data": {
            "text/plain": [
              "<Figure size 1000x100 with 10 Axes>"
            ],
            "image/png": "[encoded data removed]"
          },
          "metadata": {}
        }
      ]
    },
    {
      "cell_type": "markdown",
      "source": [
        "# Variational autoencoder"
      ],
      "metadata": {
        "id": "AA-Md9pfwNXT"
      }
    },
    {
      "cell_type": "markdown",
      "source": [],
      "metadata": {
        "id": "kjpaO7puwNN5"
      }
    },
    {
      "cell_type": "code",
      "source": [
        "input_shape = datasets_info.features['image'].shape\n",
        "encoded_size = 16\n",
        "base_depth = 32\n",
        "\n",
        "print(f\"input_shape: {input_shape}\")\n",
        "print(f\"encoded_size: {encoded_size}\")\n",
        "print(f\"base_depth: {base_depth}\")\n",
        "print(f\"batch_size: {batch_size}\")\n"
      ],
      "metadata": {
        "colab": {
          "base_uri": "https://localhost:8080/"
        },
        "id": "CuPhpl4mnkeH",
        "outputId": "93ec1688-e570-4f95-eecb-608b43913add"
      },
      "execution_count": 26,
      "outputs": [
        {
          "output_type": "stream",
          "name": "stdout",
          "text": [
            "input_shape: (28, 28, 1)\n",
            "encoded_size: 16\n",
            "base_depth: 32\n",
            "batch_size: 32\n"
          ]
        }
      ]
    },
    {
      "cell_type": "code",
      "source": [
        "prior = tfd.Independent(tfd.Normal(loc=tf.zeros(encoded_size), scale=1),\n",
        "                        reinterpreted_batch_ndims=1)\n",
        "\n",
        "print(f\"prior: {prior}\")\n",
        "\n"
      ],
      "metadata": {
        "colab": {
          "base_uri": "https://localhost:8080/"
        },
        "id": "gNm-2B-js4iX",
        "outputId": "111eda44-1a35-4b60-a8d8-ce6eb569f56b"
      },
      "execution_count": 27,
      "outputs": [
        {
          "output_type": "stream",
          "name": "stdout",
          "text": [
            "prior: tfp.distributions.Independent(\"IndependentNormal\", batch_shape=[], event_shape=[16], dtype=float32)\n"
          ]
        }
      ]
    },
    {
      "cell_type": "code",
      "source": [
        "encoder = tfk.Sequential([\n",
        "    tfk.layers.InputLayer(input_shape=input_shape),\n",
        "    tfk.layers.Lambda(lambda x: tf.cast(x, tf.float32) - 0.5),\n",
        "    tfk.layers.Conv2D(\n",
        "        base_depth, 5, strides=1,\n",
        "        padding='same', activation=tf.nn.leaky_relu),\n",
        "    tfk.layers.Conv2D(\n",
        "        base_depth, 5, strides=2,\n",
        "        padding='same', activation=tf.nn.leaky_relu),\n",
        "    tfk.layers.Conv2D(\n",
        "        2 * base_depth, 5, strides=1,\n",
        "        padding='same', activation=tf.nn.leaky_relu),\n",
        "    tfk.layers.Conv2D(\n",
        "        2 * base_depth, 5, strides=2,\n",
        "        padding='same', activation=tf.nn.leaky_relu),\n",
        "    tfk.layers.Conv2D(\n",
        "        4 * encoded_size, 7, strides=1,\n",
        "        padding='valid', activation=tf.nn.leaky_relu),\n",
        "    tfk.layers.Flatten(),\n",
        "    tfk.layers.Dense(\n",
        "        tfp.layers.MultivariateNormalTriL.params_size(encoded_size),\n",
        "        activation=None),\n",
        "    tfp.layers.MultivariateNormalTriL(\n",
        "        encoded_size,\n",
        "        activity_regularizer=tfp.layers.KLDivergenceRegularizer(prior)),\n",
        "])\n",
        "\n",
        "print(f\"encoder: {encoder}\")\n",
        "# encoder.summary()\n",
        "\n",
        "decoder = tfk.Sequential([\n",
        "    tfk.layers.InputLayer(input_shape=[encoded_size]),\n",
        "    tfk.layers.Reshape([1, 1, encoded_size]),\n",
        "    tfk.layers.Conv2DTranspose(\n",
        "        2 * base_depth, 7, strides=1,\n",
        "        padding='valid', activation=tf.nn.leaky_relu),\n",
        "    tfk.layers.Conv2DTranspose(\n",
        "        2 * base_depth, 5, strides=1,\n",
        "        padding='same', activation=tf.nn.leaky_relu),\n",
        "    tfk.layers.Conv2DTranspose(\n",
        "        2 * base_depth, 5, strides=2,\n",
        "        padding='same', activation=tf.nn.leaky_relu),\n",
        "    tfk.layers.Conv2DTranspose(\n",
        "        base_depth, 5, strides=1,\n",
        "        padding='same', activation=tf.nn.leaky_relu),\n",
        "    tfk.layers.Conv2DTranspose(\n",
        "        base_depth, 5, strides=2,\n",
        "        padding='same', activation=tf.nn.leaky_relu),\n",
        "    tfk.layers.Conv2DTranspose(\n",
        "        base_depth, 5, strides=1,\n",
        "        padding='same', activation=tf.nn.leaky_relu),\n",
        "    tfk.layers.Conv2D(\n",
        "        filters=1, kernel_size=5, strides=1,\n",
        "        padding='same', activation=None),\n",
        "    tfk.layers.Flatten(),\n",
        "    tfp.layers.IndependentBernoulli(input_shape, tfd.Bernoulli.logits),\n",
        "])\n",
        "\n",
        "print(f\"decoder: {decoder}\")\n",
        "decoder.summary()\n",
        "\n",
        "vae = tfk.Model(inputs=encoder.inputs,\n",
        "                outputs=decoder(encoder.outputs[0])) if not 'vae' in locals() else vae\n",
        "\n",
        "print(f\"vae: {vae}\")\n",
        "vae.summary()\n",
        "\n",
        "negloglik = lambda x, rv_x: -rv_x.log_prob(x)\n",
        "learning_rate = tfk.optimizers.schedules.ExponentialDecay(\n",
        "    initial_learning_rate=2e-3,\n",
        "    decay_steps=1000,\n",
        "    decay_rate=0.9)\n",
        "\n",
        "vae.compile(optimizer=tfk.optimizers.Adam(learning_rate=learning_rate), loss=negloglik)\n",
        "# vae.compile(optimizer=tfk.optimizers.Adam(learning_rate=2e-3),\n",
        "#             loss=negloglik)\n",
        "\n",
        "class ShowProgressImagesCallback(keras.callbacks.Callback):\n",
        "    def __init__(self, model, validation_data, num_samples=5):\n",
        "        super().__init__()\n",
        "        self.model = model\n",
        "        self.validation_data = validation_data\n",
        "        # self.num_samples = num_samples\n",
        "\n",
        "    def on_epoch_end(self, epoch, logs=None):\n",
        "        # indices = np.random.randint(0, len(self.validation_data[0]), self.num_samples)\n",
        "        # sample_x = self.validation_data[0][indices]\n",
        "        # sample_y = self.validation_data[1][indices]\n",
        "        # predictions = self.model.predict(sample_x)\n",
        "        # display_imgs(sample_x, sample_y)\n",
        "\n",
        "        # We'll just examine the first ten digits.\n",
        "        x = next(iter(self.validation_data.shuffle(10000)))[0][:10]\n",
        "        xhat = self.model(x)\n",
        "        assert isinstance(xhat, tfd.Distribution)\n",
        "\n",
        "        # if epoch % 10 == 0:\n",
        "        print(\"Original:\")\n",
        "        display_imgs(x)\n",
        "\n",
        "        print('Embedding:')\n",
        "        display_imgs(tf.reshape(encoder(x).sample(), [-1, 4, 4, 1]))\n",
        "\n",
        "        print('Embedding modes:')\n",
        "        display_imgs(tf.reshape(encoder(x).mode(), [-1, 4, 4, 1]))\n",
        "\n",
        "        # print('Embedding means:')\n",
        "        # display_imgs(tf.reshape(encoder(x).mean(), [-1, 4, 4, 1]))\n",
        "\n",
        "        # print('Embedding variances:')\n",
        "        # display_imgs(tf.reshape(encoder(x).variance(), [-1, 4, 4, 1]))\n",
        "\n",
        "        print('Reconstructions:')\n",
        "        display_imgs(xhat.sample())\n",
        "\n",
        "        print('Decoded modes:')\n",
        "        display_imgs(xhat.mode())\n",
        "\n",
        "        print('Decoded means:')\n",
        "        display_imgs(xhat.mean())\n",
        "\n",
        "        print('Decoded variances:')\n",
        "        display_imgs(xhat.variance())\n",
        "\n",
        "checkpoint_filepath = \"models/model.{loss:.4}.keras\"\n",
        "checkpoint_callback = tfk.callbacks.ModelCheckpoint(\n",
        "    filepath=checkpoint_filepath,\n",
        "    save_weights_only=False,\n",
        "    monitor='val_loss',\n",
        "    mode='min',\n",
        "    save_best_only=True,\n",
        "    verbose=1\n",
        ")\n",
        "\n",
        "# delete xhat\n",
        "# xhat = vae(next(iter(eval_dataset))[0][:10])\n",
        "# assert isinstance(xhat, tfd.Distribution)\n",
        "print('Originals:')\n",
        "display_imgs(next(iter(eval_dataset))[0][:10])\n",
        "\n",
        "vae.fit(train_dataset,\n",
        "        epochs=30, batch_size=batch_size,\n",
        "        validation_data=eval_dataset,\n",
        "        callbacks=[\n",
        "            ShowProgressImagesCallback(vae, eval_dataset),\n",
        "            checkpoint_callback\n",
        "        ])\n",
        "\n"
      ],
      "metadata": {
        "colab": {
          "base_uri": "https://localhost:8080/",
          "height": 1000
        },
        "id": "XlA5ImT3tA5k",
        "outputId": "194f0af4-f7d1-450b-da66-641e4a0cb64e"
      },
      "execution_count": null,
      "outputs": [
        {
          "output_type": "stream",
          "name": "stdout",
          "text": [
            "encoder: <keras.src.engine.sequential.Sequential object at 0x7f5c4c28e380>\n",
            "decoder: <keras.src.engine.sequential.Sequential object at 0x7f5ab8584cd0>\n",
            "Model: \"sequential_21\"\n",
            "_________________________________________________________________\n",
            " Layer (type)                Output Shape              Param #   \n",
            "=================================================================\n",
            " reshape_10 (Reshape)        (None, 1, 1, 16)          0         \n",
            "                                                                 \n",
            " conv2d_transpose_60 (Conv2  (None, 7, 7, 64)          50240     \n",
            " DTranspose)                                                     \n",
            "                                                                 \n",
            " conv2d_transpose_61 (Conv2  (None, 7, 7, 64)          102464    \n",
            " DTranspose)                                                     \n",
            "                                                                 \n",
            " conv2d_transpose_62 (Conv2  (None, 14, 14, 64)        102464    \n",
            " DTranspose)                                                     \n",
            "                                                                 \n",
            " conv2d_transpose_63 (Conv2  (None, 14, 14, 32)        51232     \n",
            " DTranspose)                                                     \n",
            "                                                                 \n",
            " conv2d_transpose_64 (Conv2  (None, 28, 28, 32)        25632     \n",
            " DTranspose)                                                     \n",
            "                                                                 \n",
            " conv2d_transpose_65 (Conv2  (None, 28, 28, 32)        25632     \n",
            " DTranspose)                                                     \n",
            "                                                                 \n",
            " conv2d_65 (Conv2D)          (None, 28, 28, 1)         801       \n",
            "                                                                 \n",
            " flatten_21 (Flatten)        (None, 784)               0         \n",
            "                                                                 \n",
            " independent_bernoulli_10 (  ((None, 28, 28, 1),       0         \n",
            " IndependentBernoulli)        (None, 28, 28, 1))                 \n",
            "                                                                 \n",
            "=================================================================\n",
            "Total params: 358465 (1.37 MB)\n",
            "Trainable params: 358465 (1.37 MB)\n",
            "Non-trainable params: 0 (0.00 Byte)\n",
            "_________________________________________________________________\n",
            "vae: <keras.src.engine.functional.Functional object at 0x7f599ac94550>\n",
            "Model: \"model_6\"\n",
            "_________________________________________________________________\n",
            " Layer (type)                Output Shape              Param #   \n",
            "=================================================================\n",
            " input_13 (InputLayer)       [(None, 28, 28, 1)]       0         \n",
            "                                                                 \n",
            " lambda_6 (Lambda)           (None, 28, 28, 1)         0         \n",
            "                                                                 \n",
            " conv2d_36 (Conv2D)          (None, 28, 28, 32)        832       \n",
            "                                                                 \n",
            " conv2d_37 (Conv2D)          (None, 14, 14, 32)        25632     \n",
            "                                                                 \n",
            " conv2d_38 (Conv2D)          (None, 14, 14, 64)        51264     \n",
            "                                                                 \n",
            " conv2d_39 (Conv2D)          (None, 7, 7, 64)          102464    \n",
            "                                                                 \n",
            " conv2d_40 (Conv2D)          (None, 1, 1, 64)          200768    \n",
            "                                                                 \n",
            " flatten_12 (Flatten)        (None, 64)                0         \n",
            "                                                                 \n",
            " dense_6 (Dense)             (None, 152)               9880      \n",
            "                                                                 \n",
            " multivariate_normal_tri_l_  ((None, 16),              0         \n",
            " 6 (MultivariateNormalTriL)   (None, 16))                        \n",
            "                                                                 \n",
            " sequential_13 (Sequential)  (None, 28, 28, 1)         358465    \n",
            "                                                                 \n",
            "=================================================================\n",
            "Total params: 749305 (2.86 MB)\n",
            "Trainable params: 749305 (2.86 MB)\n",
            "Non-trainable params: 0 (0.00 Byte)\n",
            "_________________________________________________________________\n",
            "Originals:\n"
          ]
        },
        {
          "output_type": "display_data",
          "data": {
            "text/plain": [
              "<Figure size 1000x100 with 10 Axes>"
            ],
            "image/png": "[encoded data removed]"
          },
          "metadata": {}
        },
        {
          "output_type": "stream",
          "name": "stdout",
          "text": [
            "Epoch 1/30\n",
            " 122/1875 [>.............................] - ETA: 1:39 - loss: 123.6316"
          ]
        }
      ]
    },
    {
      "cell_type": "code",
      "source": [
        "# We'll just examine ten random digits.\n",
        "# xhat = vae(next(iter(eval_dataset))[0][:10])\n",
        "# assert isinstance(xhat, tfd.Distribution)\n",
        "# print('Originals:')\n",
        "# display_imgs(next(iter(eval_dataset))[0][:10])\n",
        "# print('Reconstructions:')\n",
        "# display_imgs(xhat.sample())\n",
        "\n",
        "# print('Decoded modes:')\n",
        "# display_imgs(xhat.mode())\n",
        "\n",
        "# print('Decoded means:')\n",
        "# display_imgs(xhat.mean())\n",
        "\n",
        "print('Embedding:')\n",
        "encoded= encoder(next(iter(eval_dataset))[0][:10]).sample()\n",
        "# reshape the last dimension from (16,) to (4,4)\n",
        "encoded = tf.reshape(encoded, [-1, 4, 4, 1])\n",
        "display_imgs(encoded)\n"
      ],
      "metadata": {
        "colab": {
          "base_uri": "https://localhost:8080/",
          "height": 216
        },
        "id": "ltZhItKdnkbZ",
        "outputId": "6895bb1c-ffe6-4b10-d0c9-43c0717e63bc"
      },
      "execution_count": 18,
      "outputs": [
        {
          "output_type": "stream",
          "name": "stdout",
          "text": [
            "Embedding:\n"
          ]
        },
        {
          "output_type": "display_data",
          "data": {
            "text/plain": [
              "<Figure size 1000x100 with 10 Axes>"
            ],
            "image/png": "[encoded data removed]"
          },
          "metadata": {}
        },
        {
          "output_type": "display_data",
          "data": {
            "text/plain": [
              "<Figure size 1000x100 with 10 Axes>"
            ],
            "image/png": "[encoded data removed]"
          },
          "metadata": {}
        }
      ]
    },
    {
      "cell_type": "code",
      "source": [
        "vae.compile(optimizer=tfk.optimizers.Adam(learning_rate=2e-3),\n",
        "            loss=negloglik)\n",
        "\n",
        "vae.fit(train_dataset,\n",
        "            epochs=15, batch_size=batch_size,\n",
        "            validation_data=eval_dataset)\n"
      ],
      "metadata": {
        "id": "y923bt8mAj5R"
      },
      "execution_count": null,
      "outputs": []
    },
    {
      "cell_type": "code",
      "source": [
        "# Now, let's generate ten never-before-seen digits.\n",
        "z = prior.sample(10)\n",
        "xtilde = decoder(z)\n",
        "assert isinstance(xtilde, tfd.Distribution)\n",
        "\n",
        "print('Randomly Generated Samples:')\n",
        "display_imgs(xtilde.sample())\n",
        "\n",
        "print('Randomly Generated Modes:')\n",
        "display_imgs(xtilde.mode())\n",
        "\n",
        "print('Randomly Generated Means:')\n",
        "display_imgs(xtilde.mean())\n"
      ],
      "metadata": {
        "id": "sL9znkgqAj06"
      },
      "execution_count": null,
      "outputs": []
    },
    {
      "cell_type": "code",
      "source": [],
      "metadata": {
        "id": "JlVq4VMOAjxg"
      },
      "execution_count": null,
      "outputs": []
    },
    {
      "cell_type": "code",
      "source": [
        "\n",
        "def pmf(k, lamb):\n",
        "    return tf.exp(-lamb) * lamb**k / tf.math.factorial(k)\n"
      ],
      "metadata": {
        "id": "jSBhacJk64ZT"
      },
      "execution_count": null,
      "outputs": []
    },
    {
      "cell_type": "markdown",
      "source": [
        "# Fusion of nonlinear state-space models and dynamic factor models\n"
      ],
      "metadata": {
        "id": "eDNGwEYw68JA"
      }
    },
    {
      "cell_type": "markdown",
      "source": [
        "## _Nonlinear State-Space Models_\n",
        "\n",
        "Nonlinear state-space models are used to describe systems where the relationship between the state variables and the observations is nonlinear. These models are represented by the following equations:\n",
        "\n",
        "### State transition equation\n",
        "$$\n",
        "x_{t+1} = f(x_t, u_t) + w_t\n",
        "$$\n",
        "\n",
        "where:\n",
        "- $x_{t}$ is the state vector at time $t$\n",
        "- $u_{t}$ is the input vector at time $t$\n",
        "- $f$ is a nonlinear function\n",
        "- $w_{t}$ is process noise at time $t$\n",
        "\n",
        "\n",
        "### Observation equation\n",
        "$$\n",
        "y_t = h(x_t) + v_t\n",
        "$$\n",
        "\n",
        "where:\n",
        "- $y_{t}$ is the observation vector at time $t$\n",
        "- $h$ is a nonlinear function\n",
        "- $v_{t}$ is observation noise at time $t$\n",
        "\n",
        "\n",
        "## _Dynamic Factor Models_\n",
        "\n",
        "Dynamic factor models decompose the observed variables into a small number of latent factors that capture the common dynamics among the variables. The basic form of a DFM is:\n",
        "\n",
        "### State transition equation\n",
        "$$\n",
        "y_t = \\Lambda f_t + \\epsilon_t\n",
        "$$\n",
        "\n",
        "where:\n",
        "- $y_{t}$ is the observation vector at time $t$\n",
        "- $\\Lambda$ is the loading matrix\n",
        "- $f_t$ is the vector of latent factors\n",
        "- $\\epsilon_t$ is the idiosyncratic error\n",
        "\n",
        "### State transition equation for factors\n",
        "$$\n",
        "f_t = \\Phi f_{t-1} + \\eta_t\n",
        "$$\n",
        "\n",
        "where:\n",
        "- $f_t$ is the vector of latent factors\n",
        "- $\\Phi$ is the transition matrix for the factors\n",
        "- $\\eta_t$ is the factor innovation\n",
        "\n",
        "## _Nonlinear State-Space + Dynamic Factor Models_\n",
        "\n",
        "To fuse these two approaches, we can represent the latent factors of the DFM within a nonlinear state-space framework. This involves defining the latent factors as the state variables in the state-space model:\n",
        "\n",
        "### State transition equation\n",
        "$$\n",
        "f_{t+1} = \\Phi f_t + g(f_t, u_t) + \\eta_t\n",
        "$$\n",
        "\n",
        "Here, $g(f_t, u_t)$ is a nonlinear function capturing the dynamics influenced by the inputs $u_t$.\n",
        "\n",
        "### Observation equation\n",
        "$$\n",
        "y_t = \\Lambda f_t + h(f_t) + \\epsilon_t\n",
        "$$\n",
        "\n",
        "The function $h(f_t)$ captures the nonlinear relationship between the factors and the observed variables.\n",
        "\n",
        "## Estimation techniques\n",
        "\n",
        "The Unscented Kalman Filter provides an accurate approximation for nonlinear transformations by using a deterministic sampling approach.\n"
      ],
      "metadata": {
        "id": "vZFdwQlTBgJo"
      }
    },
    {
      "cell_type": "code",
      "source": [
        "# we'll need to learn:\n",
        "# $\\Phi$, the transition matrix for the factors\n",
        "# $f_{t}$, the vector of latent factors\n",
        "# $\\eta_t$, factor innovation\n",
        "# $\\Lambda$, the loading matrix\n",
        "# $g(f_t, u_t)$, the nonlinear function capturing the dynamics influenced by the inputs\n",
        "# $h(f_t)$, the nonlinear relationship between the factors and the observed variables\n",
        "\n",
        "# yikes\n",
        "\n",
        "n_features = 2 # Number of observed features\n",
        "# n_factors = 5   # Number of latent factors\n",
        "timesteps = 24  # Number of timesteps in the time series window\n"
      ],
      "metadata": {
        "id": "iWcr-1RW64V6"
      },
      "execution_count": null,
      "outputs": []
    },
    {
      "cell_type": "code",
      "source": [
        "\n",
        "\n",
        "# Define the transition and observation functions\n",
        "def transition_fn(x):\n",
        "    # Nonlinear state-space model\n",
        "    print(f\"x: {x}\")\n",
        "    if all([z==0. for z in x]):\n",
        "        return x\n",
        "    # raise NotImplementedError\n",
        "    return tfd.MultivariateNormalDiag(\n",
        "        tf.stack([x[..., 0] - 0.1 * x[..., 1]**3, x[..., 1]], axis=-1),\n",
        "        scale_diag=[0.7, 0.2]\n",
        "    )\n",
        "\n",
        "#\n",
        "def transition_jacobian_fn(x):\n",
        "    return tf.reshape(\n",
        "        tf.stack([\n",
        "            1. - 0.1 * x[..., 1]**3, -0.3 * x[..., 1]**2,\n",
        "            tf.zeros(x.shape[:-1]), tf.ones(x.shape[:-1])\n",
        "        ], axis=-1),\n",
        "        [2, 2]\n",
        "    )\n",
        "\n",
        "def observation_fn(x):\n",
        "    return tfd.MultivariateNormalDiag(\n",
        "        x[..., :(n_features-1)],\n",
        "        scale_diag=[1. for _ in range(n_features-1)])\n",
        "\n",
        "def observation_jacobian_fn(x):\n",
        "    return [[1. if j == 0 else 0. for j in range(n_features)]]\n",
        "\n",
        "# Initial state prior\n",
        "initial_state_prior = tfd.MultivariateNormalDiag(\n",
        "    loc=[0. for _ in range(n_features)],\n",
        "    scale_diag=[tf.exp(0.-0.5*x) for x in range(n_features)])\n",
        "\n",
        "print(f\"initial_state_prior: {initial_state_prior.sample()}\")\n",
        "\n",
        "# Observations (synthetic data for demonstration)\n",
        "observations = observation_fn(tf.stack([initial_state_prior.sample() for _ in range(timesteps*2)])).sample()\n",
        "print(f\"observations: {observations.shape}\")\n",
        "\n",
        "# Apply the Extended Kalman Filter\n",
        "results = tfp.experimental.sequential.extended_kalman_filter(\n",
        "    observations=observations,\n",
        "    initial_state_prior=initial_state_prior,\n",
        "    transition_fn=transition_fn,\n",
        "    observation_fn=observation_fn,\n",
        "    transition_jacobian_fn=transition_jacobian_fn,\n",
        "    observation_jacobian_fn=observation_jacobian_fn\n",
        ")\n",
        "\n",
        "# print(f\"{[result for result in results]}\")\n",
        "# raise ValueError(\"Not implemented\")\n",
        "# print(\"Filtered state means:\", results)\n",
        "\n",
        "@keras.utils.register_keras_serializable()\n",
        "class EKFLayer(Layer):\n",
        "    def __init__(self, transition_fn, observation_fn, transition_jacobian_fn, observation_jacobian_fn, state_prior=None, **kwargs):\n",
        "        super(EKFLayer, self).__init__(**kwargs)\n",
        "        self.transition_fn = transition_fn\n",
        "        self.observation_fn = observation_fn\n",
        "        self.transition_jacobian_fn = transition_jacobian_fn\n",
        "        self.observation_jacobian_fn = observation_jacobian_fn\n",
        "        self.state_prior = state_prior\n",
        "\n",
        "    def build(self, input_shape):\n",
        "        print(f\"input_shape: {input_shape}\")\n",
        "        if input_shape[0] is not None:\n",
        "            raise ValueError(\"Expected to be built with input_shape=(None, ...)\")\n",
        "        self.state_prior = self.add_weight(\n",
        "            name=\"state_prior\",\n",
        "            shape=(input_shape[-2], input_shape[-1]),\n",
        "            trainable=True,\n",
        "            dtype=self.dtype)\n",
        "        self.transition_matrix = self.add_weight(\n",
        "            name=\"transition_matrix\",\n",
        "            shape=(input_shape[-1], input_shape[-1]),\n",
        "            trainable=True,\n",
        "            dtype=self.dtype)\n",
        "        self.latent_factors = self.add_weight(\n",
        "            name=\"latent_factors\",\n",
        "            shape=(input_shape[-1],),\n",
        "            trainable=True,\n",
        "            dtype=self.dtype)\n",
        "        # if input_shape[0] is None:\n",
        "        #     raise ValueError(\"inputs must be a tuple of (observations, initial_state)\")\n",
        "        # self.observation_matrix =\n",
        "        # self.initial_state_prior =\n",
        "        # self.transition_jacobian =\n",
        "        # self.observation_jacobian =\n",
        "        # self.factor_innovation =\n",
        "        # self.loading_matrix =\n",
        "        # self.nonlinear_function =\n",
        "        # self.nonlinear_relationship =\n",
        "        # self.latent_factors =\n",
        "        # self.factor_innovation = self.add_weight(\n",
        "        #     name=\"factor_innovation\",\n",
        "        #     shape=(input_shape[0],),\n",
        "        #     dtype=self.dtype)\n",
        "        super(EKFLayer, self).build(input_shape)\n",
        "\n",
        "    def call(self, inputs):\n",
        "        if inputs.shape[0] is None:\n",
        "            print(\"Warning, inputs.shape[0] is None\")\n",
        "            # raise ValueError(\"inputs must be a tuple of (observations, initial_state)\")\n",
        "            return inputs\n",
        "        print(f\"inputs: {inputs}\")\n",
        "        observations = inputs\n",
        "        results = tfp.experimental.sequential.extended_kalman_filter(\n",
        "            observations=observations,\n",
        "            initial_state_prior=self.state_prior,\n",
        "            transition_fn=self.transition_fn,\n",
        "            observation_fn=self.observation_fn,\n",
        "            transition_jacobian_fn=self.transition_jacobian_fn,\n",
        "            observation_jacobian_fn=self.observation_jacobian_fn\n",
        "        )\n",
        "        return results[0]\n",
        "\n",
        "# Create the custom EKF layer\n",
        "ekf_layer = EKFLayer(transition_fn, observation_fn,\n",
        "                     transition_jacobian_fn, observation_jacobian_fn,\n",
        "                     state_prior=initial_state_prior)\n",
        "\n",
        "# Example usage in a Keras model\n",
        "inputs = tf.keras.Input(shape=(timesteps, n_features))\n",
        "ekf = ekf_layer(inputs)\n",
        "model = tf.keras.Model(inputs=inputs, outputs=ekf)\n",
        "model.summary()\n",
        "\n",
        "@keras.utils.register_keras_serializable()\n",
        "def custom_loss(y_true, y_pred):\n",
        "    # Example: Mean Squared Logarithmic Error to handle skewness\n",
        "    return K.mean(K.square(K.log(1 + y_true) - K.log(1 + y_pred)), axis=-1)\n",
        "\n",
        "# Compile the model with the custom loss function\n",
        "model.compile(optimizer='adam', loss=custom_loss)\n",
        "\n",
        "# summary\n",
        "model.summary()\n",
        "\n",
        "# Generate some example data\n",
        "X_train = np.random.rand(100000, timesteps, n_features)\n",
        "y_train = np.random.rand(100000, timesteps, n_features)\n",
        "\n",
        "# Train the model\n",
        "history = model.fit(X_train, y_train, epochs=5, batch_size=128, validation_split=0.2)\n",
        "print(f'Training loss: {history.history[\"loss\"][-1]}')\n",
        "print(f'Validation loss: {history.history[\"val_loss\"][-1]}')\n",
        "\n",
        "# Generate some example test data\n",
        "X_test = np.random.rand(200, timesteps, n_features)\n",
        "y_test = np.random.rand(200, timesteps, n_features)\n",
        "\n",
        "# Evaluate the model\n",
        "loss = model.evaluate(X_test, y_test)\n",
        "print(f'Test Loss: {loss}')\n",
        "\n",
        "# Make predictions\n",
        "predictions = model.predict(X_test)\n",
        "print(f'Predictions: {predictions}')\n",
        "\n",
        "model.save(\"model.keras\")\n",
        "\n",
        "del model\n",
        "model = tf.keras.models.load_model(\"model.keras\")\n",
        "model.summary()\n",
        "\n",
        "\n"
      ],
      "metadata": {
        "id": "qD-UWF1ZPAZO"
      },
      "execution_count": null,
      "outputs": []
    },
    {
      "cell_type": "code",
      "source": [],
      "metadata": {
        "id": "HEXn2mv0PAQ_"
      },
      "execution_count": null,
      "outputs": []
    },
    {
      "cell_type": "code",
      "source": [],
      "metadata": {
        "id": "-Q0bFoJ3Z4DV"
      },
      "execution_count": null,
      "outputs": []
    },
    {
      "cell_type": "code",
      "source": [
        "\n",
        "\n",
        "@keras.utils.register_keras_serializable()\n",
        "class NonlinearStateSpaceDynamicFactorModel(tf.keras.models.Model):\n",
        "    def __init__(factors=None, **kwargs):\n",
        "        super().__init__(**kwargs)\n",
        "        self.factors = factors\n",
        "        self.phi = None # transition matrix for factors\n",
        "        self.latent_factors = None # vector of latent factors\n",
        "        self.factor_innovation = None\n",
        "        self.loading_matrix = None\n",
        "        self.nonlinear_function = None\n",
        "        self.nonlinear_relationship = None\n",
        "\n",
        "    def build(self, input_shape):\n",
        "        # self.factors =\n",
        "        # if self.factors is None:\n",
        "        #     # TODO: support learning the number of factors\n",
        "        #     raise ValueError(\"factors must be specified\")\n",
        "\n",
        "        self.factor_innovation = self.add_weight(\n",
        "            name=\"factor_innovation\",\n",
        "            shape=(input_shape[-1],),\n",
        "            dtype=self.dtype)\n",
        "\n",
        "        super().build(input_shape)\n",
        "\n",
        "    def call(self, inputs):\n",
        "        raise NotImplementedError\n",
        "\n",
        "    def get_config(self):\n",
        "        config = super().get_config()\n",
        "        config.update({\n",
        "            \"factors\": self.factors\n",
        "        })\n",
        "        return config\n",
        "\n",
        "    def get_weights(self):\n",
        "        raise NotImplementedError\n",
        "\n",
        "    def set_weights(self, weights):\n",
        "        raise NotImplementedError\n",
        "\n",
        "    @classmethod\n",
        "    def from_config(cls, config):\n",
        "        if \"factors\" in config:\n",
        "            factors = config.pop(\"factors\")\n",
        "        else:\n",
        "            factors = None\n",
        "        return cls(factors, **config)\n",
        "\n",
        "    def from_json(cls, json_config):\n",
        "        config = json.loads(json_config)\n",
        "        return cls(**config)\n",
        "\n",
        "\n",
        "@keras.utils.register_keras_serializable()\n",
        "class SVDLayer(keras.layers.Layer):\n",
        "    \"\"\"\n",
        "    A layer that keeps its weights Singular Value Decomposed.\n",
        "\n",
        "    Attributes:\n",
        "      output_dim: dimensions of the output space\n",
        "      rank: rank of the SVD decomposition\n",
        "      activation: activation function to apply to the output\n",
        "      seed: seed for any random features\n",
        "      U: rotation weights matrix\n",
        "      S: singular values matrix\n",
        "      V: rotation weights matrix\n",
        "    \"\"\"\n",
        "    def __init__(self, output_dim,\n",
        "                 rank=None, low_rank=None, activation='relu',\n",
        "                 s_regularizer=None, s_initializer=None,\n",
        "                 u_regularizer=None, u_initializer=None,\n",
        "                 v_regularizer=None, v_initializer=None,\n",
        "                 b_regularizer=None, b_initializer=None,\n",
        "                 seed=None,\n",
        "                 **kwargs):\n",
        "        super(SVDLayer, self).__init__(**kwargs)\n",
        "        # if output_dim is None:\n",
        "        #     # TODO: allow automatically configuring the output dimension\n",
        "        #     raise ValueError(\"output_dim must be specified\")\n",
        "        # self.output_dim = output_dim\n",
        "        # self.rank = rank if rank is not None else output_dim\n",
        "        # self.low_rank = low_rank if low_rank is not None else self.rank\n",
        "        # self.seed = seed\n",
        "\n",
        "        # self.activation = keras.activations.get(activation) or keras.activations.linear\n",
        "\n",
        "        # self.s_initializer = keras.initializers.get(s_initializer) or keras.initializers.Ones()\n",
        "        # self.u_initializer = keras.initializers.get(u_initializer) or keras.initializers.Orthogonal()\n",
        "        # self.v_initializer = keras.initializers.get(v_initializer) or keras.initializers.Orthogonal()\n",
        "        # self.b_initializer = keras.initializers.get(b_initializer) or keras.initializers.Zeros()\n",
        "\n",
        "        # self.s_regularizer = keras.regularizers.get(s_regularizer)\n",
        "        # self.u_regularizer = keras.regularizers.get(u_regularizer) or keras.regularizers.orthogonal_regularizer(0.1, mode='columns')\n",
        "        # self.v_regularizer = keras.regularizers.get(v_regularizer) or keras.regularizers.orthogonal_regularizer(0.1, mode='rows')\n",
        "        # self.b_regularizer = keras.regularizers.get(b_regularizer)\n",
        "        raise NotImplementedError\n",
        "\n",
        "    def compute_output_shape(self, input_shape):\n",
        "        # # TODO: verify this is correct\n",
        "        # return (input_shape[0], self.output_dim)\n",
        "        raise NotImplementedError\n",
        "\n",
        "    @tf.function(input_signature=[tf.TensorSpec(shape=None, dtype=tf.float32)])\n",
        "    def call_and_return_dict(self, inputs):\n",
        "        # return {\"output\": self.call(inputs)}\n",
        "        raise NotImplementedError\n",
        "\n",
        "    def get_config(self):\n",
        "        config = super().get_config()\n",
        "        # config.update({\n",
        "        #     \"output_dim\": self.output_dim,\n",
        "        #     \"rank\": self.rank,\n",
        "        #     \"low_rank\": self.low_rank,\n",
        "        #     \"seed\": self.seed,\n",
        "        #     \"activation\": keras.activations.serialize(self.activation),\n",
        "        #     \"s_regularizer\": keras.regularizers.serialize(self.s_regularizer),\n",
        "        #     \"s_initializer\": keras.initializers.serialize(self.s_initializer),\n",
        "        #     \"u_regularizer\": keras.regularizers.serialize(self.u_regularizer),\n",
        "        #     \"u_initializer\": keras.initializers.serialize(self.u_initializer),\n",
        "        #     \"v_regularizer\": keras.regularizers.serialize(self.v_regularizer),\n",
        "        #     \"v_initializer\": keras.initializers.serialize(self.v_initializer),\n",
        "        #     \"b_regularizer\": keras.regularizers.serialize(self.b_regularizer),\n",
        "        #     \"b_initializer\": keras.initializers.serialize(self.b_initializer),\n",
        "        # })\n",
        "        return config\n",
        "\n",
        "    def get_weights(self):\n",
        "        # return [self.U.numpy(), self.S.numpy(), self.V.numpy(), self.b.numpy()]\n",
        "        raise NotImplementedError\n",
        "\n",
        "    def set_weights(self, weights):\n",
        "        # self.U.assign(weights[0])\n",
        "        # self.S.assign(weights[1])\n",
        "        # self.V.assign(weights[2])\n",
        "        # self.b.assign(weights[3])\n",
        "        raise NotImplementedError\n",
        "\n",
        "    def build(self, input_shape):\n",
        "        # # print(f\"SVDLayer.build(): input_shape={input_shape}\")\n",
        "        # # TODO: add support for other, such as, complex types\n",
        "\n",
        "        # if self.rank is None:\n",
        "        #     self.rank = math.min(input_shape[-1], self.output_dim)\n",
        "        #     print(f\"SVDLayer        : rank={self.rank}\")\n",
        "\n",
        "        # if self.low_rank is None or self.low_rank > self.rank:\n",
        "        #     self.low_rank = self.rank\n",
        "        #     print(f\"SVDLayer        : low_rank={self.low_rank}\")\n",
        "\n",
        "        # # Initialize U, Σ, and V\n",
        "        # self.U = self.add_weight(name=\"U\", #dtype=dtype,\n",
        "        #                          shape=(input_shape[-1], self.rank),\n",
        "        #                          initializer=self.u_initializer,\n",
        "        #                          regularizer=self.u_regularizer,\n",
        "        #                          constraint=keras.constraints.UnitNorm(axis=0),\n",
        "        #                          trainable=True)\n",
        "\n",
        "        # self.S = self.add_weight(name=\"S\", #dtype=dtype,\n",
        "        #                          shape=(self.rank,),\n",
        "        #                          initializer=self.s_initializer,\n",
        "        #                          regularizer=self.s_regularizer,\n",
        "        #                          constraint=UniqueNonZero(),\n",
        "        #                          trainable=True)\n",
        "\n",
        "        # self.V = self.add_weight(name=\"V\", #dtype=dtype,\n",
        "        #                          shape=(self.rank, self.output_dim),\n",
        "        #                          initializer=self.v_initializer,\n",
        "        #                          regularizer=self.v_regularizer,\n",
        "        #                          constraint=keras.constraints.UnitNorm(axis=1),\n",
        "        #                          trainable=True)\n",
        "\n",
        "        # self.b = self.add_weight(name=\"bias\", #dtype=dtype,\n",
        "        #                          shape=(self.output_dim,),\n",
        "        #                          initializer=self.b_initializer,\n",
        "        #                          regularizer=self.b_regularizer,\n",
        "        #                          trainable=True)\n",
        "        raise NotImplementedError\n",
        "\n",
        "    def call(self, inputs):\n",
        "        # # # Flatten input if it's not 2D\n",
        "        # # original_shape = tf.shape(inputs)\n",
        "        # # if len(inputs.shape) > 2:\n",
        "        # #     inputs = tf.reshape(inputs, (-1, inputs.shape[-1]))\n",
        "\n",
        "        # # Reconstruct the weight matrix (or a low-rank approximation)\n",
        "        # U = self.U[:, :self.low_rank]\n",
        "        # S = self.S[:self.low_rank]\n",
        "        # V = self.V[:self.low_rank, :]\n",
        "\n",
        "        # w = keras.ops.matmul(keras.ops.multiply(U, S), V)\n",
        "\n",
        "        # result = keras.ops.add(keras.ops.matmul(inputs, w), self.b)\n",
        "\n",
        "        # # # Reshape result if input was not 2D\n",
        "        # # if len(original_shape) > 2:\n",
        "        # #     new_shape = tf.concat([original_shape[:-1], [self.output_dim]], axis=0)\n",
        "        # #     result = tf.reshape(result, new_shape)\n",
        "\n",
        "        # return self.activation(result)\n",
        "        raise NotImplementedError\n",
        "\n",
        "\n"
      ],
      "metadata": {
        "id": "x2P5YEoxBtaw"
      },
      "execution_count": null,
      "outputs": []
    },
    {
      "cell_type": "code",
      "source": [],
      "metadata": {
        "id": "I82Es-vQBtXW"
      },
      "execution_count": null,
      "outputs": []
    },
    {
      "cell_type": "code",
      "source": [
        "n_features = 10 # Number of observed features\n",
        "n_factors = 5   # Number of latent factors\n",
        "timesteps = 24  # Number of timesteps in the time series window\n",
        "\n",
        "# define the inputs\n",
        "input_layer = Input(shape=(timesteps, n_features))\n",
        "\n",
        "# LSTM layer to capture the temporal dynamics of the latent factors\n",
        "lstm_layer = LSTM(n_factors, return_sequences=True)(input_layer)\n",
        "\n",
        "# layer for nonlinear relations between factors and observed variables\n",
        "dense_layer = Dense(n_features)(lstm_layer)\n",
        "\n",
        "# define the model\n",
        "model = Model(input_layer, dense_layer)\n",
        "\n",
        "@keras.utils.register_keras_serializable()\n",
        "def custom_loss(y_true, y_pred):\n",
        "    # Example: Mean Squared Logarithmic Error to handle skewness\n",
        "    return K.mean(K.square(K.log(1 + y_true) - K.log(1 + y_pred)), axis=-1)\n",
        "\n",
        "# Compile the model with the custom loss function\n",
        "model.compile(optimizer='adam', loss=custom_loss)\n",
        "\n",
        "# summary\n",
        "model.summary()\n",
        "\n",
        "# Generate some example data\n",
        "X_train = np.random.rand(10000, timesteps, n_features)\n",
        "y_train = np.random.rand(10000, timesteps, n_features)\n",
        "\n",
        "# Train the model\n",
        "history = model.fit(X_train, y_train, epochs=5, batch_size=128, validation_split=0.2)\n",
        "print(f'Training loss: {history.history[\"loss\"][-1]}')\n",
        "print(f'Validation loss: {history.history[\"val_loss\"][-1]}')\n",
        "\n",
        "# Generate some example test data\n",
        "X_test = np.random.rand(200, timesteps, n_features)\n",
        "y_test = np.random.rand(200, timesteps, n_features)\n",
        "\n",
        "# Evaluate the model\n",
        "loss = model.evaluate(X_test, y_test)\n",
        "print(f'Test Loss: {loss}')\n",
        "\n",
        "# Make predictions\n",
        "predictions = model.predict(X_test)\n",
        "print(f'Predictions: {predictions}')\n",
        "\n",
        "model.save(\"model.keras\")\n",
        "\n",
        "del model\n",
        "model = tf.keras.models.load_model(\"model.keras\")\n",
        "model.summary()\n",
        "\n"
      ],
      "metadata": {
        "id": "7oicsp7cEHW2"
      },
      "execution_count": null,
      "outputs": []
    },
    {
      "cell_type": "code",
      "source": [],
      "metadata": {
        "id": "jO43U8_PEHRA"
      },
      "execution_count": null,
      "outputs": []
    },
    {
      "cell_type": "code",
      "source": [
        "from IPython.display import display\n",
        "with pd.option_context('display.max_columns', 240):\n",
        "    display(model.weights)"
      ],
      "metadata": {
        "id": "LJBQgLorBtUp"
      },
      "execution_count": null,
      "outputs": []
    },
    {
      "cell_type": "code",
      "source": [],
      "metadata": {
        "id": "TlYIJhO6MX_l"
      },
      "execution_count": null,
      "outputs": []
    },
    {
      "cell_type": "code",
      "source": [
        "import numpy as np\n",
        "import tensorflow as tf\n",
        "\n",
        "def sliding_window_generator(data, targets, window_size, stride, batch_size):\n",
        "    num_samples = (len(data) - window_size) // stride + 1\n",
        "    while True:\n",
        "        for start in range(0, num_samples, batch_size):\n",
        "            end = min(start + batch_size, num_samples)\n",
        "            batch_data = []\n",
        "            batch_targets = []\n",
        "            for i in range(start, end):\n",
        "                window_start = i * stride\n",
        "                window_end = window_start + window_size\n",
        "                batch_data.append(data[window_start:window_end])\n",
        "                batch_targets.append(targets[window_end-1])\n",
        "            yield np.array(batch_data), np.array(batch_targets)\n",
        "\n",
        "# Example data\n",
        "data = np.arange(100)\n",
        "targets = data * 2  # Dummy target values\n",
        "\n",
        "# Parameters\n",
        "window_size = 10\n",
        "stride = 1\n",
        "batch_size = 32\n",
        "\n",
        "# Create the generator\n",
        "generator = sliding_window_generator(data, targets, window_size, stride, batch_size)\n",
        "\n",
        "# Create a Keras model for demonstration\n",
        "model = tf.keras.Sequential([\n",
        "    tf.keras.layers.InputLayer(input_shape=(window_size,)),\n",
        "    tf.keras.layers.Dense(10, activation='relu'),\n",
        "    tf.keras.layers.Dense(1)\n",
        "])\n",
        "\n",
        "model.compile(optimizer='adam', loss=custom_loss)\n",
        "\n",
        "# Train the model using the generator\n",
        "model.fit(generator, steps_per_epoch=(len(data) - window_size) // stride // batch_size, epochs=10)"
      ],
      "metadata": {
        "id": "DXEhnIziMX5k"
      },
      "execution_count": null,
      "outputs": []
    },
    {
      "cell_type": "code",
      "source": [],
      "metadata": {
        "id": "raeNlSAoMX1F"
      },
      "execution_count": null,
      "outputs": []
    },
    {
      "cell_type": "code",
      "source": [],
      "metadata": {
        "id": "U7uopci2MXxo"
      },
      "execution_count": null,
      "outputs": []
    },
    {
      "cell_type": "code",
      "source": [],
      "metadata": {
        "id": "KqIP6WYlhSaM"
      },
      "execution_count": null,
      "outputs": []
    },
    {
      "cell_type": "markdown",
      "source": [
        "# Moving Average Layer"
      ],
      "metadata": {
        "id": "LZO4-id6BJK1"
      }
    },
    {
      "cell_type": "code",
      "source": [],
      "metadata": {
        "id": "kI38lLPwhSX9"
      },
      "execution_count": null,
      "outputs": []
    },
    {
      "cell_type": "code",
      "source": [
        "\n",
        "# with input shape (None, input_size, 1)\n",
        "# output shape is (None, input_size, 1*len(periods))\n",
        "\n",
        "\n",
        "# The MovingAverageLayer calculates the moving average of each input &\n",
        "# outputs a new feature for each input and period\n",
        "@keras.utils.register_keras_serializable()\n",
        "class MovingAverageLayer(tf.keras.layers.Layer):\n",
        "    def __init__(self, periods=range(2,5), **kwargs):\n",
        "        super().__init__(**kwargs)\n",
        "        if not isinstance(periods, list):\n",
        "            if isinstance(periods, int):\n",
        "                self.periods = [periods]\n",
        "            elif isinstance(periods, range):\n",
        "                self.periods = list(periods)\n",
        "            else:\n",
        "                raise ValueError(\"periods must be an int or list of ints\")\n",
        "        else:\n",
        "            if not all(isinstance(period, int) for period in periods):\n",
        "                raise ValueError(f\"periods must be a list of all ints ({[p for p in periods]})\")\n",
        "            self.periods = periods\n",
        "        self.output_shape = None\n",
        "        self.avg_layers = [tf.keras.layers.AveragePooling1D(period) for period in self.periods]\n",
        "        print(f\"periods: {[p for p in self.periods]}\")\n",
        "\n",
        "    def build(self, input_shape):\n",
        "        self.output_shape = input_shape + (len(self.periods),)\n",
        "        print(f\"input_shape: {input_shape}\")\n",
        "        print(f\"output_shape: {self.output_shape}\")\n",
        "        super().build(input_shape)\n",
        "\n",
        "    def output_shape(self):\n",
        "        return self.output_shape\n",
        "\n",
        "    def call(self, inputs):\n",
        "        # inputs shape: (batch_size, input_size, 1)\n",
        "        # output shape: (batch_size, input_size, 1*len(periods))\n",
        "        outputs = tf.expand_dims(inputs, axis=-1)\n",
        "\n",
        "        # for each input, calculate the moving average and append it to the output\n",
        "        output = []\n",
        "        for input in inputs:\n",
        "            for avg_layer in self.avg_layers:\n",
        "                output.append(avg_layer(tf.expand_dims(input, axis=0)))\n",
        "\n",
        "        # output shape: (batch_size, input_size, 1*len(periods))\n",
        "        output = tf.stack(output, axis=-1)\n",
        "        return output\n",
        "\n",
        "    def get_config(self):\n",
        "        config = super().get_config()\n",
        "        config.update({\n",
        "            \"periods\": self.periods\n",
        "        })\n",
        "        return config\n",
        "\n",
        "tf.keras.models.Sequential([\n",
        "    tf.keras.layers.InputLayer(input_shape=(72,7)),\n",
        "    MovingAverageLayer([2]),\n",
        "    tf.keras.layers.Dense(1)\n",
        "]).plot_model(MovingAverageLayer([5,10]), show_shapes=True)\n"
      ],
      "metadata": {
        "id": "YcFKzp9ElakV"
      },
      "execution_count": null,
      "outputs": []
    },
    {
      "cell_type": "code",
      "source": [
        "tf.expand_dims([[1,2,3],[2,4,5]], axis=-1).shape\n"
      ],
      "metadata": {
        "id": "eA_06n6qlag-"
      },
      "execution_count": null,
      "outputs": []
    },
    {
      "cell_type": "code",
      "source": [],
      "metadata": {
        "id": "lfIl7R7rhSVg"
      },
      "execution_count": null,
      "outputs": []
    },
    {
      "cell_type": "code",
      "source": [],
      "metadata": {
        "id": "h34_C5IOhSSI"
      },
      "execution_count": null,
      "outputs": []
    },
    {
      "cell_type": "code",
      "source": [],
      "metadata": {
        "id": "Ih024WUIhSPc"
      },
      "execution_count": null,
      "outputs": []
    },
    {
      "cell_type": "code",
      "source": [],
      "metadata": {
        "id": "FAhgy35ohSG9"
      },
      "execution_count": null,
      "outputs": []
    },
    {
      "cell_type": "markdown",
      "source": [
        "# Get ticker data"
      ],
      "metadata": {
        "id": "rRL-ctP6BO3W"
      }
    },
    {
      "cell_type": "code",
      "source": [
        "\n",
        "def date_to_str(date):\n",
        "    return date.strftime(\"%Y-%m-%d\")\n"
      ],
      "metadata": {
        "id": "vijxKpT62Hku"
      },
      "execution_count": null,
      "outputs": []
    },
    {
      "cell_type": "code",
      "source": [
        "\n",
        "def get_ticker_data(symbol, start=\"2000-01-01\", end=date.today()):\n",
        "    try:\n",
        "        # data = yf.Ticker(symbol)\n",
        "        data = yf.download(symbol, start=start, end=end)\n",
        "        print(f\"Downloaded data for {symbol}\")\n",
        "        print(f\"data.shape: {data.shape}\")\n",
        "        print(f\"data.T: {data.T}\")\n",
        "        print(f\"data.describe: {data.describe()}\")\n",
        "        print(f\"data.head(): {data.head()}\")\n",
        "        data = (\n",
        "            data[:]\n",
        "            .rename(columns={\"Open\": \"open\", \"High\": \"high\", \"Low\": \"low\", \"Close\": \"close\"})\n",
        "        )\n",
        "        # hist = data.history(start=start, end=end, interval=\"1d\")\n",
        "        # data = data[:,~data.isna()]\n",
        "        diff = data.diff()\n",
        "        print(f\"diffs: {diff.head()}\")\n",
        "        data = data.reset_index()\n",
        "        print(f\"data: {diff.head()}\")\n",
        "        # add returns column to data\n",
        "        data['returns_1d'] = diff['Adj Close']\n",
        "        # data['returns_1d'] = diff.values\n",
        "        print(f\"data with returns: {diff.head()}\")\n",
        "        data.Date = data.Date.apply(lambda d: d.date())\n",
        "        print(f\"returning data: {diff.head()}\")\n",
        "        return data.dropna()\n",
        "    except Exception as e:\n",
        "        print(f\"caught exception: {e}\")\n",
        "        return None\n",
        "\n",
        "def test_get_ticker_data():\n",
        "    print(\"Getting ticker\")\n",
        "    hist = get_ticker_data(\"AAPL\")\n",
        "    print(f\"Got history: {hist}\")\n",
        "    print(hist.head())\n",
        "    assert hist is not None\n",
        "    assert len(hist.values) > 0\n",
        "    print(hist.columns)\n",
        "    assert hist.columns.tolist() == ['Date', 'Open', 'High', 'Low', 'Close', 'Volume', 'Price change']\n",
        "    assert hist.Date.dtype == np.datetime64\n",
        "    assert hist.Open.dtype == np.float64\n",
        "    assert hist.High.dtype == np.float64\n",
        "    assert hist.Low.dtype == np.float64\n",
        "    assert hist.Close.dtype == np.float64\n",
        "    assert hist.Volume.dtype == np.float64\n",
        "    assert hist['price change'].dtype == np.float64\n",
        "    assert hist.shape[0] > 0\n",
        "    assert hist.shape[1] == 7\n",
        "\n",
        "test_get_ticker_data()\n",
        "\n",
        "\n"
      ],
      "metadata": {
        "id": "32MndnYX2HhR"
      },
      "execution_count": null,
      "outputs": []
    },
    {
      "cell_type": "markdown",
      "source": [
        "# Simple trading strategy class"
      ],
      "metadata": {
        "id": "Z-XX6mZtBSx4"
      }
    },
    {
      "cell_type": "code",
      "source": [
        "from typing import Callable, Tuple\n",
        "\n",
        "class Strategy:\n",
        "    def __init__(self, buy_cond: Tuple|Callable, sell_cond: Tuple|Callable):\n",
        "        if type(buy_cond) == tuple and len(buy_cond) == 2:\n",
        "            buy_cond = lambda: buy_cond\n",
        "        elif isinstance(buy_cond, Callable):\n",
        "            # self.buy_cond = buy_cond\n",
        "            pass\n",
        "        else:\n",
        "            raise ValueError(\"buy_cond must be a tuple or function\")\n",
        "\n",
        "        if type(sell_cond) == tuple and len(sell_cond) == 2:\n",
        "            sell_cond = lambda: sell_cond\n",
        "        elif isinstance(sell_cond, Callable):\n",
        "            # self.sell_cond = sell_cond\n",
        "            pass\n",
        "        else:\n",
        "            raise ValueError(\"sell_cond must be a tuple or function\")\n",
        "\n",
        "        buy_dir, buy_periods = buy_cond()\n",
        "        sell_dir, sell_periods = sell_cond()\n",
        "\n",
        "        if buy_dir not in ['increase', 'decrease']\n",
        "            raise ValueError(\"buy_cond must have a buy direction\")\n",
        "        if sell_dir not in ['increase', 'decrease']\n",
        "            raise ValueError(\"buy_cond must have a buy direction\")\n",
        "        if not isinstance(buy_periods, int) or buy_periods <= 0:\n",
        "            raise ValueError(\"buy_periods must have a positive number of periods\")\n",
        "        if not isinstance(sell_periods, int) or sell_periods <= 0:\n",
        "            raise ValueError(\"sell_periods must have a positive number of periods\")\n",
        "\n",
        "        self.buy_dir = buy_dir\n",
        "        self.buy_periods = buy_periods\n",
        "        self.sell_dir = sell_dir\n",
        "        self.sell_periods = sell_periods\n",
        "\n",
        "\n"
      ],
      "metadata": {
        "id": "KEHjY9tB2HfC"
      },
      "execution_count": null,
      "outputs": []
    },
    {
      "cell_type": "code",
      "source": [
        "\n",
        "def execute_strategy(history, strategy, verbose=1):\n",
        "    initial_value = 100\n",
        "    current_value = initial_value\n",
        "    positions = []\n",
        "\n",
        "    holding = False\n",
        "\n",
        "    # number of bars since price has increased or decreased\n",
        "    n_bars_dec = 0\n",
        "    n_bars_inc = 0\n",
        "\n",
        "    # backtest the strategy day-by-day\n",
        "    for i, row in history.iterrows():\n",
        "\n",
        "        if row.returns_1d < 0:\n",
        "            n_bars_dec += 1\n",
        "            n_bars_inc = 0\n",
        "        else:\n",
        "            n_bars_inc += 1\n",
        "            n_bars_dec = 0\n",
        "\n",
        "    if not holding:\n",
        "        if (strategy.buy_dir == 'decrease' and n_bars_dec == strategy.buy_periods) or (strategy.buy_dir == 'increase' and n_bars_inc == strategy.buy_periods):\n",
        "\n",
        "\n"
      ],
      "metadata": {
        "id": "g6LnrZJS-buR"
      },
      "execution_count": null,
      "outputs": []
    },
    {
      "cell_type": "code",
      "source": [],
      "metadata": {
        "id": "JB-JlUyr-bma"
      },
      "execution_count": null,
      "outputs": []
    },
    {
      "cell_type": "code",
      "source": [],
      "metadata": {
        "id": "ycaTkucS2HcG"
      },
      "execution_count": null,
      "outputs": []
    },
    {
      "cell_type": "code",
      "source": [],
      "metadata": {
        "id": "cxwxKIxd2HZ3"
      },
      "execution_count": null,
      "outputs": []
    }
  ]
}